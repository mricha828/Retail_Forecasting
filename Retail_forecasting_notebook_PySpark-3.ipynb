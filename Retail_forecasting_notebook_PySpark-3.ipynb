{
  "cells": [
    {
      "cell_type": "code",
      "execution_count": null,
      "id": "65a0e906",
      "metadata": {
        "colab": {
          "base_uri": "https://localhost:8080/"
        },
        "id": "65a0e906",
        "outputId": "9b4d479f-1642-46be-aa97-dccb47a4702d"
      },
      "outputs": [
        {
          "output_type": "stream",
          "name": "stdout",
          "text": [
            "Collecting pyspark\n",
            "  Downloading pyspark-3.4.1.tar.gz (310.8 MB)\n",
            "\u001b[2K     \u001b[90m━━━━━━━━━━━━━━━━━━━━━━━━━━━━━━━━━━━━━━━\u001b[0m \u001b[32m310.8/310.8 MB\u001b[0m \u001b[31m4.6 MB/s\u001b[0m eta \u001b[36m0:00:00\u001b[0m\n",
            "\u001b[?25h  Preparing metadata (setup.py) ... \u001b[?25l\u001b[?25hdone\n",
            "Requirement already satisfied: py4j in /usr/local/lib/python3.10/dist-packages (0.10.9.7)\n",
            "Building wheels for collected packages: pyspark\n",
            "  Building wheel for pyspark (setup.py) ... \u001b[?25l\u001b[?25hdone\n",
            "  Created wheel for pyspark: filename=pyspark-3.4.1-py2.py3-none-any.whl size=311285387 sha256=d5e920e9af77814f32468c81ab0d90b387d3c89f9d38dc5340fd8270a0bf28b4\n",
            "  Stored in directory: /root/.cache/pip/wheels/0d/77/a3/ff2f74cc9ab41f8f594dabf0579c2a7c6de920d584206e0834\n",
            "Successfully built pyspark\n",
            "Installing collected packages: pyspark\n",
            "Successfully installed pyspark-3.4.1\n"
          ]
        }
      ],
      "source": [
        "! pip install pyspark py4j"
      ]
    },
    {
      "cell_type": "code",
      "execution_count": null,
      "id": "1c1bca49",
      "metadata": {
        "id": "1c1bca49"
      },
      "outputs": [],
      "source": [
        "import datetime as dt\n",
        "import pandas as pd\n",
        "import numpy as np\n",
        "from pyspark.sql import functions as F\n",
        "from pyspark.sql import Window\n",
        "from pyspark.sql.types import *"
      ]
    },
    {
      "cell_type": "code",
      "source": [
        "from google.colab import drive\n",
        "drive.mount('/content/drive')"
      ],
      "metadata": {
        "id": "_fVGciAv2IBA",
        "colab": {
          "base_uri": "https://localhost:8080/"
        },
        "outputId": "215a30a5-0f4e-4a9a-f075-01ecbf2bf048"
      },
      "id": "_fVGciAv2IBA",
      "execution_count": null,
      "outputs": [
        {
          "output_type": "stream",
          "name": "stdout",
          "text": [
            "Mounted at /content/drive\n"
          ]
        }
      ]
    },
    {
      "cell_type": "markdown",
      "source": [
        "Convert Excel format to CSV format."
      ],
      "metadata": {
        "id": "YMUG1ySYV0S8"
      },
      "id": "YMUG1ySYV0S8"
    },
    {
      "cell_type": "code",
      "source": [
        "#excel_path = '/Users/shalu/Downloads/forecasting_case_study.xlsx - Sheet1.csv'\n",
        "#csv_output_path = '/content/drive/MyDrive/Data_Glacier/Week7/forecasting_case_study.csv'\n",
        "\n",
        "df = pd.read_csv('/content/drive/MyDrive/Colab Notebooks/DG/forecasting_case_study.csv')\n",
        "\n",
        "#df.to_csv(csv_output_path, index=False)"
      ],
      "metadata": {
        "id": "xorfYVdGIBDE"
      },
      "id": "xorfYVdGIBDE",
      "execution_count": null,
      "outputs": []
    },
    {
      "cell_type": "code",
      "source": [
        "from pyspark.sql import SparkSession"
      ],
      "metadata": {
        "id": "5ZDKOx35INUn"
      },
      "id": "5ZDKOx35INUn",
      "execution_count": null,
      "outputs": []
    },
    {
      "cell_type": "code",
      "source": [
        "spark = SparkSession.builder.appName(\"ReadDataExample\").getOrCreate()"
      ],
      "metadata": {
        "id": "ixSk7nZ2INNz"
      },
      "id": "ixSk7nZ2INNz",
      "execution_count": null,
      "outputs": []
    },
    {
      "cell_type": "markdown",
      "source": [
        "Read csv."
      ],
      "metadata": {
        "id": "ZOnBwB1QV-7f"
      },
      "id": "ZOnBwB1QV-7f"
    },
    {
      "cell_type": "code",
      "source": [
        "csv_file_path = \"/content/drive/MyDrive/Colab Notebooks/DG/forecasting_case_study.csv\"\n",
        "df = spark.read.csv(csv_file_path, header=True, inferSchema=True)"
      ],
      "metadata": {
        "id": "I3FZA6BNINFr"
      },
      "id": "I3FZA6BNINFr",
      "execution_count": null,
      "outputs": []
    },
    {
      "cell_type": "code",
      "source": [
        "df.show(5)"
      ],
      "metadata": {
        "id": "syr8LD5rIpcc",
        "colab": {
          "base_uri": "https://localhost:8080/"
        },
        "outputId": "25581374-6486-49a4-d384-9741523f1775"
      },
      "id": "syr8LD5rIpcc",
      "execution_count": null,
      "outputs": [
        {
          "output_type": "stream",
          "name": "stdout",
          "text": [
            "+-------+---------+-----+------------------+--------------+---------------+---------------+---------------+----------+-----+------+---------+\n",
            "|Product|     date|Sales|Price Discount (%)|In-Store Promo|Catalogue Promo|Store End Promo|Google_Mobility|Covid_Flag|V_DAY|EASTER|CHRISTMAS|\n",
            "+-------+---------+-----+------------------+--------------+---------------+---------------+---------------+----------+-----+------+---------+\n",
            "|   SKU1| 2/5/2017|27750|                0%|             0|              0|              0|            0.0|         0|    0|     0|        0|\n",
            "|   SKU1|2/12/2017|29023|                0%|             1|              0|              1|            0.0|         0|    1|     0|        0|\n",
            "|   SKU1|2/19/2017|45630|               17%|             0|              0|              0|            0.0|         0|    0|     0|        0|\n",
            "|   SKU1|2/26/2017|26789|                0%|             1|              0|              1|            0.0|         0|    0|     0|        0|\n",
            "|   SKU1| 3/5/2017|41999|               17%|             0|              0|              0|            0.0|         0|    0|     0|        0|\n",
            "+-------+---------+-----+------------------+--------------+---------------+---------------+---------------+----------+-----+------+---------+\n",
            "only showing top 5 rows\n",
            "\n"
          ]
        }
      ]
    },
    {
      "cell_type": "code",
      "source": [
        "display( df )"
      ],
      "metadata": {
        "id": "EEqZwnw0JW2m",
        "colab": {
          "base_uri": "https://localhost:8080/",
          "height": 53
        },
        "outputId": "b863064a-2643-4ae0-a835-a36776fe206e"
      },
      "id": "EEqZwnw0JW2m",
      "execution_count": null,
      "outputs": [
        {
          "output_type": "display_data",
          "data": {
            "text/plain": [
              "DataFrame[Product: string, date: string, Sales: int, Price Discount (%): string, In-Store Promo: int, Catalogue Promo: int, Store End Promo: int, Google_Mobility: double, Covid_Flag: int, V_DAY: int, EASTER: int, CHRISTMAS: int]"
            ]
          },
          "metadata": {}
        }
      ]
    },
    {
      "cell_type": "markdown",
      "source": [
        "Check if there are missing values."
      ],
      "metadata": {
        "id": "N8VTRLrjWL6W"
      },
      "id": "N8VTRLrjWL6W"
    },
    {
      "cell_type": "code",
      "source": [
        "from pyspark.sql.functions import col, isnan, when, count\n",
        "\n",
        "missing_counts = df.select([count(when(col(c).isNull(), c)).alias(c) for c in df.columns if df.schema[c].dataType != 'date'])\n",
        "missing_counts.show()"
      ],
      "metadata": {
        "id": "O6VL65HPJY3s",
        "colab": {
          "base_uri": "https://localhost:8080/"
        },
        "outputId": "b41dd7bb-8616-43bf-c836-a86dc7f544ee"
      },
      "id": "O6VL65HPJY3s",
      "execution_count": null,
      "outputs": [
        {
          "output_type": "stream",
          "name": "stdout",
          "text": [
            "+-------+----+-----+------------------+--------------+---------------+---------------+---------------+----------+-----+------+---------+\n",
            "|Product|date|Sales|Price Discount (%)|In-Store Promo|Catalogue Promo|Store End Promo|Google_Mobility|Covid_Flag|V_DAY|EASTER|CHRISTMAS|\n",
            "+-------+----+-----+------------------+--------------+---------------+---------------+---------------+----------+-----+------+---------+\n",
            "|      0|   0|    0|                 0|             0|              0|              0|              0|         0|    0|     0|        0|\n",
            "+-------+----+-----+------------------+--------------+---------------+---------------+---------------+----------+-----+------+---------+\n",
            "\n"
          ]
        }
      ]
    },
    {
      "cell_type": "markdown",
      "source": [
        "**Observation**  \n",
        "No missng values existing"
      ],
      "metadata": {
        "id": "lY3v0AZbEVpa"
      },
      "id": "lY3v0AZbEVpa"
    },
    {
      "cell_type": "code",
      "source": [
        "df.count(), len(df.columns)"
      ],
      "metadata": {
        "id": "JKY_Wi-EriHU",
        "colab": {
          "base_uri": "https://localhost:8080/"
        },
        "outputId": "3042e10f-409f-4d02-e836-d3993deb9ac9"
      },
      "id": "JKY_Wi-EriHU",
      "execution_count": null,
      "outputs": [
        {
          "output_type": "execute_result",
          "data": {
            "text/plain": [
              "(1218, 12)"
            ]
          },
          "metadata": {},
          "execution_count": 16
        }
      ]
    },
    {
      "cell_type": "markdown",
      "source": [
        "**Observation**  \n",
        "1218 observations and 12 columns."
      ],
      "metadata": {
        "id": "pOl05dEKWX-Q"
      },
      "id": "pOl05dEKWX-Q"
    },
    {
      "cell_type": "code",
      "source": [
        "df.printSchema()"
      ],
      "metadata": {
        "id": "jxck4ip0rsvb",
        "colab": {
          "base_uri": "https://localhost:8080/"
        },
        "outputId": "a051b9e3-c5c6-4102-d54c-bab6bcd30a4f"
      },
      "id": "jxck4ip0rsvb",
      "execution_count": null,
      "outputs": [
        {
          "output_type": "stream",
          "name": "stdout",
          "text": [
            "root\n",
            " |-- Product: string (nullable = true)\n",
            " |-- date: string (nullable = true)\n",
            " |-- Sales: integer (nullable = true)\n",
            " |-- Price Discount (%): string (nullable = true)\n",
            " |-- In-Store Promo: integer (nullable = true)\n",
            " |-- Catalogue Promo: integer (nullable = true)\n",
            " |-- Store End Promo: integer (nullable = true)\n",
            " |-- Google_Mobility: double (nullable = true)\n",
            " |-- Covid_Flag: integer (nullable = true)\n",
            " |-- V_DAY: integer (nullable = true)\n",
            " |-- EASTER: integer (nullable = true)\n",
            " |-- CHRISTMAS: integer (nullable = true)\n",
            "\n"
          ]
        }
      ]
    },
    {
      "cell_type": "markdown",
      "source": [
        "**Observation**   \n",
        "PySpark does not support \"categorical\" data type. So, we don't convert the data type for \"In-Store Promo\", \"Catalogue Promo\", \"Store End Promo\", \"Covid_Flag\", \"V_DAY\", \"EASTER\", and \"CHRISTMAS\".  In general, PySpark uses \"string\" and \"integer\" for \"categorical\" values.  "
      ],
      "metadata": {
        "id": "sp46NV8mYLNu"
      },
      "id": "sp46NV8mYLNu"
    },
    {
      "cell_type": "code",
      "source": [
        "df.select(\"Sales\", \"Google_Mobility\")"
      ],
      "metadata": {
        "id": "kU6ko_2er4qS",
        "colab": {
          "base_uri": "https://localhost:8080/"
        },
        "outputId": "8c306c24-62d0-4070-9e57-9d9bbf458171"
      },
      "id": "kU6ko_2er4qS",
      "execution_count": null,
      "outputs": [
        {
          "output_type": "execute_result",
          "data": {
            "text/plain": [
              "DataFrame[Sales: int, Google_Mobility: double]"
            ]
          },
          "metadata": {},
          "execution_count": 18
        }
      ]
    },
    {
      "cell_type": "markdown",
      "source": [
        "Validate the name of columns. Put _ between word in stead of space."
      ],
      "metadata": {
        "id": "JVaipz7soQJV"
      },
      "id": "JVaipz7soQJV"
    },
    {
      "cell_type": "code",
      "source": [
        "df = (\n",
        "    df\n",
        "    .withColumnRenamed(\"Price Discount (%)\", \"Price_Discount_(%)\")\n",
        "    .withColumnRenamed(\"In-Store Promo\", \"In-Store_Promo\")\n",
        "    .withColumnRenamed(\"Catalogue Promo\", \"Catalogue_Promo\")\n",
        "    .withColumnRenamed(\"Store End Promo\", \"Store_End_Promo\")\n",
        ")"
      ],
      "metadata": {
        "id": "NZWXY47Ms7nX"
      },
      "id": "NZWXY47Ms7nX",
      "execution_count": null,
      "outputs": []
    },
    {
      "cell_type": "code",
      "source": [
        "df.show(5)"
      ],
      "metadata": {
        "id": "g-GkHrHJs7j9",
        "colab": {
          "base_uri": "https://localhost:8080/"
        },
        "outputId": "dbf5adb1-f1b2-4cfa-898e-d0ef79b0db5c"
      },
      "id": "g-GkHrHJs7j9",
      "execution_count": null,
      "outputs": [
        {
          "output_type": "stream",
          "name": "stdout",
          "text": [
            "+-------+---------+-----+------------------+--------------+---------------+---------------+---------------+----------+-----+------+---------+\n",
            "|Product|     date|Sales|Price_Discount_(%)|In-Store_Promo|Catalogue_Promo|Store_End_Promo|Google_Mobility|Covid_Flag|V_DAY|EASTER|CHRISTMAS|\n",
            "+-------+---------+-----+------------------+--------------+---------------+---------------+---------------+----------+-----+------+---------+\n",
            "|   SKU1| 2/5/2017|27750|                0%|             0|              0|              0|            0.0|         0|    0|     0|        0|\n",
            "|   SKU1|2/12/2017|29023|                0%|             1|              0|              1|            0.0|         0|    1|     0|        0|\n",
            "|   SKU1|2/19/2017|45630|               17%|             0|              0|              0|            0.0|         0|    0|     0|        0|\n",
            "|   SKU1|2/26/2017|26789|                0%|             1|              0|              1|            0.0|         0|    0|     0|        0|\n",
            "|   SKU1| 3/5/2017|41999|               17%|             0|              0|              0|            0.0|         0|    0|     0|        0|\n",
            "+-------+---------+-----+------------------+--------------+---------------+---------------+---------------+----------+-----+------+---------+\n",
            "only showing top 5 rows\n",
            "\n"
          ]
        }
      ]
    },
    {
      "cell_type": "code",
      "source": [
        "duplicates = df.groupBy(\"Product\").count().filter(col(\"count\") > 1)\n",
        "duplicates.show()"
      ],
      "metadata": {
        "id": "hoBFVJDLwprU",
        "colab": {
          "base_uri": "https://localhost:8080/"
        },
        "outputId": "d48f3d97-7d61-487f-c616-bdf27e2310bf"
      },
      "id": "hoBFVJDLwprU",
      "execution_count": null,
      "outputs": [
        {
          "output_type": "stream",
          "name": "stdout",
          "text": [
            "+-------+-----+\n",
            "|Product|count|\n",
            "+-------+-----+\n",
            "|   SKU3|  204|\n",
            "|   SKU4|  204|\n",
            "|   SKU1|  204|\n",
            "|   SKU5|  204|\n",
            "|   SKU6|  198|\n",
            "|   SKU2|  204|\n",
            "+-------+-----+\n",
            "\n"
          ]
        }
      ]
    },
    {
      "cell_type": "markdown",
      "source": [
        "**Observation**  \n",
        "6products"
      ],
      "metadata": {
        "id": "QDolmq1VEC8q"
      },
      "id": "QDolmq1VEC8q"
    },
    {
      "cell_type": "code",
      "source": [
        "description = df.describe()\n",
        "description.show()"
      ],
      "metadata": {
        "id": "7zUrTJEms7hi",
        "colab": {
          "base_uri": "https://localhost:8080/"
        },
        "outputId": "8580e050-6105-4a09-b880-913157c492c5"
      },
      "id": "7zUrTJEms7hi",
      "execution_count": null,
      "outputs": [
        {
          "output_type": "stream",
          "name": "stdout",
          "text": [
            "+-------+-------+---------+------------------+------------------+------------------+-------------------+-------------------+-------------------+-------------------+--------------------+--------------------+--------------------+\n",
            "|summary|Product|     date|             Sales|Price_Discount_(%)|    In-Store_Promo|    Catalogue_Promo|    Store_End_Promo|    Google_Mobility|         Covid_Flag|               V_DAY|              EASTER|           CHRISTMAS|\n",
            "+-------+-------+---------+------------------+------------------+------------------+-------------------+-------------------+-------------------+-------------------+--------------------+--------------------+--------------------+\n",
            "|  count|   1218|     1218|              1218|              1218|              1218|               1218|               1218|               1218|               1218|                1218|                1218|                1218|\n",
            "|   mean|   null|     null|30294.678981937603|              null|0.4720853858784893|0.21264367816091953|0.34893267651888343|-2.3774055829228224|0.22660098522167488|0.019704433497536946|0.019704433497536946|0.018883415435139574|\n",
            "| stddev|   null|     null|  35032.5272965258|              null|0.4994252268419534|0.40934571855807333|0.47682841234861867|  5.806290981009834| 0.4188042296935616| 0.13903970926580328| 0.13903970926580325| 0.13616921612117958|\n",
            "|    min|   SKU1|1/12/2020|                 0|                0%|                 0|                  0|                  0|             -28.49|                  0|                   0|                   0|                   0|\n",
            "|    max|   SKU6| 9/9/2018|            288322|                9%|                 1|                  1|                  1|                3.9|                  1|                   1|                   1|                   1|\n",
            "+-------+-------+---------+------------------+------------------+------------------+-------------------+-------------------+-------------------+-------------------+--------------------+--------------------+--------------------+\n",
            "\n"
          ]
        }
      ]
    },
    {
      "cell_type": "code",
      "source": [
        "df.describe().toPandas()"
      ],
      "metadata": {
        "id": "EicBLDTTdvJ-",
        "colab": {
          "base_uri": "https://localhost:8080/",
          "height": 226
        },
        "outputId": "65b92b67-6e7d-4e22-f4ae-8c5d663b02f5"
      },
      "id": "EicBLDTTdvJ-",
      "execution_count": null,
      "outputs": [
        {
          "output_type": "execute_result",
          "data": {
            "text/plain": [
              "  summary Product       date               Sales Price_Discount_(%)  \\\n",
              "0   count    1218       1218                1218               1218   \n",
              "1    mean    None       None  30294.678981937603               None   \n",
              "2  stddev    None       None    35032.5272965258               None   \n",
              "3     min    SKU1  1/12/2020                   0                 0%   \n",
              "4     max    SKU6   9/9/2018              288322                 9%   \n",
              "\n",
              "       In-Store_Promo      Catalogue_Promo      Store_End_Promo  \\\n",
              "0                1218                 1218                 1218   \n",
              "1  0.4720853858784893  0.21264367816091953  0.34893267651888343   \n",
              "2  0.4994252268419534  0.40934571855807333  0.47682841234861867   \n",
              "3                   0                    0                    0   \n",
              "4                   1                    1                    1   \n",
              "\n",
              "       Google_Mobility           Covid_Flag                 V_DAY  \\\n",
              "0                 1218                 1218                  1218   \n",
              "1  -2.3774055829228224  0.22660098522167488  0.019704433497536946   \n",
              "2    5.806290981009834   0.4188042296935616   0.13903970926580328   \n",
              "3               -28.49                    0                     0   \n",
              "4                  3.9                    1                     1   \n",
              "\n",
              "                 EASTER             CHRISTMAS  \n",
              "0                  1218                  1218  \n",
              "1  0.019704433497536946  0.018883415435139574  \n",
              "2   0.13903970926580325   0.13616921612117958  \n",
              "3                     0                     0  \n",
              "4                     1                     1  "
            ],
            "text/html": [
              "\n",
              "  <div id=\"df-534bbb29-d8ce-4c42-bdd2-e13dd938e505\" class=\"colab-df-container\">\n",
              "    <div>\n",
              "<style scoped>\n",
              "    .dataframe tbody tr th:only-of-type {\n",
              "        vertical-align: middle;\n",
              "    }\n",
              "\n",
              "    .dataframe tbody tr th {\n",
              "        vertical-align: top;\n",
              "    }\n",
              "\n",
              "    .dataframe thead th {\n",
              "        text-align: right;\n",
              "    }\n",
              "</style>\n",
              "<table border=\"1\" class=\"dataframe\">\n",
              "  <thead>\n",
              "    <tr style=\"text-align: right;\">\n",
              "      <th></th>\n",
              "      <th>summary</th>\n",
              "      <th>Product</th>\n",
              "      <th>date</th>\n",
              "      <th>Sales</th>\n",
              "      <th>Price_Discount_(%)</th>\n",
              "      <th>In-Store_Promo</th>\n",
              "      <th>Catalogue_Promo</th>\n",
              "      <th>Store_End_Promo</th>\n",
              "      <th>Google_Mobility</th>\n",
              "      <th>Covid_Flag</th>\n",
              "      <th>V_DAY</th>\n",
              "      <th>EASTER</th>\n",
              "      <th>CHRISTMAS</th>\n",
              "    </tr>\n",
              "  </thead>\n",
              "  <tbody>\n",
              "    <tr>\n",
              "      <th>0</th>\n",
              "      <td>count</td>\n",
              "      <td>1218</td>\n",
              "      <td>1218</td>\n",
              "      <td>1218</td>\n",
              "      <td>1218</td>\n",
              "      <td>1218</td>\n",
              "      <td>1218</td>\n",
              "      <td>1218</td>\n",
              "      <td>1218</td>\n",
              "      <td>1218</td>\n",
              "      <td>1218</td>\n",
              "      <td>1218</td>\n",
              "      <td>1218</td>\n",
              "    </tr>\n",
              "    <tr>\n",
              "      <th>1</th>\n",
              "      <td>mean</td>\n",
              "      <td>None</td>\n",
              "      <td>None</td>\n",
              "      <td>30294.678981937603</td>\n",
              "      <td>None</td>\n",
              "      <td>0.4720853858784893</td>\n",
              "      <td>0.21264367816091953</td>\n",
              "      <td>0.34893267651888343</td>\n",
              "      <td>-2.3774055829228224</td>\n",
              "      <td>0.22660098522167488</td>\n",
              "      <td>0.019704433497536946</td>\n",
              "      <td>0.019704433497536946</td>\n",
              "      <td>0.018883415435139574</td>\n",
              "    </tr>\n",
              "    <tr>\n",
              "      <th>2</th>\n",
              "      <td>stddev</td>\n",
              "      <td>None</td>\n",
              "      <td>None</td>\n",
              "      <td>35032.5272965258</td>\n",
              "      <td>None</td>\n",
              "      <td>0.4994252268419534</td>\n",
              "      <td>0.40934571855807333</td>\n",
              "      <td>0.47682841234861867</td>\n",
              "      <td>5.806290981009834</td>\n",
              "      <td>0.4188042296935616</td>\n",
              "      <td>0.13903970926580328</td>\n",
              "      <td>0.13903970926580325</td>\n",
              "      <td>0.13616921612117958</td>\n",
              "    </tr>\n",
              "    <tr>\n",
              "      <th>3</th>\n",
              "      <td>min</td>\n",
              "      <td>SKU1</td>\n",
              "      <td>1/12/2020</td>\n",
              "      <td>0</td>\n",
              "      <td>0%</td>\n",
              "      <td>0</td>\n",
              "      <td>0</td>\n",
              "      <td>0</td>\n",
              "      <td>-28.49</td>\n",
              "      <td>0</td>\n",
              "      <td>0</td>\n",
              "      <td>0</td>\n",
              "      <td>0</td>\n",
              "    </tr>\n",
              "    <tr>\n",
              "      <th>4</th>\n",
              "      <td>max</td>\n",
              "      <td>SKU6</td>\n",
              "      <td>9/9/2018</td>\n",
              "      <td>288322</td>\n",
              "      <td>9%</td>\n",
              "      <td>1</td>\n",
              "      <td>1</td>\n",
              "      <td>1</td>\n",
              "      <td>3.9</td>\n",
              "      <td>1</td>\n",
              "      <td>1</td>\n",
              "      <td>1</td>\n",
              "      <td>1</td>\n",
              "    </tr>\n",
              "  </tbody>\n",
              "</table>\n",
              "</div>\n",
              "    <div class=\"colab-df-buttons\">\n",
              "\n",
              "  <div class=\"colab-df-container\">\n",
              "    <button class=\"colab-df-convert\" onclick=\"convertToInteractive('df-534bbb29-d8ce-4c42-bdd2-e13dd938e505')\"\n",
              "            title=\"Convert this dataframe to an interactive table.\"\n",
              "            style=\"display:none;\">\n",
              "\n",
              "  <svg xmlns=\"http://www.w3.org/2000/svg\" height=\"24px\" viewBox=\"0 -960 960 960\">\n",
              "    <path d=\"M120-120v-720h720v720H120Zm60-500h600v-160H180v160Zm220 220h160v-160H400v160Zm0 220h160v-160H400v160ZM180-400h160v-160H180v160Zm440 0h160v-160H620v160ZM180-180h160v-160H180v160Zm440 0h160v-160H620v160Z\"/>\n",
              "  </svg>\n",
              "    </button>\n",
              "\n",
              "  <style>\n",
              "    .colab-df-container {\n",
              "      display:flex;\n",
              "      gap: 12px;\n",
              "    }\n",
              "\n",
              "    .colab-df-convert {\n",
              "      background-color: #E8F0FE;\n",
              "      border: none;\n",
              "      border-radius: 50%;\n",
              "      cursor: pointer;\n",
              "      display: none;\n",
              "      fill: #1967D2;\n",
              "      height: 32px;\n",
              "      padding: 0 0 0 0;\n",
              "      width: 32px;\n",
              "    }\n",
              "\n",
              "    .colab-df-convert:hover {\n",
              "      background-color: #E2EBFA;\n",
              "      box-shadow: 0px 1px 2px rgba(60, 64, 67, 0.3), 0px 1px 3px 1px rgba(60, 64, 67, 0.15);\n",
              "      fill: #174EA6;\n",
              "    }\n",
              "\n",
              "    .colab-df-buttons div {\n",
              "      margin-bottom: 4px;\n",
              "    }\n",
              "\n",
              "    [theme=dark] .colab-df-convert {\n",
              "      background-color: #3B4455;\n",
              "      fill: #D2E3FC;\n",
              "    }\n",
              "\n",
              "    [theme=dark] .colab-df-convert:hover {\n",
              "      background-color: #434B5C;\n",
              "      box-shadow: 0px 1px 3px 1px rgba(0, 0, 0, 0.15);\n",
              "      filter: drop-shadow(0px 1px 2px rgba(0, 0, 0, 0.3));\n",
              "      fill: #FFFFFF;\n",
              "    }\n",
              "  </style>\n",
              "\n",
              "    <script>\n",
              "      const buttonEl =\n",
              "        document.querySelector('#df-534bbb29-d8ce-4c42-bdd2-e13dd938e505 button.colab-df-convert');\n",
              "      buttonEl.style.display =\n",
              "        google.colab.kernel.accessAllowed ? 'block' : 'none';\n",
              "\n",
              "      async function convertToInteractive(key) {\n",
              "        const element = document.querySelector('#df-534bbb29-d8ce-4c42-bdd2-e13dd938e505');\n",
              "        const dataTable =\n",
              "          await google.colab.kernel.invokeFunction('convertToInteractive',\n",
              "                                                    [key], {});\n",
              "        if (!dataTable) return;\n",
              "\n",
              "        const docLinkHtml = 'Like what you see? Visit the ' +\n",
              "          '<a target=\"_blank\" href=https://colab.research.google.com/notebooks/data_table.ipynb>data table notebook</a>'\n",
              "          + ' to learn more about interactive tables.';\n",
              "        element.innerHTML = '';\n",
              "        dataTable['output_type'] = 'display_data';\n",
              "        await google.colab.output.renderOutput(dataTable, element);\n",
              "        const docLink = document.createElement('div');\n",
              "        docLink.innerHTML = docLinkHtml;\n",
              "        element.appendChild(docLink);\n",
              "      }\n",
              "    </script>\n",
              "  </div>\n",
              "\n",
              "\n",
              "<div id=\"df-1b21072b-2926-4bb6-9afc-12c2db648598\">\n",
              "  <button class=\"colab-df-quickchart\" onclick=\"quickchart('df-1b21072b-2926-4bb6-9afc-12c2db648598')\"\n",
              "            title=\"Suggest charts.\"\n",
              "            style=\"display:none;\">\n",
              "\n",
              "<svg xmlns=\"http://www.w3.org/2000/svg\" height=\"24px\"viewBox=\"0 0 24 24\"\n",
              "     width=\"24px\">\n",
              "    <g>\n",
              "        <path d=\"M19 3H5c-1.1 0-2 .9-2 2v14c0 1.1.9 2 2 2h14c1.1 0 2-.9 2-2V5c0-1.1-.9-2-2-2zM9 17H7v-7h2v7zm4 0h-2V7h2v10zm4 0h-2v-4h2v4z\"/>\n",
              "    </g>\n",
              "</svg>\n",
              "  </button>\n",
              "\n",
              "<style>\n",
              "  .colab-df-quickchart {\n",
              "    background-color: #E8F0FE;\n",
              "    border: none;\n",
              "    border-radius: 50%;\n",
              "    cursor: pointer;\n",
              "    display: none;\n",
              "    fill: #1967D2;\n",
              "    height: 32px;\n",
              "    padding: 0 0 0 0;\n",
              "    width: 32px;\n",
              "  }\n",
              "\n",
              "  .colab-df-quickchart:hover {\n",
              "    background-color: #E2EBFA;\n",
              "    box-shadow: 0px 1px 2px rgba(60, 64, 67, 0.3), 0px 1px 3px 1px rgba(60, 64, 67, 0.15);\n",
              "    fill: #174EA6;\n",
              "  }\n",
              "\n",
              "  [theme=dark] .colab-df-quickchart {\n",
              "    background-color: #3B4455;\n",
              "    fill: #D2E3FC;\n",
              "  }\n",
              "\n",
              "  [theme=dark] .colab-df-quickchart:hover {\n",
              "    background-color: #434B5C;\n",
              "    box-shadow: 0px 1px 3px 1px rgba(0, 0, 0, 0.15);\n",
              "    filter: drop-shadow(0px 1px 2px rgba(0, 0, 0, 0.3));\n",
              "    fill: #FFFFFF;\n",
              "  }\n",
              "</style>\n",
              "\n",
              "  <script>\n",
              "    async function quickchart(key) {\n",
              "      const charts = await google.colab.kernel.invokeFunction(\n",
              "          'suggestCharts', [key], {});\n",
              "    }\n",
              "    (() => {\n",
              "      let quickchartButtonEl =\n",
              "        document.querySelector('#df-1b21072b-2926-4bb6-9afc-12c2db648598 button');\n",
              "      quickchartButtonEl.style.display =\n",
              "        google.colab.kernel.accessAllowed ? 'block' : 'none';\n",
              "    })();\n",
              "  </script>\n",
              "</div>\n",
              "    </div>\n",
              "  </div>\n"
            ]
          },
          "metadata": {},
          "execution_count": 23
        }
      ]
    },
    {
      "cell_type": "markdown",
      "source": [
        "PySpark is not good at Visualization. So, we convert it to pandas format to plot graphs."
      ],
      "metadata": {
        "id": "xotyV7RMoyNG"
      },
      "id": "xotyV7RMoyNG"
    },
    {
      "cell_type": "code",
      "source": [
        "pandas_df = df.toPandas()"
      ],
      "metadata": {
        "id": "xnug5BKVM5OX"
      },
      "id": "xnug5BKVM5OX",
      "execution_count": null,
      "outputs": []
    },
    {
      "cell_type": "code",
      "source": [
        "pandas_df.describe(include= ['object']).T"
      ],
      "metadata": {
        "id": "3j1pe-mNMyq2",
        "colab": {
          "base_uri": "https://localhost:8080/",
          "height": 143
        },
        "outputId": "f4c5f5a8-38f7-41ae-9a75-dfa519cdcb1f"
      },
      "id": "3j1pe-mNMyq2",
      "execution_count": null,
      "outputs": [
        {
          "output_type": "execute_result",
          "data": {
            "text/plain": [
              "                   count unique       top freq\n",
              "Product             1218      6      SKU1  204\n",
              "date                1218    204  2/5/2017    6\n",
              "Price_Discount_(%)  1218     70        0%  231"
            ],
            "text/html": [
              "\n",
              "  <div id=\"df-ab8f5e62-c511-44ce-90cc-e582521b20ce\" class=\"colab-df-container\">\n",
              "    <div>\n",
              "<style scoped>\n",
              "    .dataframe tbody tr th:only-of-type {\n",
              "        vertical-align: middle;\n",
              "    }\n",
              "\n",
              "    .dataframe tbody tr th {\n",
              "        vertical-align: top;\n",
              "    }\n",
              "\n",
              "    .dataframe thead th {\n",
              "        text-align: right;\n",
              "    }\n",
              "</style>\n",
              "<table border=\"1\" class=\"dataframe\">\n",
              "  <thead>\n",
              "    <tr style=\"text-align: right;\">\n",
              "      <th></th>\n",
              "      <th>count</th>\n",
              "      <th>unique</th>\n",
              "      <th>top</th>\n",
              "      <th>freq</th>\n",
              "    </tr>\n",
              "  </thead>\n",
              "  <tbody>\n",
              "    <tr>\n",
              "      <th>Product</th>\n",
              "      <td>1218</td>\n",
              "      <td>6</td>\n",
              "      <td>SKU1</td>\n",
              "      <td>204</td>\n",
              "    </tr>\n",
              "    <tr>\n",
              "      <th>date</th>\n",
              "      <td>1218</td>\n",
              "      <td>204</td>\n",
              "      <td>2/5/2017</td>\n",
              "      <td>6</td>\n",
              "    </tr>\n",
              "    <tr>\n",
              "      <th>Price_Discount_(%)</th>\n",
              "      <td>1218</td>\n",
              "      <td>70</td>\n",
              "      <td>0%</td>\n",
              "      <td>231</td>\n",
              "    </tr>\n",
              "  </tbody>\n",
              "</table>\n",
              "</div>\n",
              "    <div class=\"colab-df-buttons\">\n",
              "\n",
              "  <div class=\"colab-df-container\">\n",
              "    <button class=\"colab-df-convert\" onclick=\"convertToInteractive('df-ab8f5e62-c511-44ce-90cc-e582521b20ce')\"\n",
              "            title=\"Convert this dataframe to an interactive table.\"\n",
              "            style=\"display:none;\">\n",
              "\n",
              "  <svg xmlns=\"http://www.w3.org/2000/svg\" height=\"24px\" viewBox=\"0 -960 960 960\">\n",
              "    <path d=\"M120-120v-720h720v720H120Zm60-500h600v-160H180v160Zm220 220h160v-160H400v160Zm0 220h160v-160H400v160ZM180-400h160v-160H180v160Zm440 0h160v-160H620v160ZM180-180h160v-160H180v160Zm440 0h160v-160H620v160Z\"/>\n",
              "  </svg>\n",
              "    </button>\n",
              "\n",
              "  <style>\n",
              "    .colab-df-container {\n",
              "      display:flex;\n",
              "      gap: 12px;\n",
              "    }\n",
              "\n",
              "    .colab-df-convert {\n",
              "      background-color: #E8F0FE;\n",
              "      border: none;\n",
              "      border-radius: 50%;\n",
              "      cursor: pointer;\n",
              "      display: none;\n",
              "      fill: #1967D2;\n",
              "      height: 32px;\n",
              "      padding: 0 0 0 0;\n",
              "      width: 32px;\n",
              "    }\n",
              "\n",
              "    .colab-df-convert:hover {\n",
              "      background-color: #E2EBFA;\n",
              "      box-shadow: 0px 1px 2px rgba(60, 64, 67, 0.3), 0px 1px 3px 1px rgba(60, 64, 67, 0.15);\n",
              "      fill: #174EA6;\n",
              "    }\n",
              "\n",
              "    .colab-df-buttons div {\n",
              "      margin-bottom: 4px;\n",
              "    }\n",
              "\n",
              "    [theme=dark] .colab-df-convert {\n",
              "      background-color: #3B4455;\n",
              "      fill: #D2E3FC;\n",
              "    }\n",
              "\n",
              "    [theme=dark] .colab-df-convert:hover {\n",
              "      background-color: #434B5C;\n",
              "      box-shadow: 0px 1px 3px 1px rgba(0, 0, 0, 0.15);\n",
              "      filter: drop-shadow(0px 1px 2px rgba(0, 0, 0, 0.3));\n",
              "      fill: #FFFFFF;\n",
              "    }\n",
              "  </style>\n",
              "\n",
              "    <script>\n",
              "      const buttonEl =\n",
              "        document.querySelector('#df-ab8f5e62-c511-44ce-90cc-e582521b20ce button.colab-df-convert');\n",
              "      buttonEl.style.display =\n",
              "        google.colab.kernel.accessAllowed ? 'block' : 'none';\n",
              "\n",
              "      async function convertToInteractive(key) {\n",
              "        const element = document.querySelector('#df-ab8f5e62-c511-44ce-90cc-e582521b20ce');\n",
              "        const dataTable =\n",
              "          await google.colab.kernel.invokeFunction('convertToInteractive',\n",
              "                                                    [key], {});\n",
              "        if (!dataTable) return;\n",
              "\n",
              "        const docLinkHtml = 'Like what you see? Visit the ' +\n",
              "          '<a target=\"_blank\" href=https://colab.research.google.com/notebooks/data_table.ipynb>data table notebook</a>'\n",
              "          + ' to learn more about interactive tables.';\n",
              "        element.innerHTML = '';\n",
              "        dataTable['output_type'] = 'display_data';\n",
              "        await google.colab.output.renderOutput(dataTable, element);\n",
              "        const docLink = document.createElement('div');\n",
              "        docLink.innerHTML = docLinkHtml;\n",
              "        element.appendChild(docLink);\n",
              "      }\n",
              "    </script>\n",
              "  </div>\n",
              "\n",
              "    </div>\n",
              "  </div>\n"
            ]
          },
          "metadata": {},
          "execution_count": 25
        }
      ]
    },
    {
      "cell_type": "code",
      "source": [
        "import matplotlib.pyplot as plt\n",
        "import seaborn as sns\n",
        "#sns.set_theme()"
      ],
      "metadata": {
        "id": "kj6uNvRkPllF"
      },
      "id": "kj6uNvRkPllF",
      "execution_count": null,
      "outputs": []
    },
    {
      "cell_type": "code",
      "source": [
        "df.head()"
      ],
      "metadata": {
        "id": "JkVL3vQurkmo",
        "colab": {
          "base_uri": "https://localhost:8080/"
        },
        "outputId": "cb29b508-a2e7-4038-a592-6117e2591d19"
      },
      "id": "JkVL3vQurkmo",
      "execution_count": null,
      "outputs": [
        {
          "output_type": "execute_result",
          "data": {
            "text/plain": [
              "Row(Product='SKU1', date='2/5/2017', Sales=27750, Price_Discount_(%)='0%', In-Store_Promo=0, Catalogue_Promo=0, Store_End_Promo=0, Google_Mobility=0.0, Covid_Flag=0, V_DAY=0, EASTER=0, CHRISTMAS=0)"
            ]
          },
          "metadata": {},
          "execution_count": 27
        }
      ]
    },
    {
      "cell_type": "code",
      "source": [
        "sns.lineplot(x = 'date', y = 'Sales', data=pandas_df)"
      ],
      "metadata": {
        "id": "pXlu73fuSh44",
        "colab": {
          "base_uri": "https://localhost:8080/",
          "height": 470
        },
        "outputId": "89f45a3f-7e9c-4fd4-f6fe-dc8f4ba72cae"
      },
      "id": "pXlu73fuSh44",
      "execution_count": null,
      "outputs": [
        {
          "output_type": "execute_result",
          "data": {
            "text/plain": [
              "<Axes: xlabel='date', ylabel='Sales'>"
            ]
          },
          "metadata": {},
          "execution_count": 28
        },
        {
          "output_type": "display_data",
          "data": {
            "text/plain": [
              "<Figure size 640x480 with 1 Axes>"
            ],
            "image/png": "[encoded data removed]"
          },
          "metadata": {}
        }
      ]
    },
    {
      "cell_type": "code",
      "source": [
        "df=spark.read.option(\"header\",True) \\\n",
        "        .csv(\"/content/drive/MyDrive/Colab Notebooks/DG/forecasting_case_study.csv\")"
      ],
      "metadata": {
        "id": "9PUH25uizkrJ"
      },
      "id": "9PUH25uizkrJ",
      "execution_count": null,
      "outputs": []
    },
    {
      "cell_type": "code",
      "source": [
        "df.write.option(\"header\", True) \\\n",
        "        .partitionBy(\"Product\") \\\n",
        "        .mode(\"overwrite\") \\\n",
        "        .csv(\"/content/drive/MyDrive/Colab Notebooks/DG/Forecast\")"
      ],
      "metadata": {
        "id": "cKKqtzdR0cEw"
      },
      "id": "cKKqtzdR0cEw",
      "execution_count": null,
      "outputs": []
    },
    {
      "cell_type": "code",
      "source": [
        "dfSinglePart=spark.read.option(\"header\",True) \\\n",
        "            .csv(\"/content/drive/MyDrive/Colab Notebooks/DG/Forecast/Product=SKU1\")"
      ],
      "metadata": {
        "id": "C7am_l4y0okA"
      },
      "id": "C7am_l4y0okA",
      "execution_count": null,
      "outputs": []
    },
    {
      "cell_type": "code",
      "source": [
        "def histplot_boxplot(feature, figsize=(15, 10), bins=None):\n",
        "    \"\"\" Boxplot and histogram combined\n",
        "\n",
        "    feature: 1-d feature array\n",
        "\n",
        "    figsize: size of fig (default (9, 8))\n",
        "\n",
        "    bins: number of bins (default None / auto)\n",
        "\n",
        "    \"\"\"\n",
        "    f2, (ax_box2, ax_his2) = plt.subplots(nrows=2,  # Number of rows of the subplot grid = 2\n",
        "                                           sharex=True,  # X-axis will be shared among all subplots\n",
        "                                           gridspec_kw={\"height_ratios\": (.25, .75)},\n",
        "                                           figsize=figsize\n",
        "                                           )  # Creating the 2 subplots\n",
        "\n",
        "    sns.boxplot(x=feature, ax=ax_box2, showmeans=True, color='violet')  # Boxplot will be created and a symbol will indicate the mean value of the column\n",
        "\n",
        "    if bins:\n",
        "        sns.histplot(x=feature, kde=True, ax=ax_his2, bins=bins, palette=\"winter\")  # For histogram\n",
        "    else:\n",
        "        sns.histplot(x=feature, kde=True, ax=ax_his2, palette=\"winter\")  # For histogram\n",
        "\n",
        "    ax_his2.axvline(np.mean(feature), color='green', linestyle='--')  # Add mean to the histogram\n",
        "\n",
        "    ax_his2.axvline(np.median(feature), color='black', linestyle='-')  # Add median to the histogram\n"
      ],
      "metadata": {
        "id": "RRCgc0LhPYNj"
      },
      "id": "RRCgc0LhPYNj",
      "execution_count": null,
      "outputs": []
    },
    {
      "cell_type": "code",
      "source": [
        "dfSinglePart.printSchema()\n",
        "dfSinglePart.show()\n",
        "df1= dfSinglePart.toPandas()"
      ],
      "metadata": {
        "id": "li6lVkCG15qt",
        "colab": {
          "base_uri": "https://localhost:8080/"
        },
        "outputId": "6ece606d-42bf-4353-c29a-9917c80b14e5"
      },
      "id": "li6lVkCG15qt",
      "execution_count": null,
      "outputs": [
        {
          "output_type": "stream",
          "name": "stdout",
          "text": [
            "root\n",
            " |-- date: string (nullable = true)\n",
            " |-- Sales: string (nullable = true)\n",
            " |-- Price Discount (%): string (nullable = true)\n",
            " |-- In-Store Promo: string (nullable = true)\n",
            " |-- Catalogue Promo: string (nullable = true)\n",
            " |-- Store End Promo: string (nullable = true)\n",
            " |-- Google_Mobility: string (nullable = true)\n",
            " |-- Covid_Flag: string (nullable = true)\n",
            " |-- V_DAY: string (nullable = true)\n",
            " |-- EASTER: string (nullable = true)\n",
            " |-- CHRISTMAS: string (nullable = true)\n",
            "\n",
            "+---------+------+------------------+--------------+---------------+---------------+---------------+----------+-----+------+---------+\n",
            "|     date| Sales|Price Discount (%)|In-Store Promo|Catalogue Promo|Store End Promo|Google_Mobility|Covid_Flag|V_DAY|EASTER|CHRISTMAS|\n",
            "+---------+------+------------------+--------------+---------------+---------------+---------------+----------+-----+------+---------+\n",
            "| 2/5/2017| 27750|                0%|             0|              0|              0|              0|         0|    0|     0|        0|\n",
            "|2/12/2017| 29023|                0%|             1|              0|              1|              0|         0|    1|     0|        0|\n",
            "|2/19/2017| 45630|               17%|             0|              0|              0|              0|         0|    0|     0|        0|\n",
            "|2/26/2017| 26789|                0%|             1|              0|              1|              0|         0|    0|     0|        0|\n",
            "| 3/5/2017| 41999|               17%|             0|              0|              0|              0|         0|    0|     0|        0|\n",
            "|3/12/2017| 29731|                0%|             0|              0|              0|              0|         0|    0|     0|        0|\n",
            "|3/19/2017| 27365|                0%|             1|              0|              0|              0|         0|    0|     0|        0|\n",
            "|3/26/2017| 27722|                0%|             1|              0|              1|              0|         0|    0|     0|        0|\n",
            "| 4/2/2017| 44339|               17%|             1|              0|              0|              0|         0|    0|     0|        0|\n",
            "| 4/9/2017| 54655|               17%|             1|              0|              0|              0|         0|    0|     1|        0|\n",
            "|4/16/2017|108159|               44%|             0|              0|              0|              0|         0|    0|     0|        0|\n",
            "|4/23/2017| 30361|                0%|             1|              0|              1|              0|         0|    0|     0|        0|\n",
            "|4/30/2017| 42154|               17%|             1|              0|              1|              0|         0|    0|     0|        0|\n",
            "| 5/7/2017| 39782|               17%|             0|              0|              0|              0|         0|    0|     0|        0|\n",
            "|5/14/2017| 29490|                0%|             0|              0|              0|              0|         0|    0|     0|        0|\n",
            "|5/21/2017| 25936|                0%|             0|              0|              0|              0|         0|    0|     0|        0|\n",
            "|5/28/2017| 26045|                0%|             0|              0|              0|              0|         0|    0|     0|        0|\n",
            "| 6/4/2017| 25903|                0%|             1|              0|              1|              0|         0|    0|     0|        0|\n",
            "|6/11/2017| 43689|               17%|             0|              0|              0|              0|         0|    0|     0|        0|\n",
            "|6/18/2017| 25446|                0%|             1|              0|              1|              0|         0|    0|     0|        0|\n",
            "+---------+------+------------------+--------------+---------------+---------------+---------------+----------+-----+------+---------+\n",
            "only showing top 20 rows\n",
            "\n"
          ]
        }
      ]
    },
    {
      "cell_type": "code",
      "source": [
        "df1['Price Discount (%)']= df1['Price Discount (%)'].str[:-1]\n",
        "df1['Price Discount (%)']= df1['Price Discount (%)'].astype(int)"
      ],
      "metadata": {
        "id": "ck6kcBl1bkh5"
      },
      "id": "ck6kcBl1bkh5",
      "execution_count": null,
      "outputs": []
    },
    {
      "cell_type": "code",
      "source": [
        "df1.dtypes"
      ],
      "metadata": {
        "colab": {
          "base_uri": "https://localhost:8080/"
        },
        "id": "HxmxvJDVb3b9",
        "outputId": "50f39975-7657-4f40-b957-de4ec31c95cc"
      },
      "id": "HxmxvJDVb3b9",
      "execution_count": null,
      "outputs": [
        {
          "output_type": "execute_result",
          "data": {
            "text/plain": [
              "date                  object\n",
              "Sales                 object\n",
              "Price Discount (%)     int64\n",
              "In-Store Promo        object\n",
              "Catalogue Promo       object\n",
              "Store End Promo       object\n",
              "Google_Mobility       object\n",
              "Covid_Flag            object\n",
              "V_DAY                 object\n",
              "EASTER                object\n",
              "CHRISTMAS             object\n",
              "dtype: object"
            ]
          },
          "metadata": {},
          "execution_count": 35
        }
      ]
    },
    {
      "cell_type": "code",
      "source": [
        "\n",
        "cols=['Sales','Price Discount (%)','In-Store Promo','Catalogue Promo','Store End Promo','Google_Mobility','Covid_Flag','V_DAY','EASTER','CHRISTMAS']\n",
        "df1[cols]=df1[cols].apply(pd.to_numeric)\n",
        "df1['date']=df1['date'].apply(pd.to_datetime)\n",
        "df1=df1[df1['Sales'] !=0]"
      ],
      "metadata": {
        "id": "AMdb1W67RL3n"
      },
      "id": "AMdb1W67RL3n",
      "execution_count": null,
      "outputs": []
    },
    {
      "cell_type": "code",
      "source": [
        "df1.tail()"
      ],
      "metadata": {
        "colab": {
          "base_uri": "https://localhost:8080/",
          "height": 206
        },
        "id": "WT4dLLBEhxeU",
        "outputId": "3205ed06-0e80-4149-b59e-94567f7a6335"
      },
      "id": "WT4dLLBEhxeU",
      "execution_count": null,
      "outputs": [
        {
          "output_type": "execute_result",
          "data": {
            "text/plain": [
              "          date  Sales  Price Discount (%)  In-Store Promo  Catalogue Promo  \\\n",
              "193 2020-10-18  43976                  17               1                0   \n",
              "194 2020-10-25  49593                  17               0                0   \n",
              "195 2020-11-01  33267                   1               1                0   \n",
              "196 2020-11-08  50159                  17               1                0   \n",
              "197 2020-11-15  51369                  17               1                0   \n",
              "\n",
              "     Store End Promo  Google_Mobility  Covid_Flag  V_DAY  EASTER  CHRISTMAS  \n",
              "193                0            -7.56           1      0       0          0  \n",
              "194                0            -8.39           1      0       0          0  \n",
              "195                1            -7.43           1      0       0          0  \n",
              "196                1            -5.95           1      0       0          0  \n",
              "197                1            -7.20           1      0       0          0  "
            ],
            "text/html": [
              "\n",
              "  <div id=\"df-52fe1eb5-4fe8-47b7-847f-fd5790b7c61b\" class=\"colab-df-container\">\n",
              "    <div>\n",
              "<style scoped>\n",
              "    .dataframe tbody tr th:only-of-type {\n",
              "        vertical-align: middle;\n",
              "    }\n",
              "\n",
              "    .dataframe tbody tr th {\n",
              "        vertical-align: top;\n",
              "    }\n",
              "\n",
              "    .dataframe thead th {\n",
              "        text-align: right;\n",
              "    }\n",
              "</style>\n",
              "<table border=\"1\" class=\"dataframe\">\n",
              "  <thead>\n",
              "    <tr style=\"text-align: right;\">\n",
              "      <th></th>\n",
              "      <th>date</th>\n",
              "      <th>Sales</th>\n",
              "      <th>Price Discount (%)</th>\n",
              "      <th>In-Store Promo</th>\n",
              "      <th>Catalogue Promo</th>\n",
              "      <th>Store End Promo</th>\n",
              "      <th>Google_Mobility</th>\n",
              "      <th>Covid_Flag</th>\n",
              "      <th>V_DAY</th>\n",
              "      <th>EASTER</th>\n",
              "      <th>CHRISTMAS</th>\n",
              "    </tr>\n",
              "  </thead>\n",
              "  <tbody>\n",
              "    <tr>\n",
              "      <th>193</th>\n",
              "      <td>2020-10-18</td>\n",
              "      <td>43976</td>\n",
              "      <td>17</td>\n",
              "      <td>1</td>\n",
              "      <td>0</td>\n",
              "      <td>0</td>\n",
              "      <td>-7.56</td>\n",
              "      <td>1</td>\n",
              "      <td>0</td>\n",
              "      <td>0</td>\n",
              "      <td>0</td>\n",
              "    </tr>\n",
              "    <tr>\n",
              "      <th>194</th>\n",
              "      <td>2020-10-25</td>\n",
              "      <td>49593</td>\n",
              "      <td>17</td>\n",
              "      <td>0</td>\n",
              "      <td>0</td>\n",
              "      <td>0</td>\n",
              "      <td>-8.39</td>\n",
              "      <td>1</td>\n",
              "      <td>0</td>\n",
              "      <td>0</td>\n",
              "      <td>0</td>\n",
              "    </tr>\n",
              "    <tr>\n",
              "      <th>195</th>\n",
              "      <td>2020-11-01</td>\n",
              "      <td>33267</td>\n",
              "      <td>1</td>\n",
              "      <td>1</td>\n",
              "      <td>0</td>\n",
              "      <td>1</td>\n",
              "      <td>-7.43</td>\n",
              "      <td>1</td>\n",
              "      <td>0</td>\n",
              "      <td>0</td>\n",
              "      <td>0</td>\n",
              "    </tr>\n",
              "    <tr>\n",
              "      <th>196</th>\n",
              "      <td>2020-11-08</td>\n",
              "      <td>50159</td>\n",
              "      <td>17</td>\n",
              "      <td>1</td>\n",
              "      <td>0</td>\n",
              "      <td>1</td>\n",
              "      <td>-5.95</td>\n",
              "      <td>1</td>\n",
              "      <td>0</td>\n",
              "      <td>0</td>\n",
              "      <td>0</td>\n",
              "    </tr>\n",
              "    <tr>\n",
              "      <th>197</th>\n",
              "      <td>2020-11-15</td>\n",
              "      <td>51369</td>\n",
              "      <td>17</td>\n",
              "      <td>1</td>\n",
              "      <td>0</td>\n",
              "      <td>1</td>\n",
              "      <td>-7.20</td>\n",
              "      <td>1</td>\n",
              "      <td>0</td>\n",
              "      <td>0</td>\n",
              "      <td>0</td>\n",
              "    </tr>\n",
              "  </tbody>\n",
              "</table>\n",
              "</div>\n",
              "    <div class=\"colab-df-buttons\">\n",
              "\n",
              "  <div class=\"colab-df-container\">\n",
              "    <button class=\"colab-df-convert\" onclick=\"convertToInteractive('df-52fe1eb5-4fe8-47b7-847f-fd5790b7c61b')\"\n",
              "            title=\"Convert this dataframe to an interactive table.\"\n",
              "            style=\"display:none;\">\n",
              "\n",
              "  <svg xmlns=\"http://www.w3.org/2000/svg\" height=\"24px\" viewBox=\"0 -960 960 960\">\n",
              "    <path d=\"M120-120v-720h720v720H120Zm60-500h600v-160H180v160Zm220 220h160v-160H400v160Zm0 220h160v-160H400v160ZM180-400h160v-160H180v160Zm440 0h160v-160H620v160ZM180-180h160v-160H180v160Zm440 0h160v-160H620v160Z\"/>\n",
              "  </svg>\n",
              "    </button>\n",
              "\n",
              "  <style>\n",
              "    .colab-df-container {\n",
              "      display:flex;\n",
              "      gap: 12px;\n",
              "    }\n",
              "\n",
              "    .colab-df-convert {\n",
              "      background-color: #E8F0FE;\n",
              "      border: none;\n",
              "      border-radius: 50%;\n",
              "      cursor: pointer;\n",
              "      display: none;\n",
              "      fill: #1967D2;\n",
              "      height: 32px;\n",
              "      padding: 0 0 0 0;\n",
              "      width: 32px;\n",
              "    }\n",
              "\n",
              "    .colab-df-convert:hover {\n",
              "      background-color: #E2EBFA;\n",
              "      box-shadow: 0px 1px 2px rgba(60, 64, 67, 0.3), 0px 1px 3px 1px rgba(60, 64, 67, 0.15);\n",
              "      fill: #174EA6;\n",
              "    }\n",
              "\n",
              "    .colab-df-buttons div {\n",
              "      margin-bottom: 4px;\n",
              "    }\n",
              "\n",
              "    [theme=dark] .colab-df-convert {\n",
              "      background-color: #3B4455;\n",
              "      fill: #D2E3FC;\n",
              "    }\n",
              "\n",
              "    [theme=dark] .colab-df-convert:hover {\n",
              "      background-color: #434B5C;\n",
              "      box-shadow: 0px 1px 3px 1px rgba(0, 0, 0, 0.15);\n",
              "      filter: drop-shadow(0px 1px 2px rgba(0, 0, 0, 0.3));\n",
              "      fill: #FFFFFF;\n",
              "    }\n",
              "  </style>\n",
              "\n",
              "    <script>\n",
              "      const buttonEl =\n",
              "        document.querySelector('#df-52fe1eb5-4fe8-47b7-847f-fd5790b7c61b button.colab-df-convert');\n",
              "      buttonEl.style.display =\n",
              "        google.colab.kernel.accessAllowed ? 'block' : 'none';\n",
              "\n",
              "      async function convertToInteractive(key) {\n",
              "        const element = document.querySelector('#df-52fe1eb5-4fe8-47b7-847f-fd5790b7c61b');\n",
              "        const dataTable =\n",
              "          await google.colab.kernel.invokeFunction('convertToInteractive',\n",
              "                                                    [key], {});\n",
              "        if (!dataTable) return;\n",
              "\n",
              "        const docLinkHtml = 'Like what you see? Visit the ' +\n",
              "          '<a target=\"_blank\" href=https://colab.research.google.com/notebooks/data_table.ipynb>data table notebook</a>'\n",
              "          + ' to learn more about interactive tables.';\n",
              "        element.innerHTML = '';\n",
              "        dataTable['output_type'] = 'display_data';\n",
              "        await google.colab.output.renderOutput(dataTable, element);\n",
              "        const docLink = document.createElement('div');\n",
              "        docLink.innerHTML = docLinkHtml;\n",
              "        element.appendChild(docLink);\n",
              "      }\n",
              "    </script>\n",
              "  </div>\n",
              "\n",
              "\n",
              "<div id=\"df-dda58701-3d28-4186-a0c2-6ce2781b2d41\">\n",
              "  <button class=\"colab-df-quickchart\" onclick=\"quickchart('df-dda58701-3d28-4186-a0c2-6ce2781b2d41')\"\n",
              "            title=\"Suggest charts.\"\n",
              "            style=\"display:none;\">\n",
              "\n",
              "<svg xmlns=\"http://www.w3.org/2000/svg\" height=\"24px\"viewBox=\"0 0 24 24\"\n",
              "     width=\"24px\">\n",
              "    <g>\n",
              "        <path d=\"M19 3H5c-1.1 0-2 .9-2 2v14c0 1.1.9 2 2 2h14c1.1 0 2-.9 2-2V5c0-1.1-.9-2-2-2zM9 17H7v-7h2v7zm4 0h-2V7h2v10zm4 0h-2v-4h2v4z\"/>\n",
              "    </g>\n",
              "</svg>\n",
              "  </button>\n",
              "\n",
              "<style>\n",
              "  .colab-df-quickchart {\n",
              "    background-color: #E8F0FE;\n",
              "    border: none;\n",
              "    border-radius: 50%;\n",
              "    cursor: pointer;\n",
              "    display: none;\n",
              "    fill: #1967D2;\n",
              "    height: 32px;\n",
              "    padding: 0 0 0 0;\n",
              "    width: 32px;\n",
              "  }\n",
              "\n",
              "  .colab-df-quickchart:hover {\n",
              "    background-color: #E2EBFA;\n",
              "    box-shadow: 0px 1px 2px rgba(60, 64, 67, 0.3), 0px 1px 3px 1px rgba(60, 64, 67, 0.15);\n",
              "    fill: #174EA6;\n",
              "  }\n",
              "\n",
              "  [theme=dark] .colab-df-quickchart {\n",
              "    background-color: #3B4455;\n",
              "    fill: #D2E3FC;\n",
              "  }\n",
              "\n",
              "  [theme=dark] .colab-df-quickchart:hover {\n",
              "    background-color: #434B5C;\n",
              "    box-shadow: 0px 1px 3px 1px rgba(0, 0, 0, 0.15);\n",
              "    filter: drop-shadow(0px 1px 2px rgba(0, 0, 0, 0.3));\n",
              "    fill: #FFFFFF;\n",
              "  }\n",
              "</style>\n",
              "\n",
              "  <script>\n",
              "    async function quickchart(key) {\n",
              "      const charts = await google.colab.kernel.invokeFunction(\n",
              "          'suggestCharts', [key], {});\n",
              "    }\n",
              "    (() => {\n",
              "      let quickchartButtonEl =\n",
              "        document.querySelector('#df-dda58701-3d28-4186-a0c2-6ce2781b2d41 button');\n",
              "      quickchartButtonEl.style.display =\n",
              "        google.colab.kernel.accessAllowed ? 'block' : 'none';\n",
              "    })();\n",
              "  </script>\n",
              "</div>\n",
              "    </div>\n",
              "  </div>\n"
            ]
          },
          "metadata": {},
          "execution_count": 37
        }
      ]
    },
    {
      "cell_type": "code",
      "source": [
        "histplot_boxplot(df1['Sales'])"
      ],
      "metadata": {
        "colab": {
          "base_uri": "https://localhost:8080/",
          "height": 886
        },
        "id": "hT9jpll4ckRF",
        "outputId": "f3ab78af-735d-4036-f8ba-e7d8ea07c1f7"
      },
      "id": "hT9jpll4ckRF",
      "execution_count": null,
      "outputs": [
        {
          "output_type": "stream",
          "name": "stderr",
          "text": [
            "<ipython-input-32-edd76245b29f>:22: UserWarning: Ignoring `palette` because no `hue` variable has been assigned.\n",
            "  sns.histplot(x=feature, kde=True, ax=ax_his2, palette=\"winter\")  # For histogram\n"
          ]
        },
        {
          "output_type": "display_data",
          "data": {
            "text/plain": [
              "<Figure size 1500x1000 with 2 Axes>"
            ],
            "image/png": "[encoded data removed]"
          },
          "metadata": {}
        }
      ]
    },
    {
      "cell_type": "code",
      "source": [
        "df1.describe()"
      ],
      "metadata": {
        "colab": {
          "base_uri": "https://localhost:8080/",
          "height": 300
        },
        "id": "-CWqevDwgtLI",
        "outputId": "332613ad-e575-464f-f76b-375150f9b10d"
      },
      "id": "-CWqevDwgtLI",
      "execution_count": null,
      "outputs": [
        {
          "output_type": "execute_result",
          "data": {
            "text/plain": [
              "               Sales  Price Discount (%)  In-Store Promo  Catalogue Promo  \\\n",
              "count     198.000000          198.000000      198.000000       198.000000   \n",
              "mean    48961.959596           10.782828        0.404040         0.090909   \n",
              "std     28407.820985           12.874573        0.491949         0.288209   \n",
              "min     23606.000000            0.000000        0.000000         0.000000   \n",
              "25%     31391.000000            0.000000        0.000000         0.000000   \n",
              "50%     40780.500000            2.500000        0.000000         0.000000   \n",
              "75%     55752.000000           17.000000        1.000000         0.000000   \n",
              "max    258874.000000           45.000000        1.000000         1.000000   \n",
              "\n",
              "       Store End Promo  Google_Mobility  Covid_Flag       V_DAY      EASTER  \\\n",
              "count       198.000000       198.000000  198.000000  198.000000  198.000000   \n",
              "mean          0.242424        -2.279192    0.207071    0.020202    0.020202   \n",
              "std           0.429636         5.849670    0.406234    0.141047    0.141047   \n",
              "min           0.000000       -28.490000    0.000000    0.000000    0.000000   \n",
              "25%           0.000000         0.000000    0.000000    0.000000    0.000000   \n",
              "50%           0.000000         0.000000    0.000000    0.000000    0.000000   \n",
              "75%           0.000000         0.000000    0.000000    0.000000    0.000000   \n",
              "max           1.000000         3.900000    1.000000    1.000000    1.000000   \n",
              "\n",
              "        CHRISTMAS  \n",
              "count  198.000000  \n",
              "mean     0.015152  \n",
              "std      0.122465  \n",
              "min      0.000000  \n",
              "25%      0.000000  \n",
              "50%      0.000000  \n",
              "75%      0.000000  \n",
              "max      1.000000  "
            ],
            "text/html": [
              "\n",
              "  <div id=\"df-fd3e5550-1f61-4fbc-a8c0-6bf2cbf23379\" class=\"colab-df-container\">\n",
              "    <div>\n",
              "<style scoped>\n",
              "    .dataframe tbody tr th:only-of-type {\n",
              "        vertical-align: middle;\n",
              "    }\n",
              "\n",
              "    .dataframe tbody tr th {\n",
              "        vertical-align: top;\n",
              "    }\n",
              "\n",
              "    .dataframe thead th {\n",
              "        text-align: right;\n",
              "    }\n",
              "</style>\n",
              "<table border=\"1\" class=\"dataframe\">\n",
              "  <thead>\n",
              "    <tr style=\"text-align: right;\">\n",
              "      <th></th>\n",
              "      <th>Sales</th>\n",
              "      <th>Price Discount (%)</th>\n",
              "      <th>In-Store Promo</th>\n",
              "      <th>Catalogue Promo</th>\n",
              "      <th>Store End Promo</th>\n",
              "      <th>Google_Mobility</th>\n",
              "      <th>Covid_Flag</th>\n",
              "      <th>V_DAY</th>\n",
              "      <th>EASTER</th>\n",
              "      <th>CHRISTMAS</th>\n",
              "    </tr>\n",
              "  </thead>\n",
              "  <tbody>\n",
              "    <tr>\n",
              "      <th>count</th>\n",
              "      <td>198.000000</td>\n",
              "      <td>198.000000</td>\n",
              "      <td>198.000000</td>\n",
              "      <td>198.000000</td>\n",
              "      <td>198.000000</td>\n",
              "      <td>198.000000</td>\n",
              "      <td>198.000000</td>\n",
              "      <td>198.000000</td>\n",
              "      <td>198.000000</td>\n",
              "      <td>198.000000</td>\n",
              "    </tr>\n",
              "    <tr>\n",
              "      <th>mean</th>\n",
              "      <td>48961.959596</td>\n",
              "      <td>10.782828</td>\n",
              "      <td>0.404040</td>\n",
              "      <td>0.090909</td>\n",
              "      <td>0.242424</td>\n",
              "      <td>-2.279192</td>\n",
              "      <td>0.207071</td>\n",
              "      <td>0.020202</td>\n",
              "      <td>0.020202</td>\n",
              "      <td>0.015152</td>\n",
              "    </tr>\n",
              "    <tr>\n",
              "      <th>std</th>\n",
              "      <td>28407.820985</td>\n",
              "      <td>12.874573</td>\n",
              "      <td>0.491949</td>\n",
              "      <td>0.288209</td>\n",
              "      <td>0.429636</td>\n",
              "      <td>5.849670</td>\n",
              "      <td>0.406234</td>\n",
              "      <td>0.141047</td>\n",
              "      <td>0.141047</td>\n",
              "      <td>0.122465</td>\n",
              "    </tr>\n",
              "    <tr>\n",
              "      <th>min</th>\n",
              "      <td>23606.000000</td>\n",
              "      <td>0.000000</td>\n",
              "      <td>0.000000</td>\n",
              "      <td>0.000000</td>\n",
              "      <td>0.000000</td>\n",
              "      <td>-28.490000</td>\n",
              "      <td>0.000000</td>\n",
              "      <td>0.000000</td>\n",
              "      <td>0.000000</td>\n",
              "      <td>0.000000</td>\n",
              "    </tr>\n",
              "    <tr>\n",
              "      <th>25%</th>\n",
              "      <td>31391.000000</td>\n",
              "      <td>0.000000</td>\n",
              "      <td>0.000000</td>\n",
              "      <td>0.000000</td>\n",
              "      <td>0.000000</td>\n",
              "      <td>0.000000</td>\n",
              "      <td>0.000000</td>\n",
              "      <td>0.000000</td>\n",
              "      <td>0.000000</td>\n",
              "      <td>0.000000</td>\n",
              "    </tr>\n",
              "    <tr>\n",
              "      <th>50%</th>\n",
              "      <td>40780.500000</td>\n",
              "      <td>2.500000</td>\n",
              "      <td>0.000000</td>\n",
              "      <td>0.000000</td>\n",
              "      <td>0.000000</td>\n",
              "      <td>0.000000</td>\n",
              "      <td>0.000000</td>\n",
              "      <td>0.000000</td>\n",
              "      <td>0.000000</td>\n",
              "      <td>0.000000</td>\n",
              "    </tr>\n",
              "    <tr>\n",
              "      <th>75%</th>\n",
              "      <td>55752.000000</td>\n",
              "      <td>17.000000</td>\n",
              "      <td>1.000000</td>\n",
              "      <td>0.000000</td>\n",
              "      <td>0.000000</td>\n",
              "      <td>0.000000</td>\n",
              "      <td>0.000000</td>\n",
              "      <td>0.000000</td>\n",
              "      <td>0.000000</td>\n",
              "      <td>0.000000</td>\n",
              "    </tr>\n",
              "    <tr>\n",
              "      <th>max</th>\n",
              "      <td>258874.000000</td>\n",
              "      <td>45.000000</td>\n",
              "      <td>1.000000</td>\n",
              "      <td>1.000000</td>\n",
              "      <td>1.000000</td>\n",
              "      <td>3.900000</td>\n",
              "      <td>1.000000</td>\n",
              "      <td>1.000000</td>\n",
              "      <td>1.000000</td>\n",
              "      <td>1.000000</td>\n",
              "    </tr>\n",
              "  </tbody>\n",
              "</table>\n",
              "</div>\n",
              "    <div class=\"colab-df-buttons\">\n",
              "\n",
              "  <div class=\"colab-df-container\">\n",
              "    <button class=\"colab-df-convert\" onclick=\"convertToInteractive('df-fd3e5550-1f61-4fbc-a8c0-6bf2cbf23379')\"\n",
              "            title=\"Convert this dataframe to an interactive table.\"\n",
              "            style=\"display:none;\">\n",
              "\n",
              "  <svg xmlns=\"http://www.w3.org/2000/svg\" height=\"24px\" viewBox=\"0 -960 960 960\">\n",
              "    <path d=\"M120-120v-720h720v720H120Zm60-500h600v-160H180v160Zm220 220h160v-160H400v160Zm0 220h160v-160H400v160ZM180-400h160v-160H180v160Zm440 0h160v-160H620v160ZM180-180h160v-160H180v160Zm440 0h160v-160H620v160Z\"/>\n",
              "  </svg>\n",
              "    </button>\n",
              "\n",
              "  <style>\n",
              "    .colab-df-container {\n",
              "      display:flex;\n",
              "      gap: 12px;\n",
              "    }\n",
              "\n",
              "    .colab-df-convert {\n",
              "      background-color: #E8F0FE;\n",
              "      border: none;\n",
              "      border-radius: 50%;\n",
              "      cursor: pointer;\n",
              "      display: none;\n",
              "      fill: #1967D2;\n",
              "      height: 32px;\n",
              "      padding: 0 0 0 0;\n",
              "      width: 32px;\n",
              "    }\n",
              "\n",
              "    .colab-df-convert:hover {\n",
              "      background-color: #E2EBFA;\n",
              "      box-shadow: 0px 1px 2px rgba(60, 64, 67, 0.3), 0px 1px 3px 1px rgba(60, 64, 67, 0.15);\n",
              "      fill: #174EA6;\n",
              "    }\n",
              "\n",
              "    .colab-df-buttons div {\n",
              "      margin-bottom: 4px;\n",
              "    }\n",
              "\n",
              "    [theme=dark] .colab-df-convert {\n",
              "      background-color: #3B4455;\n",
              "      fill: #D2E3FC;\n",
              "    }\n",
              "\n",
              "    [theme=dark] .colab-df-convert:hover {\n",
              "      background-color: #434B5C;\n",
              "      box-shadow: 0px 1px 3px 1px rgba(0, 0, 0, 0.15);\n",
              "      filter: drop-shadow(0px 1px 2px rgba(0, 0, 0, 0.3));\n",
              "      fill: #FFFFFF;\n",
              "    }\n",
              "  </style>\n",
              "\n",
              "    <script>\n",
              "      const buttonEl =\n",
              "        document.querySelector('#df-fd3e5550-1f61-4fbc-a8c0-6bf2cbf23379 button.colab-df-convert');\n",
              "      buttonEl.style.display =\n",
              "        google.colab.kernel.accessAllowed ? 'block' : 'none';\n",
              "\n",
              "      async function convertToInteractive(key) {\n",
              "        const element = document.querySelector('#df-fd3e5550-1f61-4fbc-a8c0-6bf2cbf23379');\n",
              "        const dataTable =\n",
              "          await google.colab.kernel.invokeFunction('convertToInteractive',\n",
              "                                                    [key], {});\n",
              "        if (!dataTable) return;\n",
              "\n",
              "        const docLinkHtml = 'Like what you see? Visit the ' +\n",
              "          '<a target=\"_blank\" href=https://colab.research.google.com/notebooks/data_table.ipynb>data table notebook</a>'\n",
              "          + ' to learn more about interactive tables.';\n",
              "        element.innerHTML = '';\n",
              "        dataTable['output_type'] = 'display_data';\n",
              "        await google.colab.output.renderOutput(dataTable, element);\n",
              "        const docLink = document.createElement('div');\n",
              "        docLink.innerHTML = docLinkHtml;\n",
              "        element.appendChild(docLink);\n",
              "      }\n",
              "    </script>\n",
              "  </div>\n",
              "\n",
              "\n",
              "<div id=\"df-0e1c4cc6-3828-4b80-8825-e2a6437de158\">\n",
              "  <button class=\"colab-df-quickchart\" onclick=\"quickchart('df-0e1c4cc6-3828-4b80-8825-e2a6437de158')\"\n",
              "            title=\"Suggest charts.\"\n",
              "            style=\"display:none;\">\n",
              "\n",
              "<svg xmlns=\"http://www.w3.org/2000/svg\" height=\"24px\"viewBox=\"0 0 24 24\"\n",
              "     width=\"24px\">\n",
              "    <g>\n",
              "        <path d=\"M19 3H5c-1.1 0-2 .9-2 2v14c0 1.1.9 2 2 2h14c1.1 0 2-.9 2-2V5c0-1.1-.9-2-2-2zM9 17H7v-7h2v7zm4 0h-2V7h2v10zm4 0h-2v-4h2v4z\"/>\n",
              "    </g>\n",
              "</svg>\n",
              "  </button>\n",
              "\n",
              "<style>\n",
              "  .colab-df-quickchart {\n",
              "    background-color: #E8F0FE;\n",
              "    border: none;\n",
              "    border-radius: 50%;\n",
              "    cursor: pointer;\n",
              "    display: none;\n",
              "    fill: #1967D2;\n",
              "    height: 32px;\n",
              "    padding: 0 0 0 0;\n",
              "    width: 32px;\n",
              "  }\n",
              "\n",
              "  .colab-df-quickchart:hover {\n",
              "    background-color: #E2EBFA;\n",
              "    box-shadow: 0px 1px 2px rgba(60, 64, 67, 0.3), 0px 1px 3px 1px rgba(60, 64, 67, 0.15);\n",
              "    fill: #174EA6;\n",
              "  }\n",
              "\n",
              "  [theme=dark] .colab-df-quickchart {\n",
              "    background-color: #3B4455;\n",
              "    fill: #D2E3FC;\n",
              "  }\n",
              "\n",
              "  [theme=dark] .colab-df-quickchart:hover {\n",
              "    background-color: #434B5C;\n",
              "    box-shadow: 0px 1px 3px 1px rgba(0, 0, 0, 0.15);\n",
              "    filter: drop-shadow(0px 1px 2px rgba(0, 0, 0, 0.3));\n",
              "    fill: #FFFFFF;\n",
              "  }\n",
              "</style>\n",
              "\n",
              "  <script>\n",
              "    async function quickchart(key) {\n",
              "      const charts = await google.colab.kernel.invokeFunction(\n",
              "          'suggestCharts', [key], {});\n",
              "    }\n",
              "    (() => {\n",
              "      let quickchartButtonEl =\n",
              "        document.querySelector('#df-0e1c4cc6-3828-4b80-8825-e2a6437de158 button');\n",
              "      quickchartButtonEl.style.display =\n",
              "        google.colab.kernel.accessAllowed ? 'block' : 'none';\n",
              "    })();\n",
              "  </script>\n",
              "</div>\n",
              "    </div>\n",
              "  </div>\n"
            ]
          },
          "metadata": {},
          "execution_count": 39
        }
      ]
    },
    {
      "cell_type": "code",
      "source": [
        "#q_hi  = df1['Sales'].quantile(0.99)\n",
        "Q1 = np.percentile(df1['Sales'], 25, method='midpoint')\n",
        "Q3 = np.percentile(df1['Sales'], 75, method='midpoint')\n",
        "IQR = Q3 - Q1\n",
        "print(IQR)\n",
        "upper= 1.5*IQR\n",
        "df1 = df1[(df1['Sales'] < upper)]"
      ],
      "metadata": {
        "colab": {
          "base_uri": "https://localhost:8080/"
        },
        "id": "7f7hPseyiTH0",
        "outputId": "e1194862-38c1-4337-d8fb-96088ab3480e"
      },
      "id": "7f7hPseyiTH0",
      "execution_count": null,
      "outputs": [
        {
          "output_type": "stream",
          "name": "stdout",
          "text": [
            "24249.0\n"
          ]
        }
      ]
    },
    {
      "cell_type": "code",
      "source": [
        "df1_exclude= df1.iloc[:, 1:]"
      ],
      "metadata": {
        "id": "JQBDPHBYjX-g"
      },
      "id": "JQBDPHBYjX-g",
      "execution_count": null,
      "outputs": []
    },
    {
      "cell_type": "code",
      "source": [
        "histplot_boxplot(df1['Sales'])"
      ],
      "metadata": {
        "colab": {
          "base_uri": "https://localhost:8080/",
          "height": 886
        },
        "id": "wxd7RW8KjTRp",
        "outputId": "3fd719dd-653c-4e28-cdf3-9b393f9514e0"
      },
      "id": "wxd7RW8KjTRp",
      "execution_count": null,
      "outputs": [
        {
          "output_type": "stream",
          "name": "stderr",
          "text": [
            "<ipython-input-32-edd76245b29f>:22: UserWarning: Ignoring `palette` because no `hue` variable has been assigned.\n",
            "  sns.histplot(x=feature, kde=True, ax=ax_his2, palette=\"winter\")  # For histogram\n"
          ]
        },
        {
          "output_type": "display_data",
          "data": {
            "text/plain": [
              "<Figure size 1500x1000 with 2 Axes>"
            ],
            "image/png": "[encoded data removed]"
          },
          "metadata": {}
        }
      ]
    },
    {
      "cell_type": "code",
      "source": [
        "\n",
        "sns.pairplot(data=df1.iloc[:, 1:])"
      ],
      "metadata": {
        "colab": {
          "base_uri": "https://localhost:8080/",
          "height": 1000
        },
        "id": "2CGBi4AgkME7",
        "outputId": "bbf24743-9fa5-4977-ecab-9d196505a9bf"
      },
      "id": "2CGBi4AgkME7",
      "execution_count": null,
      "outputs": [
        {
          "output_type": "execute_result",
          "data": {
            "text/plain": [
              "<seaborn.axisgrid.PairGrid at 0x79ef087db8e0>"
            ]
          },
          "metadata": {},
          "execution_count": 43
        },
        {
          "output_type": "display_data",
          "data": {
            "text/plain": [
              "<Figure size 2500x2500 with 110 Axes>"
            ],
            "image/png": "[encoded data removed]"
          },
          "metadata": {}
        }
      ]
    },
    {
      "cell_type": "code",
      "source": [
        "from statsmodels.tsa.stattools import adfuller\n",
        "def adf_test(dataset):\n",
        "     df1test = adfuller(dataset, autolag = 'AIC')\n",
        "     print(\"1. ADF : \",df1test[0])\n",
        "     print(\"2. P-Value : \", df1test[1])\n",
        "     print(\"3. Num Of Lags : \", df1test[2])\n",
        "     print(\"4. Num Of Observations Used For ADF Regression:\",      df1test[3])\n",
        "     print(\"5. Critical Values :\")\n",
        "     for key, val in df1test[4].items():\n",
        "         print(\"\\t\",key, \": \", val)\n",
        "adf_test(df1['Sales'])"
      ],
      "metadata": {
        "id": "uf-nMOMztpYh",
        "colab": {
          "base_uri": "https://localhost:8080/"
        },
        "outputId": "c6c98745-a88e-48b1-bbb8-6ec7a0e9c950"
      },
      "id": "uf-nMOMztpYh",
      "execution_count": null,
      "outputs": [
        {
          "output_type": "stream",
          "name": "stdout",
          "text": [
            "1. ADF :  -3.233562395404913\n",
            "2. P-Value :  0.0181223171307744\n",
            "3. Num Of Lags :  0\n",
            "4. Num Of Observations Used For ADF Regression: 89\n",
            "5. Critical Values :\n",
            "\t 1% :  -3.506057133647011\n",
            "\t 5% :  -2.8946066061911946\n",
            "\t 10% :  -2.5844100201994697\n"
          ]
        }
      ]
    },
    {
      "cell_type": "code",
      "source": [
        "df1[\"Sales\"].astype(int)"
      ],
      "metadata": {
        "id": "2t9qe9_d4gen",
        "colab": {
          "base_uri": "https://localhost:8080/"
        },
        "outputId": "4d2156f6-089b-48fa-ce89-dc86947f1b90"
      },
      "id": "2t9qe9_d4gen",
      "execution_count": null,
      "outputs": [
        {
          "output_type": "execute_result",
          "data": {
            "text/plain": [
              "0      27750\n",
              "1      29023\n",
              "3      26789\n",
              "5      29731\n",
              "6      27365\n",
              "       ...  \n",
              "183    24543\n",
              "184    23744\n",
              "185    23606\n",
              "186    24346\n",
              "195    33267\n",
              "Name: Sales, Length: 90, dtype: int64"
            ]
          },
          "metadata": {},
          "execution_count": 45
        }
      ]
    },
    {
      "cell_type": "code",
      "source": [
        "df1.head()"
      ],
      "metadata": {
        "id": "a2rF8WHg24LH",
        "colab": {
          "base_uri": "https://localhost:8080/",
          "height": 206
        },
        "outputId": "b58cf62c-0397-4160-9d30-021ae1b62907"
      },
      "id": "a2rF8WHg24LH",
      "execution_count": null,
      "outputs": [
        {
          "output_type": "execute_result",
          "data": {
            "text/plain": [
              "        date  Sales  Price Discount (%)  In-Store Promo  Catalogue Promo  \\\n",
              "0 2017-02-05  27750                   0               0                0   \n",
              "1 2017-02-12  29023                   0               1                0   \n",
              "3 2017-02-26  26789                   0               1                0   \n",
              "5 2017-03-12  29731                   0               0                0   \n",
              "6 2017-03-19  27365                   0               1                0   \n",
              "\n",
              "   Store End Promo  Google_Mobility  Covid_Flag  V_DAY  EASTER  CHRISTMAS  \n",
              "0                0              0.0           0      0       0          0  \n",
              "1                1              0.0           0      1       0          0  \n",
              "3                1              0.0           0      0       0          0  \n",
              "5                0              0.0           0      0       0          0  \n",
              "6                0              0.0           0      0       0          0  "
            ],
            "text/html": [
              "\n",
              "  <div id=\"df-642ea6f8-d83e-4627-b83c-4b6f9b9c5d8c\" class=\"colab-df-container\">\n",
              "    <div>\n",
              "<style scoped>\n",
              "    .dataframe tbody tr th:only-of-type {\n",
              "        vertical-align: middle;\n",
              "    }\n",
              "\n",
              "    .dataframe tbody tr th {\n",
              "        vertical-align: top;\n",
              "    }\n",
              "\n",
              "    .dataframe thead th {\n",
              "        text-align: right;\n",
              "    }\n",
              "</style>\n",
              "<table border=\"1\" class=\"dataframe\">\n",
              "  <thead>\n",
              "    <tr style=\"text-align: right;\">\n",
              "      <th></th>\n",
              "      <th>date</th>\n",
              "      <th>Sales</th>\n",
              "      <th>Price Discount (%)</th>\n",
              "      <th>In-Store Promo</th>\n",
              "      <th>Catalogue Promo</th>\n",
              "      <th>Store End Promo</th>\n",
              "      <th>Google_Mobility</th>\n",
              "      <th>Covid_Flag</th>\n",
              "      <th>V_DAY</th>\n",
              "      <th>EASTER</th>\n",
              "      <th>CHRISTMAS</th>\n",
              "    </tr>\n",
              "  </thead>\n",
              "  <tbody>\n",
              "    <tr>\n",
              "      <th>0</th>\n",
              "      <td>2017-02-05</td>\n",
              "      <td>27750</td>\n",
              "      <td>0</td>\n",
              "      <td>0</td>\n",
              "      <td>0</td>\n",
              "      <td>0</td>\n",
              "      <td>0.0</td>\n",
              "      <td>0</td>\n",
              "      <td>0</td>\n",
              "      <td>0</td>\n",
              "      <td>0</td>\n",
              "    </tr>\n",
              "    <tr>\n",
              "      <th>1</th>\n",
              "      <td>2017-02-12</td>\n",
              "      <td>29023</td>\n",
              "      <td>0</td>\n",
              "      <td>1</td>\n",
              "      <td>0</td>\n",
              "      <td>1</td>\n",
              "      <td>0.0</td>\n",
              "      <td>0</td>\n",
              "      <td>1</td>\n",
              "      <td>0</td>\n",
              "      <td>0</td>\n",
              "    </tr>\n",
              "    <tr>\n",
              "      <th>3</th>\n",
              "      <td>2017-02-26</td>\n",
              "      <td>26789</td>\n",
              "      <td>0</td>\n",
              "      <td>1</td>\n",
              "      <td>0</td>\n",
              "      <td>1</td>\n",
              "      <td>0.0</td>\n",
              "      <td>0</td>\n",
              "      <td>0</td>\n",
              "      <td>0</td>\n",
              "      <td>0</td>\n",
              "    </tr>\n",
              "    <tr>\n",
              "      <th>5</th>\n",
              "      <td>2017-03-12</td>\n",
              "      <td>29731</td>\n",
              "      <td>0</td>\n",
              "      <td>0</td>\n",
              "      <td>0</td>\n",
              "      <td>0</td>\n",
              "      <td>0.0</td>\n",
              "      <td>0</td>\n",
              "      <td>0</td>\n",
              "      <td>0</td>\n",
              "      <td>0</td>\n",
              "    </tr>\n",
              "    <tr>\n",
              "      <th>6</th>\n",
              "      <td>2017-03-19</td>\n",
              "      <td>27365</td>\n",
              "      <td>0</td>\n",
              "      <td>1</td>\n",
              "      <td>0</td>\n",
              "      <td>0</td>\n",
              "      <td>0.0</td>\n",
              "      <td>0</td>\n",
              "      <td>0</td>\n",
              "      <td>0</td>\n",
              "      <td>0</td>\n",
              "    </tr>\n",
              "  </tbody>\n",
              "</table>\n",
              "</div>\n",
              "    <div class=\"colab-df-buttons\">\n",
              "\n",
              "  <div class=\"colab-df-container\">\n",
              "    <button class=\"colab-df-convert\" onclick=\"convertToInteractive('df-642ea6f8-d83e-4627-b83c-4b6f9b9c5d8c')\"\n",
              "            title=\"Convert this dataframe to an interactive table.\"\n",
              "            style=\"display:none;\">\n",
              "\n",
              "  <svg xmlns=\"http://www.w3.org/2000/svg\" height=\"24px\" viewBox=\"0 -960 960 960\">\n",
              "    <path d=\"M120-120v-720h720v720H120Zm60-500h600v-160H180v160Zm220 220h160v-160H400v160Zm0 220h160v-160H400v160ZM180-400h160v-160H180v160Zm440 0h160v-160H620v160ZM180-180h160v-160H180v160Zm440 0h160v-160H620v160Z\"/>\n",
              "  </svg>\n",
              "    </button>\n",
              "\n",
              "  <style>\n",
              "    .colab-df-container {\n",
              "      display:flex;\n",
              "      gap: 12px;\n",
              "    }\n",
              "\n",
              "    .colab-df-convert {\n",
              "      background-color: #E8F0FE;\n",
              "      border: none;\n",
              "      border-radius: 50%;\n",
              "      cursor: pointer;\n",
              "      display: none;\n",
              "      fill: #1967D2;\n",
              "      height: 32px;\n",
              "      padding: 0 0 0 0;\n",
              "      width: 32px;\n",
              "    }\n",
              "\n",
              "    .colab-df-convert:hover {\n",
              "      background-color: #E2EBFA;\n",
              "      box-shadow: 0px 1px 2px rgba(60, 64, 67, 0.3), 0px 1px 3px 1px rgba(60, 64, 67, 0.15);\n",
              "      fill: #174EA6;\n",
              "    }\n",
              "\n",
              "    .colab-df-buttons div {\n",
              "      margin-bottom: 4px;\n",
              "    }\n",
              "\n",
              "    [theme=dark] .colab-df-convert {\n",
              "      background-color: #3B4455;\n",
              "      fill: #D2E3FC;\n",
              "    }\n",
              "\n",
              "    [theme=dark] .colab-df-convert:hover {\n",
              "      background-color: #434B5C;\n",
              "      box-shadow: 0px 1px 3px 1px rgba(0, 0, 0, 0.15);\n",
              "      filter: drop-shadow(0px 1px 2px rgba(0, 0, 0, 0.3));\n",
              "      fill: #FFFFFF;\n",
              "    }\n",
              "  </style>\n",
              "\n",
              "    <script>\n",
              "      const buttonEl =\n",
              "        document.querySelector('#df-642ea6f8-d83e-4627-b83c-4b6f9b9c5d8c button.colab-df-convert');\n",
              "      buttonEl.style.display =\n",
              "        google.colab.kernel.accessAllowed ? 'block' : 'none';\n",
              "\n",
              "      async function convertToInteractive(key) {\n",
              "        const element = document.querySelector('#df-642ea6f8-d83e-4627-b83c-4b6f9b9c5d8c');\n",
              "        const dataTable =\n",
              "          await google.colab.kernel.invokeFunction('convertToInteractive',\n",
              "                                                    [key], {});\n",
              "        if (!dataTable) return;\n",
              "\n",
              "        const docLinkHtml = 'Like what you see? Visit the ' +\n",
              "          '<a target=\"_blank\" href=https://colab.research.google.com/notebooks/data_table.ipynb>data table notebook</a>'\n",
              "          + ' to learn more about interactive tables.';\n",
              "        element.innerHTML = '';\n",
              "        dataTable['output_type'] = 'display_data';\n",
              "        await google.colab.output.renderOutput(dataTable, element);\n",
              "        const docLink = document.createElement('div');\n",
              "        docLink.innerHTML = docLinkHtml;\n",
              "        element.appendChild(docLink);\n",
              "      }\n",
              "    </script>\n",
              "  </div>\n",
              "\n",
              "\n",
              "<div id=\"df-a9086a43-dd87-4ab3-bb6d-4a9f1ae62980\">\n",
              "  <button class=\"colab-df-quickchart\" onclick=\"quickchart('df-a9086a43-dd87-4ab3-bb6d-4a9f1ae62980')\"\n",
              "            title=\"Suggest charts.\"\n",
              "            style=\"display:none;\">\n",
              "\n",
              "<svg xmlns=\"http://www.w3.org/2000/svg\" height=\"24px\"viewBox=\"0 0 24 24\"\n",
              "     width=\"24px\">\n",
              "    <g>\n",
              "        <path d=\"M19 3H5c-1.1 0-2 .9-2 2v14c0 1.1.9 2 2 2h14c1.1 0 2-.9 2-2V5c0-1.1-.9-2-2-2zM9 17H7v-7h2v7zm4 0h-2V7h2v10zm4 0h-2v-4h2v4z\"/>\n",
              "    </g>\n",
              "</svg>\n",
              "  </button>\n",
              "\n",
              "<style>\n",
              "  .colab-df-quickchart {\n",
              "    background-color: #E8F0FE;\n",
              "    border: none;\n",
              "    border-radius: 50%;\n",
              "    cursor: pointer;\n",
              "    display: none;\n",
              "    fill: #1967D2;\n",
              "    height: 32px;\n",
              "    padding: 0 0 0 0;\n",
              "    width: 32px;\n",
              "  }\n",
              "\n",
              "  .colab-df-quickchart:hover {\n",
              "    background-color: #E2EBFA;\n",
              "    box-shadow: 0px 1px 2px rgba(60, 64, 67, 0.3), 0px 1px 3px 1px rgba(60, 64, 67, 0.15);\n",
              "    fill: #174EA6;\n",
              "  }\n",
              "\n",
              "  [theme=dark] .colab-df-quickchart {\n",
              "    background-color: #3B4455;\n",
              "    fill: #D2E3FC;\n",
              "  }\n",
              "\n",
              "  [theme=dark] .colab-df-quickchart:hover {\n",
              "    background-color: #434B5C;\n",
              "    box-shadow: 0px 1px 3px 1px rgba(0, 0, 0, 0.15);\n",
              "    filter: drop-shadow(0px 1px 2px rgba(0, 0, 0, 0.3));\n",
              "    fill: #FFFFFF;\n",
              "  }\n",
              "</style>\n",
              "\n",
              "  <script>\n",
              "    async function quickchart(key) {\n",
              "      const charts = await google.colab.kernel.invokeFunction(\n",
              "          'suggestCharts', [key], {});\n",
              "    }\n",
              "    (() => {\n",
              "      let quickchartButtonEl =\n",
              "        document.querySelector('#df-a9086a43-dd87-4ab3-bb6d-4a9f1ae62980 button');\n",
              "      quickchartButtonEl.style.display =\n",
              "        google.colab.kernel.accessAllowed ? 'block' : 'none';\n",
              "    })();\n",
              "  </script>\n",
              "</div>\n",
              "    </div>\n",
              "  </div>\n"
            ]
          },
          "metadata": {},
          "execution_count": 46
        }
      ]
    },
    {
      "cell_type": "code",
      "source": [
        "df1['Sales'] = pd.to_numeric(df1['Sales'])\n",
        "df1.dtypes"
      ],
      "metadata": {
        "id": "L2hJfN3F3yqD",
        "colab": {
          "base_uri": "https://localhost:8080/"
        },
        "outputId": "1a1b549b-bae4-47c5-ca30-6f489b16f160"
      },
      "id": "L2hJfN3F3yqD",
      "execution_count": null,
      "outputs": [
        {
          "output_type": "execute_result",
          "data": {
            "text/plain": [
              "date                  datetime64[ns]\n",
              "Sales                          int64\n",
              "Price Discount (%)             int64\n",
              "In-Store Promo                 int64\n",
              "Catalogue Promo                int64\n",
              "Store End Promo                int64\n",
              "Google_Mobility              float64\n",
              "Covid_Flag                     int64\n",
              "V_DAY                          int64\n",
              "EASTER                         int64\n",
              "CHRISTMAS                      int64\n",
              "dtype: object"
            ]
          },
          "metadata": {},
          "execution_count": 47
        }
      ]
    },
    {
      "cell_type": "code",
      "source": [
        "el_df=df1.set_index('date')"
      ],
      "metadata": {
        "id": "hgFAeiqkhBow"
      },
      "id": "hgFAeiqkhBow",
      "execution_count": null,
      "outputs": []
    },
    {
      "cell_type": "code",
      "source": [
        "el_df.plot(subplots=True)"
      ],
      "metadata": {
        "colab": {
          "base_uri": "https://localhost:8080/",
          "height": 527
        },
        "id": "L9nZJ14hj_N6",
        "outputId": "387025d1-1fc1-4be4-ebb2-74e2e8cd3893"
      },
      "id": "L9nZJ14hj_N6",
      "execution_count": null,
      "outputs": [
        {
          "output_type": "execute_result",
          "data": {
            "text/plain": [
              "array([<Axes: xlabel='date'>, <Axes: xlabel='date'>,\n",
              "       <Axes: xlabel='date'>, <Axes: xlabel='date'>,\n",
              "       <Axes: xlabel='date'>, <Axes: xlabel='date'>,\n",
              "       <Axes: xlabel='date'>, <Axes: xlabel='date'>,\n",
              "       <Axes: xlabel='date'>, <Axes: xlabel='date'>], dtype=object)"
            ]
          },
          "metadata": {},
          "execution_count": 72
        },
        {
          "output_type": "display_data",
          "data": {
            "text/plain": [
              "<Figure size 640x480 with 10 Axes>"
            ],
            "image/png": "[encoded data removed]"
          },
          "metadata": {}
        }
      ]
    },
    {
      "cell_type": "code",
      "source": [
        "el_df.resample('M').mean()"
      ],
      "metadata": {
        "colab": {
          "base_uri": "https://localhost:8080/",
          "height": 1000
        },
        "id": "9ySat7BzkQ6N",
        "outputId": "0b8cd7e4-40b0-4fd3-f93b-c0bdcf59eb27"
      },
      "id": "9ySat7BzkQ6N",
      "execution_count": null,
      "outputs": [
        {
          "output_type": "execute_result",
          "data": {
            "text/plain": [
              "                   Sales  Price Discount (%)  In-Store Promo  Catalogue Promo  \\\n",
              "date                                                                            \n",
              "2017-02-28  27854.000000                 0.0        0.666667             0.00   \n",
              "2017-03-31  28272.666667                 0.0        0.666667             0.00   \n",
              "2017-04-30  30361.000000                 0.0        1.000000             0.00   \n",
              "2017-05-31  27157.000000                 0.0        0.000000             0.00   \n",
              "2017-06-30  25674.500000                 0.0        1.000000             0.00   \n",
              "2017-07-31  27769.333333                 0.0        0.666667             0.00   \n",
              "2017-08-31  28151.500000                 0.0        1.000000             0.00   \n",
              "2017-09-30  32677.500000                 0.0        0.500000             0.50   \n",
              "2017-10-31  33553.000000                 0.0        0.250000             0.00   \n",
              "2017-11-30           NaN                 NaN             NaN              NaN   \n",
              "2017-12-31           NaN                 NaN             NaN              NaN   \n",
              "2018-01-31           NaN                 NaN             NaN              NaN   \n",
              "2018-02-28  34176.000000                 0.0        0.666667             0.00   \n",
              "2018-03-31           NaN                 NaN             NaN              NaN   \n",
              "2018-04-30  34720.333333                 0.0        0.666667             0.00   \n",
              "2018-05-31  33917.000000                 0.0        0.500000             0.00   \n",
              "2018-06-30  32343.000000                 0.0        0.500000             0.00   \n",
              "2018-07-31  34799.750000                 0.0        0.000000             0.00   \n",
              "2018-08-31  31492.750000                 0.0        0.250000             0.00   \n",
              "2018-09-30           NaN                 NaN             NaN              NaN   \n",
              "2018-10-31  32457.000000                 0.0        0.000000             0.25   \n",
              "2018-11-30           NaN                 NaN             NaN              NaN   \n",
              "2018-12-31           NaN                 NaN             NaN              NaN   \n",
              "2019-01-31  34603.000000                 0.0        1.000000             0.00   \n",
              "2019-02-28  30148.000000                 0.0        0.333333             0.00   \n",
              "2019-03-31  30316.500000                 0.0        0.250000             0.00   \n",
              "2019-04-30  31741.000000                 0.0        1.000000             0.00   \n",
              "2019-05-31  28457.000000                 0.0        1.000000             0.00   \n",
              "2019-06-30  29310.000000                 0.0        0.500000             0.50   \n",
              "2019-07-31  31361.000000                 0.0        0.000000             0.00   \n",
              "2019-08-31  32457.000000                 0.0        0.000000             0.00   \n",
              "2019-09-30  36320.000000                 0.0        1.000000             0.00   \n",
              "2019-10-31  36072.000000                 0.0        0.000000             0.00   \n",
              "2019-11-30           NaN                 NaN             NaN              NaN   \n",
              "2019-12-31           NaN                 NaN             NaN              NaN   \n",
              "2020-01-31  34303.000000                 4.0        1.000000             0.00   \n",
              "2020-02-29  29511.333333                 1.0        0.333333             0.00   \n",
              "2020-03-31  35684.000000                 1.0        0.000000             0.00   \n",
              "2020-04-30           NaN                 NaN             NaN              NaN   \n",
              "2020-05-31  30488.750000                 1.5        0.000000             0.00   \n",
              "2020-06-30  27244.000000                 1.0        0.000000             0.00   \n",
              "2020-07-31  25884.500000                 1.0        0.000000             0.00   \n",
              "2020-08-31  24406.200000                 1.0        0.200000             0.00   \n",
              "2020-09-30           NaN                 NaN             NaN              NaN   \n",
              "2020-10-31           NaN                 NaN             NaN              NaN   \n",
              "2020-11-30  33267.000000                 1.0        1.000000             0.00   \n",
              "\n",
              "            Store End Promo  Google_Mobility  Covid_Flag     V_DAY    EASTER  \\\n",
              "date                                                                           \n",
              "2017-02-28         0.666667         0.000000    0.000000  0.333333  0.000000   \n",
              "2017-03-31         0.333333         0.000000    0.000000  0.000000  0.000000   \n",
              "2017-04-30         1.000000         0.000000    0.000000  0.000000  0.000000   \n",
              "2017-05-31         0.000000         0.000000    0.000000  0.000000  0.000000   \n",
              "2017-06-30         1.000000         0.000000    0.000000  0.000000  0.000000   \n",
              "2017-07-31         0.666667         0.000000    0.000000  0.000000  0.000000   \n",
              "2017-08-31         1.000000         0.000000    0.000000  0.000000  0.000000   \n",
              "2017-09-30         1.000000         0.000000    0.000000  0.000000  0.000000   \n",
              "2017-10-31         0.000000         0.000000    0.000000  0.000000  0.000000   \n",
              "2017-11-30              NaN              NaN         NaN       NaN       NaN   \n",
              "2017-12-31              NaN              NaN         NaN       NaN       NaN   \n",
              "2018-01-31              NaN              NaN         NaN       NaN       NaN   \n",
              "2018-02-28         0.666667         0.000000    0.000000  0.333333  0.000000   \n",
              "2018-03-31              NaN              NaN         NaN       NaN       NaN   \n",
              "2018-04-30         0.666667         0.000000    0.000000  0.000000  0.333333   \n",
              "2018-05-31         0.500000         0.000000    0.000000  0.000000  0.000000   \n",
              "2018-06-30         0.500000         0.000000    0.000000  0.000000  0.000000   \n",
              "2018-07-31         0.000000         0.000000    0.000000  0.000000  0.000000   \n",
              "2018-08-31         0.000000         0.000000    0.000000  0.000000  0.000000   \n",
              "2018-09-30              NaN              NaN         NaN       NaN       NaN   \n",
              "2018-10-31         0.250000         0.000000    0.000000  0.000000  0.000000   \n",
              "2018-11-30              NaN              NaN         NaN       NaN       NaN   \n",
              "2018-12-31              NaN              NaN         NaN       NaN       NaN   \n",
              "2019-01-31         1.000000         0.000000    0.000000  0.000000  0.000000   \n",
              "2019-02-28         0.333333         0.000000    0.000000  0.333333  0.000000   \n",
              "2019-03-31         0.000000         0.000000    0.000000  0.000000  0.000000   \n",
              "2019-04-30         1.000000         0.000000    0.000000  0.000000  0.000000   \n",
              "2019-05-31         1.000000         0.000000    0.000000  0.000000  0.000000   \n",
              "2019-06-30         0.500000         0.000000    0.000000  0.000000  0.000000   \n",
              "2019-07-31         0.000000         0.000000    0.000000  0.000000  0.000000   \n",
              "2019-08-31         0.000000         0.000000    0.000000  0.000000  0.000000   \n",
              "2019-09-30         0.000000         0.000000    0.000000  0.000000  0.000000   \n",
              "2019-10-31         0.000000         0.000000    0.000000  0.000000  0.000000   \n",
              "2019-11-30              NaN              NaN         NaN       NaN       NaN   \n",
              "2019-12-31              NaN              NaN         NaN       NaN       NaN   \n",
              "2020-01-31         0.000000         0.000000    0.000000  0.000000  0.000000   \n",
              "2020-02-29         0.333333         2.086667    0.666667  0.000000  0.000000   \n",
              "2020-03-31         0.000000         3.810000    1.000000  0.000000  0.000000   \n",
              "2020-04-30              NaN              NaN         NaN       NaN       NaN   \n",
              "2020-05-31         0.000000       -15.055000    1.000000  0.000000  0.000000   \n",
              "2020-06-30         0.000000        -8.720000    1.000000  0.000000  0.000000   \n",
              "2020-07-31         0.000000        -9.025000    1.000000  0.000000  0.000000   \n",
              "2020-08-31         0.000000       -16.694000    1.000000  0.000000  0.000000   \n",
              "2020-09-30              NaN              NaN         NaN       NaN       NaN   \n",
              "2020-10-31              NaN              NaN         NaN       NaN       NaN   \n",
              "2020-11-30         1.000000        -7.430000    1.000000  0.000000  0.000000   \n",
              "\n",
              "            CHRISTMAS  \n",
              "date                   \n",
              "2017-02-28        0.0  \n",
              "2017-03-31        0.0  \n",
              "2017-04-30        0.0  \n",
              "2017-05-31        0.0  \n",
              "2017-06-30        0.0  \n",
              "2017-07-31        0.0  \n",
              "2017-08-31        0.0  \n",
              "2017-09-30        0.0  \n",
              "2017-10-31        0.0  \n",
              "2017-11-30        NaN  \n",
              "2017-12-31        NaN  \n",
              "2018-01-31        NaN  \n",
              "2018-02-28        0.0  \n",
              "2018-03-31        NaN  \n",
              "2018-04-30        0.0  \n",
              "2018-05-31        0.0  \n",
              "2018-06-30        0.0  \n",
              "2018-07-31        0.0  \n",
              "2018-08-31        0.0  \n",
              "2018-09-30        NaN  \n",
              "2018-10-31        0.0  \n",
              "2018-11-30        NaN  \n",
              "2018-12-31        NaN  \n",
              "2019-01-31        0.0  \n",
              "2019-02-28        0.0  \n",
              "2019-03-31        0.0  \n",
              "2019-04-30        0.0  \n",
              "2019-05-31        0.0  \n",
              "2019-06-30        0.0  \n",
              "2019-07-31        0.0  \n",
              "2019-08-31        0.0  \n",
              "2019-09-30        0.0  \n",
              "2019-10-31        0.0  \n",
              "2019-11-30        NaN  \n",
              "2019-12-31        NaN  \n",
              "2020-01-31        0.0  \n",
              "2020-02-29        0.0  \n",
              "2020-03-31        0.0  \n",
              "2020-04-30        NaN  \n",
              "2020-05-31        0.0  \n",
              "2020-06-30        0.0  \n",
              "2020-07-31        0.0  \n",
              "2020-08-31        0.0  \n",
              "2020-09-30        NaN  \n",
              "2020-10-31        NaN  \n",
              "2020-11-30        0.0  "
            ],
            "text/html": [
              "\n",
              "  <div id=\"df-d5e092c6-b445-464b-a467-ef3c0eb4fab5\" class=\"colab-df-container\">\n",
              "    <div>\n",
              "<style scoped>\n",
              "    .dataframe tbody tr th:only-of-type {\n",
              "        vertical-align: middle;\n",
              "    }\n",
              "\n",
              "    .dataframe tbody tr th {\n",
              "        vertical-align: top;\n",
              "    }\n",
              "\n",
              "    .dataframe thead th {\n",
              "        text-align: right;\n",
              "    }\n",
              "</style>\n",
              "<table border=\"1\" class=\"dataframe\">\n",
              "  <thead>\n",
              "    <tr style=\"text-align: right;\">\n",
              "      <th></th>\n",
              "      <th>Sales</th>\n",
              "      <th>Price Discount (%)</th>\n",
              "      <th>In-Store Promo</th>\n",
              "      <th>Catalogue Promo</th>\n",
              "      <th>Store End Promo</th>\n",
              "      <th>Google_Mobility</th>\n",
              "      <th>Covid_Flag</th>\n",
              "      <th>V_DAY</th>\n",
              "      <th>EASTER</th>\n",
              "      <th>CHRISTMAS</th>\n",
              "    </tr>\n",
              "    <tr>\n",
              "      <th>date</th>\n",
              "      <th></th>\n",
              "      <th></th>\n",
              "      <th></th>\n",
              "      <th></th>\n",
              "      <th></th>\n",
              "      <th></th>\n",
              "      <th></th>\n",
              "      <th></th>\n",
              "      <th></th>\n",
              "      <th></th>\n",
              "    </tr>\n",
              "  </thead>\n",
              "  <tbody>\n",
              "    <tr>\n",
              "      <th>2017-02-28</th>\n",
              "      <td>27854.000000</td>\n",
              "      <td>0.0</td>\n",
              "      <td>0.666667</td>\n",
              "      <td>0.00</td>\n",
              "      <td>0.666667</td>\n",
              "      <td>0.000000</td>\n",
              "      <td>0.000000</td>\n",
              "      <td>0.333333</td>\n",
              "      <td>0.000000</td>\n",
              "      <td>0.0</td>\n",
              "    </tr>\n",
              "    <tr>\n",
              "      <th>2017-03-31</th>\n",
              "      <td>28272.666667</td>\n",
              "      <td>0.0</td>\n",
              "      <td>0.666667</td>\n",
              "      <td>0.00</td>\n",
              "      <td>0.333333</td>\n",
              "      <td>0.000000</td>\n",
              "      <td>0.000000</td>\n",
              "      <td>0.000000</td>\n",
              "      <td>0.000000</td>\n",
              "      <td>0.0</td>\n",
              "    </tr>\n",
              "    <tr>\n",
              "      <th>2017-04-30</th>\n",
              "      <td>30361.000000</td>\n",
              "      <td>0.0</td>\n",
              "      <td>1.000000</td>\n",
              "      <td>0.00</td>\n",
              "      <td>1.000000</td>\n",
              "      <td>0.000000</td>\n",
              "      <td>0.000000</td>\n",
              "      <td>0.000000</td>\n",
              "      <td>0.000000</td>\n",
              "      <td>0.0</td>\n",
              "    </tr>\n",
              "    <tr>\n",
              "      <th>2017-05-31</th>\n",
              "      <td>27157.000000</td>\n",
              "      <td>0.0</td>\n",
              "      <td>0.000000</td>\n",
              "      <td>0.00</td>\n",
              "      <td>0.000000</td>\n",
              "      <td>0.000000</td>\n",
              "      <td>0.000000</td>\n",
              "      <td>0.000000</td>\n",
              "      <td>0.000000</td>\n",
              "      <td>0.0</td>\n",
              "    </tr>\n",
              "    <tr>\n",
              "      <th>2017-06-30</th>\n",
              "      <td>25674.500000</td>\n",
              "      <td>0.0</td>\n",
              "      <td>1.000000</td>\n",
              "      <td>0.00</td>\n",
              "      <td>1.000000</td>\n",
              "      <td>0.000000</td>\n",
              "      <td>0.000000</td>\n",
              "      <td>0.000000</td>\n",
              "      <td>0.000000</td>\n",
              "      <td>0.0</td>\n",
              "    </tr>\n",
              "    <tr>\n",
              "      <th>2017-07-31</th>\n",
              "      <td>27769.333333</td>\n",
              "      <td>0.0</td>\n",
              "      <td>0.666667</td>\n",
              "      <td>0.00</td>\n",
              "      <td>0.666667</td>\n",
              "      <td>0.000000</td>\n",
              "      <td>0.000000</td>\n",
              "      <td>0.000000</td>\n",
              "      <td>0.000000</td>\n",
              "      <td>0.0</td>\n",
              "    </tr>\n",
              "    <tr>\n",
              "      <th>2017-08-31</th>\n",
              "      <td>28151.500000</td>\n",
              "      <td>0.0</td>\n",
              "      <td>1.000000</td>\n",
              "      <td>0.00</td>\n",
              "      <td>1.000000</td>\n",
              "      <td>0.000000</td>\n",
              "      <td>0.000000</td>\n",
              "      <td>0.000000</td>\n",
              "      <td>0.000000</td>\n",
              "      <td>0.0</td>\n",
              "    </tr>\n",
              "    <tr>\n",
              "      <th>2017-09-30</th>\n",
              "      <td>32677.500000</td>\n",
              "      <td>0.0</td>\n",
              "      <td>0.500000</td>\n",
              "      <td>0.50</td>\n",
              "      <td>1.000000</td>\n",
              "      <td>0.000000</td>\n",
              "      <td>0.000000</td>\n",
              "      <td>0.000000</td>\n",
              "      <td>0.000000</td>\n",
              "      <td>0.0</td>\n",
              "    </tr>\n",
              "    <tr>\n",
              "      <th>2017-10-31</th>\n",
              "      <td>33553.000000</td>\n",
              "      <td>0.0</td>\n",
              "      <td>0.250000</td>\n",
              "      <td>0.00</td>\n",
              "      <td>0.000000</td>\n",
              "      <td>0.000000</td>\n",
              "      <td>0.000000</td>\n",
              "      <td>0.000000</td>\n",
              "      <td>0.000000</td>\n",
              "      <td>0.0</td>\n",
              "    </tr>\n",
              "    <tr>\n",
              "      <th>2017-11-30</th>\n",
              "      <td>NaN</td>\n",
              "      <td>NaN</td>\n",
              "      <td>NaN</td>\n",
              "      <td>NaN</td>\n",
              "      <td>NaN</td>\n",
              "      <td>NaN</td>\n",
              "      <td>NaN</td>\n",
              "      <td>NaN</td>\n",
              "      <td>NaN</td>\n",
              "      <td>NaN</td>\n",
              "    </tr>\n",
              "    <tr>\n",
              "      <th>2017-12-31</th>\n",
              "      <td>NaN</td>\n",
              "      <td>NaN</td>\n",
              "      <td>NaN</td>\n",
              "      <td>NaN</td>\n",
              "      <td>NaN</td>\n",
              "      <td>NaN</td>\n",
              "      <td>NaN</td>\n",
              "      <td>NaN</td>\n",
              "      <td>NaN</td>\n",
              "      <td>NaN</td>\n",
              "    </tr>\n",
              "    <tr>\n",
              "      <th>2018-01-31</th>\n",
              "      <td>NaN</td>\n",
              "      <td>NaN</td>\n",
              "      <td>NaN</td>\n",
              "      <td>NaN</td>\n",
              "      <td>NaN</td>\n",
              "      <td>NaN</td>\n",
              "      <td>NaN</td>\n",
              "      <td>NaN</td>\n",
              "      <td>NaN</td>\n",
              "      <td>NaN</td>\n",
              "    </tr>\n",
              "    <tr>\n",
              "      <th>2018-02-28</th>\n",
              "      <td>34176.000000</td>\n",
              "      <td>0.0</td>\n",
              "      <td>0.666667</td>\n",
              "      <td>0.00</td>\n",
              "      <td>0.666667</td>\n",
              "      <td>0.000000</td>\n",
              "      <td>0.000000</td>\n",
              "      <td>0.333333</td>\n",
              "      <td>0.000000</td>\n",
              "      <td>0.0</td>\n",
              "    </tr>\n",
              "    <tr>\n",
              "      <th>2018-03-31</th>\n",
              "      <td>NaN</td>\n",
              "      <td>NaN</td>\n",
              "      <td>NaN</td>\n",
              "      <td>NaN</td>\n",
              "      <td>NaN</td>\n",
              "      <td>NaN</td>\n",
              "      <td>NaN</td>\n",
              "      <td>NaN</td>\n",
              "      <td>NaN</td>\n",
              "      <td>NaN</td>\n",
              "    </tr>\n",
              "    <tr>\n",
              "      <th>2018-04-30</th>\n",
              "      <td>34720.333333</td>\n",
              "      <td>0.0</td>\n",
              "      <td>0.666667</td>\n",
              "      <td>0.00</td>\n",
              "      <td>0.666667</td>\n",
              "      <td>0.000000</td>\n",
              "      <td>0.000000</td>\n",
              "      <td>0.000000</td>\n",
              "      <td>0.333333</td>\n",
              "      <td>0.0</td>\n",
              "    </tr>\n",
              "    <tr>\n",
              "      <th>2018-05-31</th>\n",
              "      <td>33917.000000</td>\n",
              "      <td>0.0</td>\n",
              "      <td>0.500000</td>\n",
              "      <td>0.00</td>\n",
              "      <td>0.500000</td>\n",
              "      <td>0.000000</td>\n",
              "      <td>0.000000</td>\n",
              "      <td>0.000000</td>\n",
              "      <td>0.000000</td>\n",
              "      <td>0.0</td>\n",
              "    </tr>\n",
              "    <tr>\n",
              "      <th>2018-06-30</th>\n",
              "      <td>32343.000000</td>\n",
              "      <td>0.0</td>\n",
              "      <td>0.500000</td>\n",
              "      <td>0.00</td>\n",
              "      <td>0.500000</td>\n",
              "      <td>0.000000</td>\n",
              "      <td>0.000000</td>\n",
              "      <td>0.000000</td>\n",
              "      <td>0.000000</td>\n",
              "      <td>0.0</td>\n",
              "    </tr>\n",
              "    <tr>\n",
              "      <th>2018-07-31</th>\n",
              "      <td>34799.750000</td>\n",
              "      <td>0.0</td>\n",
              "      <td>0.000000</td>\n",
              "      <td>0.00</td>\n",
              "      <td>0.000000</td>\n",
              "      <td>0.000000</td>\n",
              "      <td>0.000000</td>\n",
              "      <td>0.000000</td>\n",
              "      <td>0.000000</td>\n",
              "      <td>0.0</td>\n",
              "    </tr>\n",
              "    <tr>\n",
              "      <th>2018-08-31</th>\n",
              "      <td>31492.750000</td>\n",
              "      <td>0.0</td>\n",
              "      <td>0.250000</td>\n",
              "      <td>0.00</td>\n",
              "      <td>0.000000</td>\n",
              "      <td>0.000000</td>\n",
              "      <td>0.000000</td>\n",
              "      <td>0.000000</td>\n",
              "      <td>0.000000</td>\n",
              "      <td>0.0</td>\n",
              "    </tr>\n",
              "    <tr>\n",
              "      <th>2018-09-30</th>\n",
              "      <td>NaN</td>\n",
              "      <td>NaN</td>\n",
              "      <td>NaN</td>\n",
              "      <td>NaN</td>\n",
              "      <td>NaN</td>\n",
              "      <td>NaN</td>\n",
              "      <td>NaN</td>\n",
              "      <td>NaN</td>\n",
              "      <td>NaN</td>\n",
              "      <td>NaN</td>\n",
              "    </tr>\n",
              "    <tr>\n",
              "      <th>2018-10-31</th>\n",
              "      <td>32457.000000</td>\n",
              "      <td>0.0</td>\n",
              "      <td>0.000000</td>\n",
              "      <td>0.25</td>\n",
              "      <td>0.250000</td>\n",
              "      <td>0.000000</td>\n",
              "      <td>0.000000</td>\n",
              "      <td>0.000000</td>\n",
              "      <td>0.000000</td>\n",
              "      <td>0.0</td>\n",
              "    </tr>\n",
              "    <tr>\n",
              "      <th>2018-11-30</th>\n",
              "      <td>NaN</td>\n",
              "      <td>NaN</td>\n",
              "      <td>NaN</td>\n",
              "      <td>NaN</td>\n",
              "      <td>NaN</td>\n",
              "      <td>NaN</td>\n",
              "      <td>NaN</td>\n",
              "      <td>NaN</td>\n",
              "      <td>NaN</td>\n",
              "      <td>NaN</td>\n",
              "    </tr>\n",
              "    <tr>\n",
              "      <th>2018-12-31</th>\n",
              "      <td>NaN</td>\n",
              "      <td>NaN</td>\n",
              "      <td>NaN</td>\n",
              "      <td>NaN</td>\n",
              "      <td>NaN</td>\n",
              "      <td>NaN</td>\n",
              "      <td>NaN</td>\n",
              "      <td>NaN</td>\n",
              "      <td>NaN</td>\n",
              "      <td>NaN</td>\n",
              "    </tr>\n",
              "    <tr>\n",
              "      <th>2019-01-31</th>\n",
              "      <td>34603.000000</td>\n",
              "      <td>0.0</td>\n",
              "      <td>1.000000</td>\n",
              "      <td>0.00</td>\n",
              "      <td>1.000000</td>\n",
              "      <td>0.000000</td>\n",
              "      <td>0.000000</td>\n",
              "      <td>0.000000</td>\n",
              "      <td>0.000000</td>\n",
              "      <td>0.0</td>\n",
              "    </tr>\n",
              "    <tr>\n",
              "      <th>2019-02-28</th>\n",
              "      <td>30148.000000</td>\n",
              "      <td>0.0</td>\n",
              "      <td>0.333333</td>\n",
              "      <td>0.00</td>\n",
              "      <td>0.333333</td>\n",
              "      <td>0.000000</td>\n",
              "      <td>0.000000</td>\n",
              "      <td>0.333333</td>\n",
              "      <td>0.000000</td>\n",
              "      <td>0.0</td>\n",
              "    </tr>\n",
              "    <tr>\n",
              "      <th>2019-03-31</th>\n",
              "      <td>30316.500000</td>\n",
              "      <td>0.0</td>\n",
              "      <td>0.250000</td>\n",
              "      <td>0.00</td>\n",
              "      <td>0.000000</td>\n",
              "      <td>0.000000</td>\n",
              "      <td>0.000000</td>\n",
              "      <td>0.000000</td>\n",
              "      <td>0.000000</td>\n",
              "      <td>0.0</td>\n",
              "    </tr>\n",
              "    <tr>\n",
              "      <th>2019-04-30</th>\n",
              "      <td>31741.000000</td>\n",
              "      <td>0.0</td>\n",
              "      <td>1.000000</td>\n",
              "      <td>0.00</td>\n",
              "      <td>1.000000</td>\n",
              "      <td>0.000000</td>\n",
              "      <td>0.000000</td>\n",
              "      <td>0.000000</td>\n",
              "      <td>0.000000</td>\n",
              "      <td>0.0</td>\n",
              "    </tr>\n",
              "    <tr>\n",
              "      <th>2019-05-31</th>\n",
              "      <td>28457.000000</td>\n",
              "      <td>0.0</td>\n",
              "      <td>1.000000</td>\n",
              "      <td>0.00</td>\n",
              "      <td>1.000000</td>\n",
              "      <td>0.000000</td>\n",
              "      <td>0.000000</td>\n",
              "      <td>0.000000</td>\n",
              "      <td>0.000000</td>\n",
              "      <td>0.0</td>\n",
              "    </tr>\n",
              "    <tr>\n",
              "      <th>2019-06-30</th>\n",
              "      <td>29310.000000</td>\n",
              "      <td>0.0</td>\n",
              "      <td>0.500000</td>\n",
              "      <td>0.50</td>\n",
              "      <td>0.500000</td>\n",
              "      <td>0.000000</td>\n",
              "      <td>0.000000</td>\n",
              "      <td>0.000000</td>\n",
              "      <td>0.000000</td>\n",
              "      <td>0.0</td>\n",
              "    </tr>\n",
              "    <tr>\n",
              "      <th>2019-07-31</th>\n",
              "      <td>31361.000000</td>\n",
              "      <td>0.0</td>\n",
              "      <td>0.000000</td>\n",
              "      <td>0.00</td>\n",
              "      <td>0.000000</td>\n",
              "      <td>0.000000</td>\n",
              "      <td>0.000000</td>\n",
              "      <td>0.000000</td>\n",
              "      <td>0.000000</td>\n",
              "      <td>0.0</td>\n",
              "    </tr>\n",
              "    <tr>\n",
              "      <th>2019-08-31</th>\n",
              "      <td>32457.000000</td>\n",
              "      <td>0.0</td>\n",
              "      <td>0.000000</td>\n",
              "      <td>0.00</td>\n",
              "      <td>0.000000</td>\n",
              "      <td>0.000000</td>\n",
              "      <td>0.000000</td>\n",
              "      <td>0.000000</td>\n",
              "      <td>0.000000</td>\n",
              "      <td>0.0</td>\n",
              "    </tr>\n",
              "    <tr>\n",
              "      <th>2019-09-30</th>\n",
              "      <td>36320.000000</td>\n",
              "      <td>0.0</td>\n",
              "      <td>1.000000</td>\n",
              "      <td>0.00</td>\n",
              "      <td>0.000000</td>\n",
              "      <td>0.000000</td>\n",
              "      <td>0.000000</td>\n",
              "      <td>0.000000</td>\n",
              "      <td>0.000000</td>\n",
              "      <td>0.0</td>\n",
              "    </tr>\n",
              "    <tr>\n",
              "      <th>2019-10-31</th>\n",
              "      <td>36072.000000</td>\n",
              "      <td>0.0</td>\n",
              "      <td>0.000000</td>\n",
              "      <td>0.00</td>\n",
              "      <td>0.000000</td>\n",
              "      <td>0.000000</td>\n",
              "      <td>0.000000</td>\n",
              "      <td>0.000000</td>\n",
              "      <td>0.000000</td>\n",
              "      <td>0.0</td>\n",
              "    </tr>\n",
              "    <tr>\n",
              "      <th>2019-11-30</th>\n",
              "      <td>NaN</td>\n",
              "      <td>NaN</td>\n",
              "      <td>NaN</td>\n",
              "      <td>NaN</td>\n",
              "      <td>NaN</td>\n",
              "      <td>NaN</td>\n",
              "      <td>NaN</td>\n",
              "      <td>NaN</td>\n",
              "      <td>NaN</td>\n",
              "      <td>NaN</td>\n",
              "    </tr>\n",
              "    <tr>\n",
              "      <th>2019-12-31</th>\n",
              "      <td>NaN</td>\n",
              "      <td>NaN</td>\n",
              "      <td>NaN</td>\n",
              "      <td>NaN</td>\n",
              "      <td>NaN</td>\n",
              "      <td>NaN</td>\n",
              "      <td>NaN</td>\n",
              "      <td>NaN</td>\n",
              "      <td>NaN</td>\n",
              "      <td>NaN</td>\n",
              "    </tr>\n",
              "    <tr>\n",
              "      <th>2020-01-31</th>\n",
              "      <td>34303.000000</td>\n",
              "      <td>4.0</td>\n",
              "      <td>1.000000</td>\n",
              "      <td>0.00</td>\n",
              "      <td>0.000000</td>\n",
              "      <td>0.000000</td>\n",
              "      <td>0.000000</td>\n",
              "      <td>0.000000</td>\n",
              "      <td>0.000000</td>\n",
              "      <td>0.0</td>\n",
              "    </tr>\n",
              "    <tr>\n",
              "      <th>2020-02-29</th>\n",
              "      <td>29511.333333</td>\n",
              "      <td>1.0</td>\n",
              "      <td>0.333333</td>\n",
              "      <td>0.00</td>\n",
              "      <td>0.333333</td>\n",
              "      <td>2.086667</td>\n",
              "      <td>0.666667</td>\n",
              "      <td>0.000000</td>\n",
              "      <td>0.000000</td>\n",
              "      <td>0.0</td>\n",
              "    </tr>\n",
              "    <tr>\n",
              "      <th>2020-03-31</th>\n",
              "      <td>35684.000000</td>\n",
              "      <td>1.0</td>\n",
              "      <td>0.000000</td>\n",
              "      <td>0.00</td>\n",
              "      <td>0.000000</td>\n",
              "      <td>3.810000</td>\n",
              "      <td>1.000000</td>\n",
              "      <td>0.000000</td>\n",
              "      <td>0.000000</td>\n",
              "      <td>0.0</td>\n",
              "    </tr>\n",
              "    <tr>\n",
              "      <th>2020-04-30</th>\n",
              "      <td>NaN</td>\n",
              "      <td>NaN</td>\n",
              "      <td>NaN</td>\n",
              "      <td>NaN</td>\n",
              "      <td>NaN</td>\n",
              "      <td>NaN</td>\n",
              "      <td>NaN</td>\n",
              "      <td>NaN</td>\n",
              "      <td>NaN</td>\n",
              "      <td>NaN</td>\n",
              "    </tr>\n",
              "    <tr>\n",
              "      <th>2020-05-31</th>\n",
              "      <td>30488.750000</td>\n",
              "      <td>1.5</td>\n",
              "      <td>0.000000</td>\n",
              "      <td>0.00</td>\n",
              "      <td>0.000000</td>\n",
              "      <td>-15.055000</td>\n",
              "      <td>1.000000</td>\n",
              "      <td>0.000000</td>\n",
              "      <td>0.000000</td>\n",
              "      <td>0.0</td>\n",
              "    </tr>\n",
              "    <tr>\n",
              "      <th>2020-06-30</th>\n",
              "      <td>27244.000000</td>\n",
              "      <td>1.0</td>\n",
              "      <td>0.000000</td>\n",
              "      <td>0.00</td>\n",
              "      <td>0.000000</td>\n",
              "      <td>-8.720000</td>\n",
              "      <td>1.000000</td>\n",
              "      <td>0.000000</td>\n",
              "      <td>0.000000</td>\n",
              "      <td>0.0</td>\n",
              "    </tr>\n",
              "    <tr>\n",
              "      <th>2020-07-31</th>\n",
              "      <td>25884.500000</td>\n",
              "      <td>1.0</td>\n",
              "      <td>0.000000</td>\n",
              "      <td>0.00</td>\n",
              "      <td>0.000000</td>\n",
              "      <td>-9.025000</td>\n",
              "      <td>1.000000</td>\n",
              "      <td>0.000000</td>\n",
              "      <td>0.000000</td>\n",
              "      <td>0.0</td>\n",
              "    </tr>\n",
              "    <tr>\n",
              "      <th>2020-08-31</th>\n",
              "      <td>24406.200000</td>\n",
              "      <td>1.0</td>\n",
              "      <td>0.200000</td>\n",
              "      <td>0.00</td>\n",
              "      <td>0.000000</td>\n",
              "      <td>-16.694000</td>\n",
              "      <td>1.000000</td>\n",
              "      <td>0.000000</td>\n",
              "      <td>0.000000</td>\n",
              "      <td>0.0</td>\n",
              "    </tr>\n",
              "    <tr>\n",
              "      <th>2020-09-30</th>\n",
              "      <td>NaN</td>\n",
              "      <td>NaN</td>\n",
              "      <td>NaN</td>\n",
              "      <td>NaN</td>\n",
              "      <td>NaN</td>\n",
              "      <td>NaN</td>\n",
              "      <td>NaN</td>\n",
              "      <td>NaN</td>\n",
              "      <td>NaN</td>\n",
              "      <td>NaN</td>\n",
              "    </tr>\n",
              "    <tr>\n",
              "      <th>2020-10-31</th>\n",
              "      <td>NaN</td>\n",
              "      <td>NaN</td>\n",
              "      <td>NaN</td>\n",
              "      <td>NaN</td>\n",
              "      <td>NaN</td>\n",
              "      <td>NaN</td>\n",
              "      <td>NaN</td>\n",
              "      <td>NaN</td>\n",
              "      <td>NaN</td>\n",
              "      <td>NaN</td>\n",
              "    </tr>\n",
              "    <tr>\n",
              "      <th>2020-11-30</th>\n",
              "      <td>33267.000000</td>\n",
              "      <td>1.0</td>\n",
              "      <td>1.000000</td>\n",
              "      <td>0.00</td>\n",
              "      <td>1.000000</td>\n",
              "      <td>-7.430000</td>\n",
              "      <td>1.000000</td>\n",
              "      <td>0.000000</td>\n",
              "      <td>0.000000</td>\n",
              "      <td>0.0</td>\n",
              "    </tr>\n",
              "  </tbody>\n",
              "</table>\n",
              "</div>\n",
              "    <div class=\"colab-df-buttons\">\n",
              "\n",
              "  <div class=\"colab-df-container\">\n",
              "    <button class=\"colab-df-convert\" onclick=\"convertToInteractive('df-d5e092c6-b445-464b-a467-ef3c0eb4fab5')\"\n",
              "            title=\"Convert this dataframe to an interactive table.\"\n",
              "            style=\"display:none;\">\n",
              "\n",
              "  <svg xmlns=\"http://www.w3.org/2000/svg\" height=\"24px\" viewBox=\"0 -960 960 960\">\n",
              "    <path d=\"M120-120v-720h720v720H120Zm60-500h600v-160H180v160Zm220 220h160v-160H400v160Zm0 220h160v-160H400v160ZM180-400h160v-160H180v160Zm440 0h160v-160H620v160ZM180-180h160v-160H180v160Zm440 0h160v-160H620v160Z\"/>\n",
              "  </svg>\n",
              "    </button>\n",
              "\n",
              "  <style>\n",
              "    .colab-df-container {\n",
              "      display:flex;\n",
              "      gap: 12px;\n",
              "    }\n",
              "\n",
              "    .colab-df-convert {\n",
              "      background-color: #E8F0FE;\n",
              "      border: none;\n",
              "      border-radius: 50%;\n",
              "      cursor: pointer;\n",
              "      display: none;\n",
              "      fill: #1967D2;\n",
              "      height: 32px;\n",
              "      padding: 0 0 0 0;\n",
              "      width: 32px;\n",
              "    }\n",
              "\n",
              "    .colab-df-convert:hover {\n",
              "      background-color: #E2EBFA;\n",
              "      box-shadow: 0px 1px 2px rgba(60, 64, 67, 0.3), 0px 1px 3px 1px rgba(60, 64, 67, 0.15);\n",
              "      fill: #174EA6;\n",
              "    }\n",
              "\n",
              "    .colab-df-buttons div {\n",
              "      margin-bottom: 4px;\n",
              "    }\n",
              "\n",
              "    [theme=dark] .colab-df-convert {\n",
              "      background-color: #3B4455;\n",
              "      fill: #D2E3FC;\n",
              "    }\n",
              "\n",
              "    [theme=dark] .colab-df-convert:hover {\n",
              "      background-color: #434B5C;\n",
              "      box-shadow: 0px 1px 3px 1px rgba(0, 0, 0, 0.15);\n",
              "      filter: drop-shadow(0px 1px 2px rgba(0, 0, 0, 0.3));\n",
              "      fill: #FFFFFF;\n",
              "    }\n",
              "  </style>\n",
              "\n",
              "    <script>\n",
              "      const buttonEl =\n",
              "        document.querySelector('#df-d5e092c6-b445-464b-a467-ef3c0eb4fab5 button.colab-df-convert');\n",
              "      buttonEl.style.display =\n",
              "        google.colab.kernel.accessAllowed ? 'block' : 'none';\n",
              "\n",
              "      async function convertToInteractive(key) {\n",
              "        const element = document.querySelector('#df-d5e092c6-b445-464b-a467-ef3c0eb4fab5');\n",
              "        const dataTable =\n",
              "          await google.colab.kernel.invokeFunction('convertToInteractive',\n",
              "                                                    [key], {});\n",
              "        if (!dataTable) return;\n",
              "\n",
              "        const docLinkHtml = 'Like what you see? Visit the ' +\n",
              "          '<a target=\"_blank\" href=https://colab.research.google.com/notebooks/data_table.ipynb>data table notebook</a>'\n",
              "          + ' to learn more about interactive tables.';\n",
              "        element.innerHTML = '';\n",
              "        dataTable['output_type'] = 'display_data';\n",
              "        await google.colab.output.renderOutput(dataTable, element);\n",
              "        const docLink = document.createElement('div');\n",
              "        docLink.innerHTML = docLinkHtml;\n",
              "        element.appendChild(docLink);\n",
              "      }\n",
              "    </script>\n",
              "  </div>\n",
              "\n",
              "\n",
              "<div id=\"df-9d653990-260b-4eae-8c18-146934ca2685\">\n",
              "  <button class=\"colab-df-quickchart\" onclick=\"quickchart('df-9d653990-260b-4eae-8c18-146934ca2685')\"\n",
              "            title=\"Suggest charts.\"\n",
              "            style=\"display:none;\">\n",
              "\n",
              "<svg xmlns=\"http://www.w3.org/2000/svg\" height=\"24px\"viewBox=\"0 0 24 24\"\n",
              "     width=\"24px\">\n",
              "    <g>\n",
              "        <path d=\"M19 3H5c-1.1 0-2 .9-2 2v14c0 1.1.9 2 2 2h14c1.1 0 2-.9 2-2V5c0-1.1-.9-2-2-2zM9 17H7v-7h2v7zm4 0h-2V7h2v10zm4 0h-2v-4h2v4z\"/>\n",
              "    </g>\n",
              "</svg>\n",
              "  </button>\n",
              "\n",
              "<style>\n",
              "  .colab-df-quickchart {\n",
              "    background-color: #E8F0FE;\n",
              "    border: none;\n",
              "    border-radius: 50%;\n",
              "    cursor: pointer;\n",
              "    display: none;\n",
              "    fill: #1967D2;\n",
              "    height: 32px;\n",
              "    padding: 0 0 0 0;\n",
              "    width: 32px;\n",
              "  }\n",
              "\n",
              "  .colab-df-quickchart:hover {\n",
              "    background-color: #E2EBFA;\n",
              "    box-shadow: 0px 1px 2px rgba(60, 64, 67, 0.3), 0px 1px 3px 1px rgba(60, 64, 67, 0.15);\n",
              "    fill: #174EA6;\n",
              "  }\n",
              "\n",
              "  [theme=dark] .colab-df-quickchart {\n",
              "    background-color: #3B4455;\n",
              "    fill: #D2E3FC;\n",
              "  }\n",
              "\n",
              "  [theme=dark] .colab-df-quickchart:hover {\n",
              "    background-color: #434B5C;\n",
              "    box-shadow: 0px 1px 3px 1px rgba(0, 0, 0, 0.15);\n",
              "    filter: drop-shadow(0px 1px 2px rgba(0, 0, 0, 0.3));\n",
              "    fill: #FFFFFF;\n",
              "  }\n",
              "</style>\n",
              "\n",
              "  <script>\n",
              "    async function quickchart(key) {\n",
              "      const charts = await google.colab.kernel.invokeFunction(\n",
              "          'suggestCharts', [key], {});\n",
              "    }\n",
              "    (() => {\n",
              "      let quickchartButtonEl =\n",
              "        document.querySelector('#df-9d653990-260b-4eae-8c18-146934ca2685 button');\n",
              "      quickchartButtonEl.style.display =\n",
              "        google.colab.kernel.accessAllowed ? 'block' : 'none';\n",
              "    })();\n",
              "  </script>\n",
              "</div>\n",
              "    </div>\n",
              "  </div>\n"
            ]
          },
          "metadata": {},
          "execution_count": 73
        }
      ]
    },
    {
      "cell_type": "code",
      "source": [
        "print (\"\\nMissing values :  \", df1.isnull().any())"
      ],
      "metadata": {
        "colab": {
          "base_uri": "https://localhost:8080/"
        },
        "id": "SkwW6jPlkUy4",
        "outputId": "dad97c55-fe2b-4359-8d32-ab6731323fc3"
      },
      "id": "SkwW6jPlkUy4",
      "execution_count": null,
      "outputs": [
        {
          "output_type": "stream",
          "name": "stdout",
          "text": [
            "\n",
            "Missing values :   date                  False\n",
            "Sales                 False\n",
            "Price Discount (%)    False\n",
            "In-Store Promo        False\n",
            "Catalogue Promo       False\n",
            "Store End Promo       False\n",
            "Google_Mobility       False\n",
            "Covid_Flag            False\n",
            "V_DAY                 False\n",
            "EASTER                False\n",
            "CHRISTMAS             False\n",
            "dtype: bool\n"
          ]
        }
      ]
    },
    {
      "cell_type": "code",
      "source": [
        "el_df.resample('M').mean().plot(subplots=True)"
      ],
      "metadata": {
        "colab": {
          "base_uri": "https://localhost:8080/",
          "height": 555
        },
        "id": "Q5Rgh17bkomN",
        "outputId": "f8f7f4bd-a979-4b6f-98b9-f66b9ed183a6"
      },
      "id": "Q5Rgh17bkomN",
      "execution_count": null,
      "outputs": [
        {
          "output_type": "execute_result",
          "data": {
            "text/plain": [
              "array([<Axes: xlabel='date'>, <Axes: xlabel='date'>,\n",
              "       <Axes: xlabel='date'>, <Axes: xlabel='date'>,\n",
              "       <Axes: xlabel='date'>, <Axes: xlabel='date'>,\n",
              "       <Axes: xlabel='date'>, <Axes: xlabel='date'>,\n",
              "       <Axes: xlabel='date'>, <Axes: xlabel='date'>], dtype=object)"
            ]
          },
          "metadata": {},
          "execution_count": 75
        },
        {
          "output_type": "display_data",
          "data": {
            "text/plain": [
              "<Figure size 640x480 with 10 Axes>"
            ],
            "image/png": "[encoded data removed]"
          },
          "metadata": {}
        }
      ]
    },
    {
      "cell_type": "code",
      "source": [
        "final_df=el_df.resample('M').mean()"
      ],
      "metadata": {
        "id": "fa5VUXyslJKR"
      },
      "id": "fa5VUXyslJKR",
      "execution_count": null,
      "outputs": []
    },
    {
      "cell_type": "code",
      "source": [
        "final_df.isnull().any()"
      ],
      "metadata": {
        "colab": {
          "base_uri": "https://localhost:8080/"
        },
        "id": "RmnXlaaqldlu",
        "outputId": "30266f3d-07d6-4eb4-dc90-b9ea1beb49bf"
      },
      "id": "RmnXlaaqldlu",
      "execution_count": null,
      "outputs": [
        {
          "output_type": "execute_result",
          "data": {
            "text/plain": [
              "Sales                 True\n",
              "Price Discount (%)    True\n",
              "In-Store Promo        True\n",
              "Catalogue Promo       True\n",
              "Store End Promo       True\n",
              "Google_Mobility       True\n",
              "Covid_Flag            True\n",
              "V_DAY                 True\n",
              "EASTER                True\n",
              "CHRISTMAS             True\n",
              "dtype: bool"
            ]
          },
          "metadata": {},
          "execution_count": 82
        }
      ]
    },
    {
      "cell_type": "code",
      "source": [
        "final_df1=final_df.dropna()"
      ],
      "metadata": {
        "id": "TmxYN6sFlwbI"
      },
      "id": "TmxYN6sFlwbI",
      "execution_count": null,
      "outputs": []
    },
    {
      "cell_type": "code",
      "source": [
        "final_df1.isna().sum()"
      ],
      "metadata": {
        "colab": {
          "base_uri": "https://localhost:8080/"
        },
        "id": "FMJN6Jd6mQBW",
        "outputId": "08e09779-3ebb-4116-e927-a7af8d06980b"
      },
      "id": "FMJN6Jd6mQBW",
      "execution_count": null,
      "outputs": [
        {
          "output_type": "execute_result",
          "data": {
            "text/plain": [
              "Sales                 0\n",
              "Price Discount (%)    0\n",
              "In-Store Promo        0\n",
              "Catalogue Promo       0\n",
              "Store End Promo       0\n",
              "Google_Mobility       0\n",
              "Covid_Flag            0\n",
              "V_DAY                 0\n",
              "EASTER                0\n",
              "CHRISTMAS             0\n",
              "dtype: int64"
            ]
          },
          "metadata": {},
          "execution_count": 85
        }
      ]
    },
    {
      "cell_type": "code",
      "source": [
        "import pmdarima as pm\n",
        "model = pm.auto_arima(final_df1['Sales'],\n",
        "                        m=12, seasonal=True,\n",
        "                      start_p=0, start_q=0, max_order=4, test='adf',error_action='ignore',\n",
        "                           suppress_warnings=True,\n",
        "                      stepwise=True, trace=True)"
      ],
      "metadata": {
        "colab": {
          "base_uri": "https://localhost:8080/"
        },
        "id": "HssMw455lKkd",
        "outputId": "2b5565c4-efc1-4420-bd24-155d05ad058d"
      },
      "id": "HssMw455lKkd",
      "execution_count": null,
      "outputs": [
        {
          "output_type": "stream",
          "name": "stdout",
          "text": [
            "Performing stepwise search to minimize aic\n",
            " ARIMA(0,1,0)(1,0,1)[12] intercept   : AIC=inf, Time=0.78 sec\n",
            " ARIMA(0,1,0)(0,0,0)[12] intercept   : AIC=627.085, Time=0.04 sec\n",
            " ARIMA(1,1,0)(1,0,0)[12] intercept   : AIC=630.683, Time=0.20 sec\n",
            " ARIMA(0,1,1)(0,0,1)[12] intercept   : AIC=630.693, Time=0.17 sec\n",
            " ARIMA(0,1,0)(0,0,0)[12]             : AIC=625.196, Time=0.03 sec\n",
            " ARIMA(0,1,0)(1,0,0)[12] intercept   : AIC=629.034, Time=0.15 sec\n",
            " ARIMA(0,1,0)(0,0,1)[12] intercept   : AIC=629.042, Time=0.08 sec\n",
            " ARIMA(1,1,0)(0,0,0)[12] intercept   : AIC=628.724, Time=0.07 sec\n",
            " ARIMA(0,1,1)(0,0,0)[12] intercept   : AIC=628.731, Time=0.12 sec\n",
            " ARIMA(1,1,1)(0,0,0)[12] intercept   : AIC=630.504, Time=0.11 sec\n",
            "\n",
            "Best model:  ARIMA(0,1,0)(0,0,0)[12]          \n",
            "Total fit time: 1.840 seconds\n"
          ]
        }
      ]
    },
    {
      "cell_type": "code",
      "source": [
        "pip install pmdarima"
      ],
      "metadata": {
        "id": "Jrbtod_BvUPF",
        "colab": {
          "base_uri": "https://localhost:8080/"
        },
        "outputId": "937d1761-66ee-45a9-9622-8356525265cb"
      },
      "id": "Jrbtod_BvUPF",
      "execution_count": null,
      "outputs": [
        {
          "output_type": "stream",
          "name": "stdout",
          "text": [
            "Requirement already satisfied: pmdarima in /usr/local/lib/python3.10/dist-packages (2.0.3)\n",
            "Requirement already satisfied: joblib>=0.11 in /usr/local/lib/python3.10/dist-packages (from pmdarima) (1.3.2)\n",
            "Requirement already satisfied: Cython!=0.29.18,!=0.29.31,>=0.29 in /usr/local/lib/python3.10/dist-packages (from pmdarima) (0.29.36)\n",
            "Requirement already satisfied: numpy>=1.21.2 in /usr/local/lib/python3.10/dist-packages (from pmdarima) (1.23.5)\n",
            "Requirement already satisfied: pandas>=0.19 in /usr/local/lib/python3.10/dist-packages (from pmdarima) (1.5.3)\n",
            "Requirement already satisfied: scikit-learn>=0.22 in /usr/local/lib/python3.10/dist-packages (from pmdarima) (1.2.2)\n",
            "Requirement already satisfied: scipy>=1.3.2 in /usr/local/lib/python3.10/dist-packages (from pmdarima) (1.10.1)\n",
            "Requirement already satisfied: statsmodels>=0.13.2 in /usr/local/lib/python3.10/dist-packages (from pmdarima) (0.14.0)\n",
            "Requirement already satisfied: urllib3 in /usr/local/lib/python3.10/dist-packages (from pmdarima) (2.0.4)\n",
            "Requirement already satisfied: setuptools!=50.0.0,>=38.6.0 in /usr/local/lib/python3.10/dist-packages (from pmdarima) (67.7.2)\n",
            "Requirement already satisfied: python-dateutil>=2.8.1 in /usr/local/lib/python3.10/dist-packages (from pandas>=0.19->pmdarima) (2.8.2)\n",
            "Requirement already satisfied: pytz>=2020.1 in /usr/local/lib/python3.10/dist-packages (from pandas>=0.19->pmdarima) (2023.3)\n",
            "Requirement already satisfied: threadpoolctl>=2.0.0 in /usr/local/lib/python3.10/dist-packages (from scikit-learn>=0.22->pmdarima) (3.2.0)\n",
            "Requirement already satisfied: patsy>=0.5.2 in /usr/local/lib/python3.10/dist-packages (from statsmodels>=0.13.2->pmdarima) (0.5.3)\n",
            "Requirement already satisfied: packaging>=21.3 in /usr/local/lib/python3.10/dist-packages (from statsmodels>=0.13.2->pmdarima) (23.1)\n",
            "Requirement already satisfied: six in /usr/local/lib/python3.10/dist-packages (from patsy>=0.5.2->statsmodels>=0.13.2->pmdarima) (1.16.0)\n"
          ]
        }
      ]
    },
    {
      "cell_type": "code",
      "source": [
        "from pmdarima import auto_arima\n",
        "stepwise_fit = auto_arima(train['Sales'], trace=True,\n",
        "suppress_warnings=True)"
      ],
      "metadata": {
        "id": "lKve0nLuvQj_",
        "colab": {
          "base_uri": "https://localhost:8080/"
        },
        "outputId": "40fb8113-9026-4d26-9fbf-169873964287"
      },
      "id": "lKve0nLuvQj_",
      "execution_count": null,
      "outputs": [
        {
          "output_type": "stream",
          "name": "stdout",
          "text": [
            "Performing stepwise search to minimize aic\n",
            " ARIMA(2,1,2)(0,0,0)[0] intercept   : AIC=inf, Time=1.27 sec\n",
            " ARIMA(0,1,0)(0,0,0)[0] intercept   : AIC=1051.303, Time=0.04 sec\n",
            " ARIMA(1,1,0)(0,0,0)[0] intercept   : AIC=1053.074, Time=0.06 sec\n",
            " ARIMA(0,1,1)(0,0,0)[0] intercept   : AIC=1053.256, Time=0.08 sec\n",
            " ARIMA(0,1,0)(0,0,0)[0]             : AIC=1049.407, Time=0.03 sec\n",
            " ARIMA(1,1,1)(0,0,0)[0] intercept   : AIC=1054.224, Time=0.50 sec\n",
            "\n",
            "Best model:  ARIMA(0,1,0)(0,0,0)[0]          \n",
            "Total fit time: 2.015 seconds\n"
          ]
        }
      ]
    },
    {
      "cell_type": "code",
      "source": [
        "train=df1.iloc[:-30]\n",
        "test=df1.iloc[-30:]\n",
        "train.head()\n"
      ],
      "metadata": {
        "id": "_-ZJlvYf6Gon",
        "colab": {
          "base_uri": "https://localhost:8080/",
          "height": 206
        },
        "outputId": "8b124dd2-f87c-443b-ae7b-6e2ff871bc2e"
      },
      "id": "_-ZJlvYf6Gon",
      "execution_count": null,
      "outputs": [
        {
          "output_type": "execute_result",
          "data": {
            "text/plain": [
              "        date  Sales  Price Discount (%)  In-Store Promo  Catalogue Promo  \\\n",
              "0 2017-02-05  27750                   0               0                0   \n",
              "1 2017-02-12  29023                   0               1                0   \n",
              "3 2017-02-26  26789                   0               1                0   \n",
              "5 2017-03-12  29731                   0               0                0   \n",
              "6 2017-03-19  27365                   0               1                0   \n",
              "\n",
              "   Store End Promo  Google_Mobility  Covid_Flag  V_DAY  EASTER  CHRISTMAS  \n",
              "0                0              0.0           0      0       0          0  \n",
              "1                1              0.0           0      1       0          0  \n",
              "3                1              0.0           0      0       0          0  \n",
              "5                0              0.0           0      0       0          0  \n",
              "6                0              0.0           0      0       0          0  "
            ],
            "text/html": [
              "\n",
              "  <div id=\"df-e1cdd1a0-f622-42b5-9109-e61017b68913\" class=\"colab-df-container\">\n",
              "    <div>\n",
              "<style scoped>\n",
              "    .dataframe tbody tr th:only-of-type {\n",
              "        vertical-align: middle;\n",
              "    }\n",
              "\n",
              "    .dataframe tbody tr th {\n",
              "        vertical-align: top;\n",
              "    }\n",
              "\n",
              "    .dataframe thead th {\n",
              "        text-align: right;\n",
              "    }\n",
              "</style>\n",
              "<table border=\"1\" class=\"dataframe\">\n",
              "  <thead>\n",
              "    <tr style=\"text-align: right;\">\n",
              "      <th></th>\n",
              "      <th>date</th>\n",
              "      <th>Sales</th>\n",
              "      <th>Price Discount (%)</th>\n",
              "      <th>In-Store Promo</th>\n",
              "      <th>Catalogue Promo</th>\n",
              "      <th>Store End Promo</th>\n",
              "      <th>Google_Mobility</th>\n",
              "      <th>Covid_Flag</th>\n",
              "      <th>V_DAY</th>\n",
              "      <th>EASTER</th>\n",
              "      <th>CHRISTMAS</th>\n",
              "    </tr>\n",
              "  </thead>\n",
              "  <tbody>\n",
              "    <tr>\n",
              "      <th>0</th>\n",
              "      <td>2017-02-05</td>\n",
              "      <td>27750</td>\n",
              "      <td>0</td>\n",
              "      <td>0</td>\n",
              "      <td>0</td>\n",
              "      <td>0</td>\n",
              "      <td>0.0</td>\n",
              "      <td>0</td>\n",
              "      <td>0</td>\n",
              "      <td>0</td>\n",
              "      <td>0</td>\n",
              "    </tr>\n",
              "    <tr>\n",
              "      <th>1</th>\n",
              "      <td>2017-02-12</td>\n",
              "      <td>29023</td>\n",
              "      <td>0</td>\n",
              "      <td>1</td>\n",
              "      <td>0</td>\n",
              "      <td>1</td>\n",
              "      <td>0.0</td>\n",
              "      <td>0</td>\n",
              "      <td>1</td>\n",
              "      <td>0</td>\n",
              "      <td>0</td>\n",
              "    </tr>\n",
              "    <tr>\n",
              "      <th>3</th>\n",
              "      <td>2017-02-26</td>\n",
              "      <td>26789</td>\n",
              "      <td>0</td>\n",
              "      <td>1</td>\n",
              "      <td>0</td>\n",
              "      <td>1</td>\n",
              "      <td>0.0</td>\n",
              "      <td>0</td>\n",
              "      <td>0</td>\n",
              "      <td>0</td>\n",
              "      <td>0</td>\n",
              "    </tr>\n",
              "    <tr>\n",
              "      <th>5</th>\n",
              "      <td>2017-03-12</td>\n",
              "      <td>29731</td>\n",
              "      <td>0</td>\n",
              "      <td>0</td>\n",
              "      <td>0</td>\n",
              "      <td>0</td>\n",
              "      <td>0.0</td>\n",
              "      <td>0</td>\n",
              "      <td>0</td>\n",
              "      <td>0</td>\n",
              "      <td>0</td>\n",
              "    </tr>\n",
              "    <tr>\n",
              "      <th>6</th>\n",
              "      <td>2017-03-19</td>\n",
              "      <td>27365</td>\n",
              "      <td>0</td>\n",
              "      <td>1</td>\n",
              "      <td>0</td>\n",
              "      <td>0</td>\n",
              "      <td>0.0</td>\n",
              "      <td>0</td>\n",
              "      <td>0</td>\n",
              "      <td>0</td>\n",
              "      <td>0</td>\n",
              "    </tr>\n",
              "  </tbody>\n",
              "</table>\n",
              "</div>\n",
              "    <div class=\"colab-df-buttons\">\n",
              "\n",
              "  <div class=\"colab-df-container\">\n",
              "    <button class=\"colab-df-convert\" onclick=\"convertToInteractive('df-e1cdd1a0-f622-42b5-9109-e61017b68913')\"\n",
              "            title=\"Convert this dataframe to an interactive table.\"\n",
              "            style=\"display:none;\">\n",
              "\n",
              "  <svg xmlns=\"http://www.w3.org/2000/svg\" height=\"24px\" viewBox=\"0 -960 960 960\">\n",
              "    <path d=\"M120-120v-720h720v720H120Zm60-500h600v-160H180v160Zm220 220h160v-160H400v160Zm0 220h160v-160H400v160ZM180-400h160v-160H180v160Zm440 0h160v-160H620v160ZM180-180h160v-160H180v160Zm440 0h160v-160H620v160Z\"/>\n",
              "  </svg>\n",
              "    </button>\n",
              "\n",
              "  <style>\n",
              "    .colab-df-container {\n",
              "      display:flex;\n",
              "      gap: 12px;\n",
              "    }\n",
              "\n",
              "    .colab-df-convert {\n",
              "      background-color: #E8F0FE;\n",
              "      border: none;\n",
              "      border-radius: 50%;\n",
              "      cursor: pointer;\n",
              "      display: none;\n",
              "      fill: #1967D2;\n",
              "      height: 32px;\n",
              "      padding: 0 0 0 0;\n",
              "      width: 32px;\n",
              "    }\n",
              "\n",
              "    .colab-df-convert:hover {\n",
              "      background-color: #E2EBFA;\n",
              "      box-shadow: 0px 1px 2px rgba(60, 64, 67, 0.3), 0px 1px 3px 1px rgba(60, 64, 67, 0.15);\n",
              "      fill: #174EA6;\n",
              "    }\n",
              "\n",
              "    .colab-df-buttons div {\n",
              "      margin-bottom: 4px;\n",
              "    }\n",
              "\n",
              "    [theme=dark] .colab-df-convert {\n",
              "      background-color: #3B4455;\n",
              "      fill: #D2E3FC;\n",
              "    }\n",
              "\n",
              "    [theme=dark] .colab-df-convert:hover {\n",
              "      background-color: #434B5C;\n",
              "      box-shadow: 0px 1px 3px 1px rgba(0, 0, 0, 0.15);\n",
              "      filter: drop-shadow(0px 1px 2px rgba(0, 0, 0, 0.3));\n",
              "      fill: #FFFFFF;\n",
              "    }\n",
              "  </style>\n",
              "\n",
              "    <script>\n",
              "      const buttonEl =\n",
              "        document.querySelector('#df-e1cdd1a0-f622-42b5-9109-e61017b68913 button.colab-df-convert');\n",
              "      buttonEl.style.display =\n",
              "        google.colab.kernel.accessAllowed ? 'block' : 'none';\n",
              "\n",
              "      async function convertToInteractive(key) {\n",
              "        const element = document.querySelector('#df-e1cdd1a0-f622-42b5-9109-e61017b68913');\n",
              "        const dataTable =\n",
              "          await google.colab.kernel.invokeFunction('convertToInteractive',\n",
              "                                                    [key], {});\n",
              "        if (!dataTable) return;\n",
              "\n",
              "        const docLinkHtml = 'Like what you see? Visit the ' +\n",
              "          '<a target=\"_blank\" href=https://colab.research.google.com/notebooks/data_table.ipynb>data table notebook</a>'\n",
              "          + ' to learn more about interactive tables.';\n",
              "        element.innerHTML = '';\n",
              "        dataTable['output_type'] = 'display_data';\n",
              "        await google.colab.output.renderOutput(dataTable, element);\n",
              "        const docLink = document.createElement('div');\n",
              "        docLink.innerHTML = docLinkHtml;\n",
              "        element.appendChild(docLink);\n",
              "      }\n",
              "    </script>\n",
              "  </div>\n",
              "\n",
              "\n",
              "<div id=\"df-58e20383-05a6-4e4e-8888-113c2267b7bd\">\n",
              "  <button class=\"colab-df-quickchart\" onclick=\"quickchart('df-58e20383-05a6-4e4e-8888-113c2267b7bd')\"\n",
              "            title=\"Suggest charts.\"\n",
              "            style=\"display:none;\">\n",
              "\n",
              "<svg xmlns=\"http://www.w3.org/2000/svg\" height=\"24px\"viewBox=\"0 0 24 24\"\n",
              "     width=\"24px\">\n",
              "    <g>\n",
              "        <path d=\"M19 3H5c-1.1 0-2 .9-2 2v14c0 1.1.9 2 2 2h14c1.1 0 2-.9 2-2V5c0-1.1-.9-2-2-2zM9 17H7v-7h2v7zm4 0h-2V7h2v10zm4 0h-2v-4h2v4z\"/>\n",
              "    </g>\n",
              "</svg>\n",
              "  </button>\n",
              "\n",
              "<style>\n",
              "  .colab-df-quickchart {\n",
              "    background-color: #E8F0FE;\n",
              "    border: none;\n",
              "    border-radius: 50%;\n",
              "    cursor: pointer;\n",
              "    display: none;\n",
              "    fill: #1967D2;\n",
              "    height: 32px;\n",
              "    padding: 0 0 0 0;\n",
              "    width: 32px;\n",
              "  }\n",
              "\n",
              "  .colab-df-quickchart:hover {\n",
              "    background-color: #E2EBFA;\n",
              "    box-shadow: 0px 1px 2px rgba(60, 64, 67, 0.3), 0px 1px 3px 1px rgba(60, 64, 67, 0.15);\n",
              "    fill: #174EA6;\n",
              "  }\n",
              "\n",
              "  [theme=dark] .colab-df-quickchart {\n",
              "    background-color: #3B4455;\n",
              "    fill: #D2E3FC;\n",
              "  }\n",
              "\n",
              "  [theme=dark] .colab-df-quickchart:hover {\n",
              "    background-color: #434B5C;\n",
              "    box-shadow: 0px 1px 3px 1px rgba(0, 0, 0, 0.15);\n",
              "    filter: drop-shadow(0px 1px 2px rgba(0, 0, 0, 0.3));\n",
              "    fill: #FFFFFF;\n",
              "  }\n",
              "</style>\n",
              "\n",
              "  <script>\n",
              "    async function quickchart(key) {\n",
              "      const charts = await google.colab.kernel.invokeFunction(\n",
              "          'suggestCharts', [key], {});\n",
              "    }\n",
              "    (() => {\n",
              "      let quickchartButtonEl =\n",
              "        document.querySelector('#df-58e20383-05a6-4e4e-8888-113c2267b7bd button');\n",
              "      quickchartButtonEl.style.display =\n",
              "        google.colab.kernel.accessAllowed ? 'block' : 'none';\n",
              "    })();\n",
              "  </script>\n",
              "</div>\n",
              "    </div>\n",
              "  </div>\n"
            ]
          },
          "metadata": {},
          "execution_count": 55
        }
      ]
    },
    {
      "cell_type": "code",
      "source": [
        "\n",
        "test.head()"
      ],
      "metadata": {
        "colab": {
          "base_uri": "https://localhost:8080/",
          "height": 206
        },
        "id": "SRb_aI7diu78",
        "outputId": "67bdeb10-d97d-4dae-803b-a1c80bce2b84"
      },
      "id": "SRb_aI7diu78",
      "execution_count": null,
      "outputs": [
        {
          "output_type": "execute_result",
          "data": {
            "text/plain": [
              "          date  Sales  Price Discount (%)  In-Store Promo  Catalogue Promo  \\\n",
              "129 2019-07-28  31386                   0               0                0   \n",
              "130 2019-08-04  29985                   0               0                0   \n",
              "131 2019-08-11  31628                   0               0                0   \n",
              "132 2019-08-18  33665                   0               0                0   \n",
              "133 2019-08-25  34550                   0               0                0   \n",
              "\n",
              "     Store End Promo  Google_Mobility  Covid_Flag  V_DAY  EASTER  CHRISTMAS  \n",
              "129                0              0.0           0      0       0          0  \n",
              "130                0              0.0           0      0       0          0  \n",
              "131                0              0.0           0      0       0          0  \n",
              "132                0              0.0           0      0       0          0  \n",
              "133                0              0.0           0      0       0          0  "
            ],
            "text/html": [
              "\n",
              "  <div id=\"df-2aa208fc-d8a8-4619-b74c-89cfa86c83ad\" class=\"colab-df-container\">\n",
              "    <div>\n",
              "<style scoped>\n",
              "    .dataframe tbody tr th:only-of-type {\n",
              "        vertical-align: middle;\n",
              "    }\n",
              "\n",
              "    .dataframe tbody tr th {\n",
              "        vertical-align: top;\n",
              "    }\n",
              "\n",
              "    .dataframe thead th {\n",
              "        text-align: right;\n",
              "    }\n",
              "</style>\n",
              "<table border=\"1\" class=\"dataframe\">\n",
              "  <thead>\n",
              "    <tr style=\"text-align: right;\">\n",
              "      <th></th>\n",
              "      <th>date</th>\n",
              "      <th>Sales</th>\n",
              "      <th>Price Discount (%)</th>\n",
              "      <th>In-Store Promo</th>\n",
              "      <th>Catalogue Promo</th>\n",
              "      <th>Store End Promo</th>\n",
              "      <th>Google_Mobility</th>\n",
              "      <th>Covid_Flag</th>\n",
              "      <th>V_DAY</th>\n",
              "      <th>EASTER</th>\n",
              "      <th>CHRISTMAS</th>\n",
              "    </tr>\n",
              "  </thead>\n",
              "  <tbody>\n",
              "    <tr>\n",
              "      <th>129</th>\n",
              "      <td>2019-07-28</td>\n",
              "      <td>31386</td>\n",
              "      <td>0</td>\n",
              "      <td>0</td>\n",
              "      <td>0</td>\n",
              "      <td>0</td>\n",
              "      <td>0.0</td>\n",
              "      <td>0</td>\n",
              "      <td>0</td>\n",
              "      <td>0</td>\n",
              "      <td>0</td>\n",
              "    </tr>\n",
              "    <tr>\n",
              "      <th>130</th>\n",
              "      <td>2019-08-04</td>\n",
              "      <td>29985</td>\n",
              "      <td>0</td>\n",
              "      <td>0</td>\n",
              "      <td>0</td>\n",
              "      <td>0</td>\n",
              "      <td>0.0</td>\n",
              "      <td>0</td>\n",
              "      <td>0</td>\n",
              "      <td>0</td>\n",
              "      <td>0</td>\n",
              "    </tr>\n",
              "    <tr>\n",
              "      <th>131</th>\n",
              "      <td>2019-08-11</td>\n",
              "      <td>31628</td>\n",
              "      <td>0</td>\n",
              "      <td>0</td>\n",
              "      <td>0</td>\n",
              "      <td>0</td>\n",
              "      <td>0.0</td>\n",
              "      <td>0</td>\n",
              "      <td>0</td>\n",
              "      <td>0</td>\n",
              "      <td>0</td>\n",
              "    </tr>\n",
              "    <tr>\n",
              "      <th>132</th>\n",
              "      <td>2019-08-18</td>\n",
              "      <td>33665</td>\n",
              "      <td>0</td>\n",
              "      <td>0</td>\n",
              "      <td>0</td>\n",
              "      <td>0</td>\n",
              "      <td>0.0</td>\n",
              "      <td>0</td>\n",
              "      <td>0</td>\n",
              "      <td>0</td>\n",
              "      <td>0</td>\n",
              "    </tr>\n",
              "    <tr>\n",
              "      <th>133</th>\n",
              "      <td>2019-08-25</td>\n",
              "      <td>34550</td>\n",
              "      <td>0</td>\n",
              "      <td>0</td>\n",
              "      <td>0</td>\n",
              "      <td>0</td>\n",
              "      <td>0.0</td>\n",
              "      <td>0</td>\n",
              "      <td>0</td>\n",
              "      <td>0</td>\n",
              "      <td>0</td>\n",
              "    </tr>\n",
              "  </tbody>\n",
              "</table>\n",
              "</div>\n",
              "    <div class=\"colab-df-buttons\">\n",
              "\n",
              "  <div class=\"colab-df-container\">\n",
              "    <button class=\"colab-df-convert\" onclick=\"convertToInteractive('df-2aa208fc-d8a8-4619-b74c-89cfa86c83ad')\"\n",
              "            title=\"Convert this dataframe to an interactive table.\"\n",
              "            style=\"display:none;\">\n",
              "\n",
              "  <svg xmlns=\"http://www.w3.org/2000/svg\" height=\"24px\" viewBox=\"0 -960 960 960\">\n",
              "    <path d=\"M120-120v-720h720v720H120Zm60-500h600v-160H180v160Zm220 220h160v-160H400v160Zm0 220h160v-160H400v160ZM180-400h160v-160H180v160Zm440 0h160v-160H620v160ZM180-180h160v-160H180v160Zm440 0h160v-160H620v160Z\"/>\n",
              "  </svg>\n",
              "    </button>\n",
              "\n",
              "  <style>\n",
              "    .colab-df-container {\n",
              "      display:flex;\n",
              "      gap: 12px;\n",
              "    }\n",
              "\n",
              "    .colab-df-convert {\n",
              "      background-color: #E8F0FE;\n",
              "      border: none;\n",
              "      border-radius: 50%;\n",
              "      cursor: pointer;\n",
              "      display: none;\n",
              "      fill: #1967D2;\n",
              "      height: 32px;\n",
              "      padding: 0 0 0 0;\n",
              "      width: 32px;\n",
              "    }\n",
              "\n",
              "    .colab-df-convert:hover {\n",
              "      background-color: #E2EBFA;\n",
              "      box-shadow: 0px 1px 2px rgba(60, 64, 67, 0.3), 0px 1px 3px 1px rgba(60, 64, 67, 0.15);\n",
              "      fill: #174EA6;\n",
              "    }\n",
              "\n",
              "    .colab-df-buttons div {\n",
              "      margin-bottom: 4px;\n",
              "    }\n",
              "\n",
              "    [theme=dark] .colab-df-convert {\n",
              "      background-color: #3B4455;\n",
              "      fill: #D2E3FC;\n",
              "    }\n",
              "\n",
              "    [theme=dark] .colab-df-convert:hover {\n",
              "      background-color: #434B5C;\n",
              "      box-shadow: 0px 1px 3px 1px rgba(0, 0, 0, 0.15);\n",
              "      filter: drop-shadow(0px 1px 2px rgba(0, 0, 0, 0.3));\n",
              "      fill: #FFFFFF;\n",
              "    }\n",
              "  </style>\n",
              "\n",
              "    <script>\n",
              "      const buttonEl =\n",
              "        document.querySelector('#df-2aa208fc-d8a8-4619-b74c-89cfa86c83ad button.colab-df-convert');\n",
              "      buttonEl.style.display =\n",
              "        google.colab.kernel.accessAllowed ? 'block' : 'none';\n",
              "\n",
              "      async function convertToInteractive(key) {\n",
              "        const element = document.querySelector('#df-2aa208fc-d8a8-4619-b74c-89cfa86c83ad');\n",
              "        const dataTable =\n",
              "          await google.colab.kernel.invokeFunction('convertToInteractive',\n",
              "                                                    [key], {});\n",
              "        if (!dataTable) return;\n",
              "\n",
              "        const docLinkHtml = 'Like what you see? Visit the ' +\n",
              "          '<a target=\"_blank\" href=https://colab.research.google.com/notebooks/data_table.ipynb>data table notebook</a>'\n",
              "          + ' to learn more about interactive tables.';\n",
              "        element.innerHTML = '';\n",
              "        dataTable['output_type'] = 'display_data';\n",
              "        await google.colab.output.renderOutput(dataTable, element);\n",
              "        const docLink = document.createElement('div');\n",
              "        docLink.innerHTML = docLinkHtml;\n",
              "        element.appendChild(docLink);\n",
              "      }\n",
              "    </script>\n",
              "  </div>\n",
              "\n",
              "\n",
              "<div id=\"df-9182a65d-ae31-4386-92b8-61909b19886f\">\n",
              "  <button class=\"colab-df-quickchart\" onclick=\"quickchart('df-9182a65d-ae31-4386-92b8-61909b19886f')\"\n",
              "            title=\"Suggest charts.\"\n",
              "            style=\"display:none;\">\n",
              "\n",
              "<svg xmlns=\"http://www.w3.org/2000/svg\" height=\"24px\"viewBox=\"0 0 24 24\"\n",
              "     width=\"24px\">\n",
              "    <g>\n",
              "        <path d=\"M19 3H5c-1.1 0-2 .9-2 2v14c0 1.1.9 2 2 2h14c1.1 0 2-.9 2-2V5c0-1.1-.9-2-2-2zM9 17H7v-7h2v7zm4 0h-2V7h2v10zm4 0h-2v-4h2v4z\"/>\n",
              "    </g>\n",
              "</svg>\n",
              "  </button>\n",
              "\n",
              "<style>\n",
              "  .colab-df-quickchart {\n",
              "    background-color: #E8F0FE;\n",
              "    border: none;\n",
              "    border-radius: 50%;\n",
              "    cursor: pointer;\n",
              "    display: none;\n",
              "    fill: #1967D2;\n",
              "    height: 32px;\n",
              "    padding: 0 0 0 0;\n",
              "    width: 32px;\n",
              "  }\n",
              "\n",
              "  .colab-df-quickchart:hover {\n",
              "    background-color: #E2EBFA;\n",
              "    box-shadow: 0px 1px 2px rgba(60, 64, 67, 0.3), 0px 1px 3px 1px rgba(60, 64, 67, 0.15);\n",
              "    fill: #174EA6;\n",
              "  }\n",
              "\n",
              "  [theme=dark] .colab-df-quickchart {\n",
              "    background-color: #3B4455;\n",
              "    fill: #D2E3FC;\n",
              "  }\n",
              "\n",
              "  [theme=dark] .colab-df-quickchart:hover {\n",
              "    background-color: #434B5C;\n",
              "    box-shadow: 0px 1px 3px 1px rgba(0, 0, 0, 0.15);\n",
              "    filter: drop-shadow(0px 1px 2px rgba(0, 0, 0, 0.3));\n",
              "    fill: #FFFFFF;\n",
              "  }\n",
              "</style>\n",
              "\n",
              "  <script>\n",
              "    async function quickchart(key) {\n",
              "      const charts = await google.colab.kernel.invokeFunction(\n",
              "          'suggestCharts', [key], {});\n",
              "    }\n",
              "    (() => {\n",
              "      let quickchartButtonEl =\n",
              "        document.querySelector('#df-9182a65d-ae31-4386-92b8-61909b19886f button');\n",
              "      quickchartButtonEl.style.display =\n",
              "        google.colab.kernel.accessAllowed ? 'block' : 'none';\n",
              "    })();\n",
              "  </script>\n",
              "</div>\n",
              "    </div>\n",
              "  </div>\n"
            ]
          },
          "metadata": {},
          "execution_count": 56
        }
      ]
    },
    {
      "cell_type": "code",
      "source": [
        "train['Sales'] = pd.to_numeric(train['Sales'])\n",
        "train.dtypes"
      ],
      "metadata": {
        "id": "AN2lnBI86J4P",
        "colab": {
          "base_uri": "https://localhost:8080/"
        },
        "outputId": "52c95b90-99d0-4701-c867-32fd70a51655"
      },
      "id": "AN2lnBI86J4P",
      "execution_count": null,
      "outputs": [
        {
          "output_type": "stream",
          "name": "stderr",
          "text": [
            "<ipython-input-57-7946fbb2322f>:1: SettingWithCopyWarning: \n",
            "A value is trying to be set on a copy of a slice from a DataFrame.\n",
            "Try using .loc[row_indexer,col_indexer] = value instead\n",
            "\n",
            "See the caveats in the documentation: https://pandas.pydata.org/pandas-docs/stable/user_guide/indexing.html#returning-a-view-versus-a-copy\n",
            "  train['Sales'] = pd.to_numeric(train['Sales'])\n"
          ]
        },
        {
          "output_type": "execute_result",
          "data": {
            "text/plain": [
              "date                  datetime64[ns]\n",
              "Sales                          int64\n",
              "Price Discount (%)             int64\n",
              "In-Store Promo                 int64\n",
              "Catalogue Promo                int64\n",
              "Store End Promo                int64\n",
              "Google_Mobility              float64\n",
              "Covid_Flag                     int64\n",
              "V_DAY                          int64\n",
              "EASTER                         int64\n",
              "CHRISTMAS                      int64\n",
              "dtype: object"
            ]
          },
          "metadata": {},
          "execution_count": 57
        }
      ]
    },
    {
      "cell_type": "code",
      "source": [
        "import statsmodels.api as sm\n"
      ],
      "metadata": {
        "id": "tOj5W8D7x-iU"
      },
      "id": "tOj5W8D7x-iU",
      "execution_count": null,
      "outputs": []
    },
    {
      "cell_type": "code",
      "source": [
        "np.asarray(train)"
      ],
      "metadata": {
        "id": "hyefywA7csO_",
        "colab": {
          "base_uri": "https://localhost:8080/"
        },
        "outputId": "8bc01f01-5433-4758-fbe3-b4ceb53e074b"
      },
      "id": "hyefywA7csO_",
      "execution_count": null,
      "outputs": [
        {
          "output_type": "execute_result",
          "data": {
            "text/plain": [
              "array([[Timestamp('2017-02-05 00:00:00'), 27750, 0, 0, 0, 0, 0.0, 0, 0,\n",
              "        0, 0],\n",
              "       [Timestamp('2017-02-12 00:00:00'), 29023, 0, 1, 0, 1, 0.0, 0, 1,\n",
              "        0, 0],\n",
              "       [Timestamp('2017-02-26 00:00:00'), 26789, 0, 1, 0, 1, 0.0, 0, 0,\n",
              "        0, 0],\n",
              "       [Timestamp('2017-03-12 00:00:00'), 29731, 0, 0, 0, 0, 0.0, 0, 0,\n",
              "        0, 0],\n",
              "       [Timestamp('2017-03-19 00:00:00'), 27365, 0, 1, 0, 0, 0.0, 0, 0,\n",
              "        0, 0],\n",
              "       [Timestamp('2017-03-26 00:00:00'), 27722, 0, 1, 0, 1, 0.0, 0, 0,\n",
              "        0, 0],\n",
              "       [Timestamp('2017-04-23 00:00:00'), 30361, 0, 1, 0, 1, 0.0, 0, 0,\n",
              "        0, 0],\n",
              "       [Timestamp('2017-05-14 00:00:00'), 29490, 0, 0, 0, 0, 0.0, 0, 0,\n",
              "        0, 0],\n",
              "       [Timestamp('2017-05-21 00:00:00'), 25936, 0, 0, 0, 0, 0.0, 0, 0,\n",
              "        0, 0],\n",
              "       [Timestamp('2017-05-28 00:00:00'), 26045, 0, 0, 0, 0, 0.0, 0, 0,\n",
              "        0, 0],\n",
              "       [Timestamp('2017-06-04 00:00:00'), 25903, 0, 1, 0, 1, 0.0, 0, 0,\n",
              "        0, 0],\n",
              "       [Timestamp('2017-06-18 00:00:00'), 25446, 0, 1, 0, 1, 0.0, 0, 0,\n",
              "        0, 0],\n",
              "       [Timestamp('2017-07-02 00:00:00'), 27001, 0, 1, 0, 1, 0.0, 0, 0,\n",
              "        0, 0],\n",
              "       [Timestamp('2017-07-16 00:00:00'), 28650, 0, 1, 0, 1, 0.0, 0, 0,\n",
              "        0, 0],\n",
              "       [Timestamp('2017-07-30 00:00:00'), 27657, 0, 0, 0, 0, 0.0, 0, 0,\n",
              "        0, 0],\n",
              "       [Timestamp('2017-08-06 00:00:00'), 26888, 0, 1, 0, 1, 0.0, 0, 0,\n",
              "        0, 0],\n",
              "       [Timestamp('2017-08-20 00:00:00'), 29415, 0, 1, 0, 1, 0.0, 0, 0,\n",
              "        0, 0],\n",
              "       [Timestamp('2017-09-10 00:00:00'), 30874, 0, 0, 1, 1, 0.0, 0, 0,\n",
              "        0, 0],\n",
              "       [Timestamp('2017-09-24 00:00:00'), 34481, 0, 1, 0, 1, 0.0, 0, 0,\n",
              "        0, 0],\n",
              "       [Timestamp('2017-10-08 00:00:00'), 31898, 0, 0, 0, 0, 0.0, 0, 0,\n",
              "        0, 0],\n",
              "       [Timestamp('2017-10-15 00:00:00'), 33967, 0, 0, 0, 0, 0.0, 0, 0,\n",
              "        0, 0],\n",
              "       [Timestamp('2017-10-22 00:00:00'), 33429, 0, 0, 0, 0, 0.0, 0, 0,\n",
              "        0, 0],\n",
              "       [Timestamp('2017-10-29 00:00:00'), 34918, 0, 1, 0, 0, 0.0, 0, 0,\n",
              "        0, 0],\n",
              "       [Timestamp('2018-02-04 00:00:00'), 35016, 0, 0, 0, 0, 0.0, 0, 0,\n",
              "        0, 0],\n",
              "       [Timestamp('2018-02-11 00:00:00'), 33604, 0, 1, 0, 1, 0.0, 0, 1,\n",
              "        0, 0],\n",
              "       [Timestamp('2018-02-25 00:00:00'), 33908, 0, 1, 0, 1, 0.0, 0, 0,\n",
              "        0, 0],\n",
              "       [Timestamp('2018-04-08 00:00:00'), 35136, 0, 0, 0, 0, 0.0, 0, 0,\n",
              "        1, 0],\n",
              "       [Timestamp('2018-04-15 00:00:00'), 34800, 0, 1, 0, 1, 0.0, 0, 0,\n",
              "        0, 0],\n",
              "       [Timestamp('2018-04-29 00:00:00'), 34225, 0, 1, 0, 1, 0.0, 0, 0,\n",
              "        0, 0],\n",
              "       [Timestamp('2018-05-20 00:00:00'), 34526, 0, 0, 0, 0, 0.0, 0, 0,\n",
              "        0, 0],\n",
              "       [Timestamp('2018-05-27 00:00:00'), 33308, 0, 1, 0, 1, 0.0, 0, 0,\n",
              "        0, 0],\n",
              "       [Timestamp('2018-06-17 00:00:00'), 32223, 0, 0, 0, 0, 0.0, 0, 0,\n",
              "        0, 0],\n",
              "       [Timestamp('2018-06-24 00:00:00'), 32463, 0, 1, 0, 1, 0.0, 0, 0,\n",
              "        0, 0],\n",
              "       [Timestamp('2018-07-08 00:00:00'), 35597, 0, 0, 0, 0, 0.0, 0, 0,\n",
              "        0, 0],\n",
              "       [Timestamp('2018-07-15 00:00:00'), 35354, 0, 0, 0, 0, 0.0, 0, 0,\n",
              "        0, 0],\n",
              "       [Timestamp('2018-07-22 00:00:00'), 35191, 0, 0, 0, 0, 0.0, 0, 0,\n",
              "        0, 0],\n",
              "       [Timestamp('2018-07-29 00:00:00'), 33057, 0, 0, 0, 0, 0.0, 0, 0,\n",
              "        0, 0],\n",
              "       [Timestamp('2018-08-05 00:00:00'), 32373, 0, 0, 0, 0, 0.0, 0, 0,\n",
              "        0, 0],\n",
              "       [Timestamp('2018-08-12 00:00:00'), 31850, 0, 0, 0, 0, 0.0, 0, 0,\n",
              "        0, 0],\n",
              "       [Timestamp('2018-08-19 00:00:00'), 31772, 0, 0, 0, 0, 0.0, 0, 0,\n",
              "        0, 0],\n",
              "       [Timestamp('2018-08-26 00:00:00'), 29976, 0, 1, 0, 0, 0.0, 0, 0,\n",
              "        0, 0],\n",
              "       [Timestamp('2018-10-07 00:00:00'), 33433, 0, 0, 0, 0, 0.0, 0, 0,\n",
              "        0, 0],\n",
              "       [Timestamp('2018-10-14 00:00:00'), 31482, 0, 0, 0, 0, 0.0, 0, 0,\n",
              "        0, 0],\n",
              "       [Timestamp('2018-10-21 00:00:00'), 32196, 0, 0, 0, 0, 0.0, 0, 0,\n",
              "        0, 0],\n",
              "       [Timestamp('2018-10-28 00:00:00'), 32717, 0, 0, 1, 1, 0.0, 0, 0,\n",
              "        0, 0],\n",
              "       [Timestamp('2019-01-13 00:00:00'), 34603, 0, 1, 0, 1, 0.0, 0, 0,\n",
              "        0, 0],\n",
              "       [Timestamp('2019-02-03 00:00:00'), 30561, 0, 0, 0, 0, 0.0, 0, 0,\n",
              "        0, 0],\n",
              "       [Timestamp('2019-02-10 00:00:00'), 29867, 0, 1, 0, 1, 0.0, 0, 1,\n",
              "        0, 0],\n",
              "       [Timestamp('2019-02-24 00:00:00'), 30016, 0, 0, 0, 0, 0.0, 0, 0,\n",
              "        0, 0],\n",
              "       [Timestamp('2019-03-03 00:00:00'), 30502, 0, 0, 0, 0, 0.0, 0, 0,\n",
              "        0, 0],\n",
              "       [Timestamp('2019-03-10 00:00:00'), 32103, 0, 0, 0, 0, 0.0, 0, 0,\n",
              "        0, 0],\n",
              "       [Timestamp('2019-03-17 00:00:00'), 29664, 0, 0, 0, 0, 0.0, 0, 0,\n",
              "        0, 0],\n",
              "       [Timestamp('2019-03-24 00:00:00'), 28997, 0, 1, 0, 0, 0.0, 0, 0,\n",
              "        0, 0],\n",
              "       [Timestamp('2019-04-28 00:00:00'), 31741, 0, 1, 0, 1, 0.0, 0, 0,\n",
              "        0, 0],\n",
              "       [Timestamp('2019-05-19 00:00:00'), 28457, 0, 1, 0, 1, 0.0, 0, 0,\n",
              "        0, 0],\n",
              "       [Timestamp('2019-06-02 00:00:00'), 28521, 0, 0, 1, 0, 0.0, 0, 0,\n",
              "        0, 0],\n",
              "       [Timestamp('2019-06-23 00:00:00'), 30099, 0, 1, 0, 1, 0.0, 0, 0,\n",
              "        0, 0],\n",
              "       [Timestamp('2019-07-07 00:00:00'), 31093, 0, 0, 0, 0, 0.0, 0, 0,\n",
              "        0, 0],\n",
              "       [Timestamp('2019-07-14 00:00:00'), 31099, 0, 0, 0, 0, 0.0, 0, 0,\n",
              "        0, 0],\n",
              "       [Timestamp('2019-07-21 00:00:00'), 31866, 0, 0, 0, 0, 0.0, 0, 0,\n",
              "        0, 0]], dtype=object)"
            ]
          },
          "metadata": {},
          "execution_count": 59
        }
      ]
    },
    {
      "cell_type": "code",
      "source": [
        "test['Sales'] = pd.to_numeric(test['Sales'])"
      ],
      "metadata": {
        "id": "OaGfyjSwhrrs",
        "colab": {
          "base_uri": "https://localhost:8080/"
        },
        "outputId": "c4775824-ba6e-4af5-f610-54927e41e288"
      },
      "id": "OaGfyjSwhrrs",
      "execution_count": null,
      "outputs": [
        {
          "output_type": "stream",
          "name": "stderr",
          "text": [
            "<ipython-input-60-946efaf77fa4>:1: SettingWithCopyWarning: \n",
            "A value is trying to be set on a copy of a slice from a DataFrame.\n",
            "Try using .loc[row_indexer,col_indexer] = value instead\n",
            "\n",
            "See the caveats in the documentation: https://pandas.pydata.org/pandas-docs/stable/user_guide/indexing.html#returning-a-view-versus-a-copy\n",
            "  test['Sales'] = pd.to_numeric(test['Sales'])\n"
          ]
        }
      ]
    },
    {
      "cell_type": "code",
      "source": [
        "#from statsmodels.tsa.arima_model import ARIMA\n",
        "model=sm.tsa.arima.ARIMA(train['Sales'],order=(2,0,0))\n",
        "model=model.fit()\n",
        "model.summary()"
      ],
      "metadata": {
        "id": "9RmayO9_w1o8",
        "colab": {
          "base_uri": "https://localhost:8080/",
          "height": 579
        },
        "outputId": "b3743c04-54ed-4111-ed85-07299729a28b"
      },
      "id": "9RmayO9_w1o8",
      "execution_count": null,
      "outputs": [
        {
          "output_type": "stream",
          "name": "stderr",
          "text": [
            "/usr/local/lib/python3.10/dist-packages/statsmodels/tsa/base/tsa_model.py:473: ValueWarning: An unsupported index was provided and will be ignored when e.g. forecasting.\n",
            "  self._init_dates(dates, freq)\n",
            "/usr/local/lib/python3.10/dist-packages/statsmodels/tsa/base/tsa_model.py:473: ValueWarning: An unsupported index was provided and will be ignored when e.g. forecasting.\n",
            "  self._init_dates(dates, freq)\n",
            "/usr/local/lib/python3.10/dist-packages/statsmodels/tsa/base/tsa_model.py:473: ValueWarning: An unsupported index was provided and will be ignored when e.g. forecasting.\n",
            "  self._init_dates(dates, freq)\n"
          ]
        },
        {
          "output_type": "execute_result",
          "data": {
            "text/plain": [
              "<class 'statsmodels.iolib.summary.Summary'>\n",
              "\"\"\"\n",
              "                               SARIMAX Results                                \n",
              "==============================================================================\n",
              "Dep. Variable:                  Sales   No. Observations:                   60\n",
              "Model:                 ARIMA(2, 0, 0)   Log Likelihood                -528.604\n",
              "Date:                Mon, 28 Aug 2023   AIC                           1065.209\n",
              "Time:                        00:31:46   BIC                           1073.586\n",
              "Sample:                             0   HQIC                          1068.486\n",
              "                                 - 60                                         \n",
              "Covariance Type:                  opg                                         \n",
              "==============================================================================\n",
              "                 coef    std err          z      P>|z|      [0.025      0.975]\n",
              "------------------------------------------------------------------------------\n",
              "const       3.107e+04   1211.790     25.639      0.000    2.87e+04    3.34e+04\n",
              "ar.L1          0.6337      0.134      4.743      0.000       0.372       0.896\n",
              "ar.L2          0.2111      0.136      1.548      0.122      -0.056       0.478\n",
              "sigma2      2.599e+06   5.16e+05      5.036      0.000    1.59e+06    3.61e+06\n",
              "===================================================================================\n",
              "Ljung-Box (L1) (Q):                   0.06   Jarque-Bera (JB):                 0.21\n",
              "Prob(Q):                              0.80   Prob(JB):                         0.90\n",
              "Heteroskedasticity (H):               0.78   Skew:                             0.02\n",
              "Prob(H) (two-sided):                  0.59   Kurtosis:                         2.72\n",
              "===================================================================================\n",
              "\n",
              "Warnings:\n",
              "[1] Covariance matrix calculated using the outer product of gradients (complex-step).\n",
              "\"\"\""
            ],
            "text/html": [
              "<table class=\"simpletable\">\n",
              "<caption>SARIMAX Results</caption>\n",
              "<tr>\n",
              "  <th>Dep. Variable:</th>         <td>Sales</td>      <th>  No. Observations:  </th>    <td>60</td>   \n",
              "</tr>\n",
              "<tr>\n",
              "  <th>Model:</th>            <td>ARIMA(2, 0, 0)</td>  <th>  Log Likelihood     </th> <td>-528.604</td>\n",
              "</tr>\n",
              "<tr>\n",
              "  <th>Date:</th>            <td>Mon, 28 Aug 2023</td> <th>  AIC                </th> <td>1065.209</td>\n",
              "</tr>\n",
              "<tr>\n",
              "  <th>Time:</th>                <td>00:31:46</td>     <th>  BIC                </th> <td>1073.586</td>\n",
              "</tr>\n",
              "<tr>\n",
              "  <th>Sample:</th>                  <td>0</td>        <th>  HQIC               </th> <td>1068.486</td>\n",
              "</tr>\n",
              "<tr>\n",
              "  <th></th>                       <td> - 60</td>      <th>                     </th>     <td> </td>   \n",
              "</tr>\n",
              "<tr>\n",
              "  <th>Covariance Type:</th>        <td>opg</td>       <th>                     </th>     <td> </td>   \n",
              "</tr>\n",
              "</table>\n",
              "<table class=\"simpletable\">\n",
              "<tr>\n",
              "     <td></td>       <th>coef</th>     <th>std err</th>      <th>z</th>      <th>P>|z|</th>  <th>[0.025</th>    <th>0.975]</th>  \n",
              "</tr>\n",
              "<tr>\n",
              "  <th>const</th>  <td> 3.107e+04</td> <td> 1211.790</td> <td>   25.639</td> <td> 0.000</td> <td> 2.87e+04</td> <td> 3.34e+04</td>\n",
              "</tr>\n",
              "<tr>\n",
              "  <th>ar.L1</th>  <td>    0.6337</td> <td>    0.134</td> <td>    4.743</td> <td> 0.000</td> <td>    0.372</td> <td>    0.896</td>\n",
              "</tr>\n",
              "<tr>\n",
              "  <th>ar.L2</th>  <td>    0.2111</td> <td>    0.136</td> <td>    1.548</td> <td> 0.122</td> <td>   -0.056</td> <td>    0.478</td>\n",
              "</tr>\n",
              "<tr>\n",
              "  <th>sigma2</th> <td> 2.599e+06</td> <td> 5.16e+05</td> <td>    5.036</td> <td> 0.000</td> <td> 1.59e+06</td> <td> 3.61e+06</td>\n",
              "</tr>\n",
              "</table>\n",
              "<table class=\"simpletable\">\n",
              "<tr>\n",
              "  <th>Ljung-Box (L1) (Q):</th>     <td>0.06</td> <th>  Jarque-Bera (JB):  </th> <td>0.21</td>\n",
              "</tr>\n",
              "<tr>\n",
              "  <th>Prob(Q):</th>                <td>0.80</td> <th>  Prob(JB):          </th> <td>0.90</td>\n",
              "</tr>\n",
              "<tr>\n",
              "  <th>Heteroskedasticity (H):</th> <td>0.78</td> <th>  Skew:              </th> <td>0.02</td>\n",
              "</tr>\n",
              "<tr>\n",
              "  <th>Prob(H) (two-sided):</th>    <td>0.59</td> <th>  Kurtosis:          </th> <td>2.72</td>\n",
              "</tr>\n",
              "</table><br/><br/>Warnings:<br/>[1] Covariance matrix calculated using the outer product of gradients (complex-step)."
            ],
            "text/latex": "\\begin{center}\n\\begin{tabular}{lclc}\n\\toprule\n\\textbf{Dep. Variable:}          &      Sales       & \\textbf{  No. Observations:  } &     60      \\\\\n\\textbf{Model:}                  &  ARIMA(2, 0, 0)  & \\textbf{  Log Likelihood     } &  -528.604   \\\\\n\\textbf{Date:}                   & Mon, 28 Aug 2023 & \\textbf{  AIC                } &  1065.209   \\\\\n\\textbf{Time:}                   &     00:31:46     & \\textbf{  BIC                } &  1073.586   \\\\\n\\textbf{Sample:}                 &        0         & \\textbf{  HQIC               } &  1068.486   \\\\\n\\textbf{}                        &       - 60       & \\textbf{                     } &             \\\\\n\\textbf{Covariance Type:}        &       opg        & \\textbf{                     } &             \\\\\n\\bottomrule\n\\end{tabular}\n\\begin{tabular}{lcccccc}\n                & \\textbf{coef} & \\textbf{std err} & \\textbf{z} & \\textbf{P$> |$z$|$} & \\textbf{[0.025} & \\textbf{0.975]}  \\\\\n\\midrule\n\\textbf{const}  &    3.107e+04  &     1211.790     &    25.639  &         0.000        &     2.87e+04    &     3.34e+04     \\\\\n\\textbf{ar.L1}  &       0.6337  &        0.134     &     4.743  &         0.000        &        0.372    &        0.896     \\\\\n\\textbf{ar.L2}  &       0.2111  &        0.136     &     1.548  &         0.122        &       -0.056    &        0.478     \\\\\n\\textbf{sigma2} &    2.599e+06  &     5.16e+05     &     5.036  &         0.000        &     1.59e+06    &     3.61e+06     \\\\\n\\bottomrule\n\\end{tabular}\n\\begin{tabular}{lclc}\n\\textbf{Ljung-Box (L1) (Q):}     & 0.06 & \\textbf{  Jarque-Bera (JB):  } & 0.21  \\\\\n\\textbf{Prob(Q):}                & 0.80 & \\textbf{  Prob(JB):          } & 0.90  \\\\\n\\textbf{Heteroskedasticity (H):} & 0.78 & \\textbf{  Skew:              } & 0.02  \\\\\n\\textbf{Prob(H) (two-sided):}    & 0.59 & \\textbf{  Kurtosis:          } & 2.72  \\\\\n\\bottomrule\n\\end{tabular}\n%\\caption{SARIMAX Results}\n\\end{center}\n\nWarnings: \\newline\n [1] Covariance matrix calculated using the outer product of gradients (complex-step)."
          },
          "metadata": {},
          "execution_count": 67
        }
      ]
    },
    {
      "cell_type": "code",
      "source": [
        "start=len(train)\n",
        "end=len(train)+len(test)-1\n",
        "pred=model.predict(start=start,end=end,typ='levels').rename('ARIMA Predictions')\n",
        "pred.plot(legend=True)\n",
        "test['Sales'].plot(legend=True)"
      ],
      "metadata": {
        "id": "Yz9sw_xvyNDO",
        "colab": {
          "base_uri": "https://localhost:8080/",
          "height": 575
        },
        "outputId": "240e8468-be10-4d71-e8ce-b5829bede897"
      },
      "id": "Yz9sw_xvyNDO",
      "execution_count": null,
      "outputs": [
        {
          "output_type": "stream",
          "name": "stderr",
          "text": [
            "/usr/local/lib/python3.10/dist-packages/statsmodels/tsa/base/tsa_model.py:836: ValueWarning: No supported index is available. Prediction results will be given with an integer index beginning at `start`.\n",
            "  return get_prediction_index(\n",
            "/usr/local/lib/python3.10/dist-packages/statsmodels/tsa/base/tsa_model.py:836: FutureWarning: No supported index is available. In the next version, calling this method in a model without a supported index will result in an exception.\n",
            "  return get_prediction_index(\n",
            "/usr/local/lib/python3.10/dist-packages/statsmodels/tsa/statespace/representation.py:374: FutureWarning: Unknown keyword arguments: dict_keys(['typ']).Passing unknown keyword arguments will raise a TypeError beginning in version 0.15.\n",
            "  warnings.warn(msg, FutureWarning)\n"
          ]
        },
        {
          "output_type": "execute_result",
          "data": {
            "text/plain": [
              "<Axes: >"
            ]
          },
          "metadata": {},
          "execution_count": 68
        },
        {
          "output_type": "display_data",
          "data": {
            "text/plain": [
              "<Figure size 640x480 with 1 Axes>"
            ],
            "image/png": "[encoded data removed]"
          },
          "metadata": {}
        }
      ]
    },
    {
      "cell_type": "code",
      "source": [
        "from sklearn.metrics import mean_squared_error\n",
        "from math import sqrt\n",
        "test['Sales'].mean()\n",
        "rmse=sqrt(mean_squared_error(pred,test['Sales']))\n",
        "print(rmse)\n"
      ],
      "metadata": {
        "id": "6gYhcXjTycqD",
        "colab": {
          "base_uri": "https://localhost:8080/"
        },
        "outputId": "0a94e316-2145-4e3b-d735-f200b8747aa0"
      },
      "id": "6gYhcXjTycqD",
      "execution_count": null,
      "outputs": [
        {
          "output_type": "stream",
          "name": "stdout",
          "text": [
            "4221.093933366003\n"
          ]
        }
      ]
    },
    {
      "cell_type": "code",
      "source": [
        "?ARIMA"
      ],
      "metadata": {
        "id": "SpKsAhQrxP_m"
      },
      "id": "SpKsAhQrxP_m",
      "execution_count": null,
      "outputs": []
    },
    {
      "cell_type": "code",
      "source": [],
      "metadata": {
        "id": "R_Y7Oa22NffY"
      },
      "id": "R_Y7Oa22NffY",
      "execution_count": null,
      "outputs": []
    },
    {
      "cell_type": "markdown",
      "source": [
        "**Observation**  \n",
        "Sales has skewed to right. There are many outliers on left side. So, it is getting a long tail to left. To normalize, we put log there.  "
      ],
      "metadata": {
        "id": "VquZ3lkeeHbt"
      },
      "id": "VquZ3lkeeHbt"
    },
    {
      "cell_type": "code",
      "source": [
        "'''plt.figure(figsize=(10, 4))\n",
        "sns.histplot(np.log(pandas_df['Sales']))\n",
        "plt.xlabel(\"Log(Sales)\")\n",
        "plt.show()'''"
      ],
      "metadata": {
        "id": "M3tYQuM9dLTv"
      },
      "id": "M3tYQuM9dLTv",
      "execution_count": null,
      "outputs": []
    },
    {
      "cell_type": "code",
      "source": [
        "from pyspark.sql.functions import col, log\n",
        "\n",
        "# We can Add a transformed New Sales feature in data\n",
        "pandas_df['Sales_log'] = np.log(pandas_df['Sales'])\n",
        "\n",
        "df = df.withColumn(\"Log_Sales\", log(col(\"Sales\")))"
      ],
      "metadata": {
        "id": "vxDY_LxmbHkS"
      },
      "id": "vxDY_LxmbHkS",
      "execution_count": null,
      "outputs": []
    },
    {
      "cell_type": "code",
      "source": [],
      "metadata": {
        "id": "2MtJaHmJxqij"
      },
      "id": "2MtJaHmJxqij",
      "execution_count": null,
      "outputs": []
    },
    {
      "cell_type": "markdown",
      "source": [
        "Price Discount (%) has also same isseue. We put log for normalize."
      ],
      "metadata": {
        "id": "xf0Tu8sVewFC"
      },
      "id": "xf0Tu8sVewFC"
    },
    {
      "cell_type": "code",
      "source": [
        "# We can Add a transformed New Price Discount (%) feature in data\n",
        "#pandas_df['Price_Discount_(%)_log'] = np.log(pandas_df['Price_Discount_(%)'])"
      ],
      "metadata": {
        "id": "ZVeHn7nvevyA"
      },
      "id": "ZVeHn7nvevyA",
      "execution_count": null,
      "outputs": []
    },
    {
      "cell_type": "markdown",
      "source": [
        "**Observarion**  \n",
        "Price_Discount_(%) has skewd to right. But no outliers.  \n",
        "When applying the log transformation, if the value of the \"Price_Discount_(%)_log\" column is 0 or less, the log transformation cannot be performed.  \n",
        "In Price_Discount_(%)_log, some of them are values with less than 0 when it is normalized. We don't add the log column for it with PySpark.  "
      ],
      "metadata": {
        "id": "4moW3J4JlAMV"
      },
      "id": "4moW3J4JlAMV"
    },
    {
      "cell_type": "code",
      "source": [
        "#cols_num= pandas_df.select_dtypes(['number']).columns\n",
        "\n",
        "#for i in cols_num:\n",
        "  #histplot_boxplot(pandas_df[i])"
      ],
      "metadata": {
        "id": "ygV6uRsgPFY2"
      },
      "id": "ygV6uRsgPFY2",
      "execution_count": null,
      "outputs": []
    },
    {
      "cell_type": "code",
      "source": [
        "from pyspark.sql.functions import min, max\n",
        "\n",
        "min_date = df.select(min(\"date\")).first()[0]\n",
        "print(\"oldest date:\", min_date)\n",
        "\n",
        "max_date = df.select(max(\"date\")).first()[0]\n",
        "print(\"latest date:\", max_date)"
      ],
      "metadata": {
        "id": "ywEOjzhrs7fP"
      },
      "id": "ywEOjzhrs7fP",
      "execution_count": null,
      "outputs": []
    },
    {
      "cell_type": "code",
      "source": [
        "from pyspark.sql.functions import year, month, avg, sum, round"
      ],
      "metadata": {
        "id": "cckgcHdrW1TX"
      },
      "id": "cckgcHdrW1TX",
      "execution_count": null,
      "outputs": []
    },
    {
      "cell_type": "code",
      "source": [
        "monthly_avg_sales = df.withColumn(\"total_sales\", round(df[\"Sales\"], 2))\n",
        "\n",
        "df = df.withColumn(\"year\", year(df[\"date\"]))\n",
        "df = df.withColumn(\"month\", month(df[\"date\"]))\n",
        "\n",
        "monthly_avg_sales = df.groupBy(\"year\", \"month\").agg(avg(\"Sales\").alias(\"average_sales\"))\n",
        "\n",
        "monthly_avg_sales = monthly_avg_sales.orderBy(\"year\", \"month\", descending=[False, False])\n",
        "\n",
        "monthly_avg_sales.show()"
      ],
      "metadata": {
        "id": "0mPtyzYNW4Yf"
      },
      "id": "0mPtyzYNW4Yf",
      "execution_count": null,
      "outputs": []
    },
    {
      "cell_type": "code",
      "source": [
        "monthly_avg_sales.toPandas().plot();"
      ],
      "metadata": {
        "id": "VE6_Axb5b2X6"
      },
      "id": "VE6_Axb5b2X6",
      "execution_count": null,
      "outputs": []
    },
    {
      "cell_type": "code",
      "source": [
        "pandas_df = df.toPandas()"
      ],
      "metadata": {
        "id": "L2F1aeO9Uv3V"
      },
      "id": "L2F1aeO9Uv3V",
      "execution_count": null,
      "outputs": []
    },
    {
      "cell_type": "code",
      "source": [
        "\n",
        "sns.pairplot(pandas_df, diag_kind=\"kde\")\n",
        "plt.title(\"Pair Plot\")\n",
        "plt.show()"
      ],
      "metadata": {
        "id": "IHThsvGqf6Vb"
      },
      "id": "IHThsvGqf6Vb",
      "execution_count": null,
      "outputs": []
    },
    {
      "cell_type": "code",
      "source": [
        "sns.barplot(x='In-Store_Promo',y='Sales',data=pandas_df)"
      ],
      "metadata": {
        "id": "2Gi7fTGVUvtc"
      },
      "id": "2Gi7fTGVUvtc",
      "execution_count": null,
      "outputs": []
    },
    {
      "cell_type": "code",
      "source": [
        "sns.barplot(x='Catalogue_Promo',y='Sales',data=pandas_df)"
      ],
      "metadata": {
        "id": "wA3IwUWfUvn9"
      },
      "id": "wA3IwUWfUvn9",
      "execution_count": null,
      "outputs": []
    },
    {
      "cell_type": "code",
      "source": [
        "sns.barplot(x='Store_End_Promo',y='Sales',data=pandas_df)"
      ],
      "metadata": {
        "id": "paRFsVOKjr9J"
      },
      "id": "paRFsVOKjr9J",
      "execution_count": null,
      "outputs": []
    },
    {
      "cell_type": "code",
      "source": [
        "plt.figure(figsize=(20, 6))\n",
        "sns.barplot(x='Google_Mobility',y='Sales',data=pandas_df)\n",
        "plt.xticks(rotation=90)"
      ],
      "metadata": {
        "id": "NTFOPmgzj2XF"
      },
      "id": "NTFOPmgzj2XF",
      "execution_count": null,
      "outputs": []
    },
    {
      "cell_type": "code",
      "source": [
        "sns.barplot(x='Covid_Flag',y='Sales',data=pandas_df)"
      ],
      "metadata": {
        "id": "88JFio6_j6-x"
      },
      "id": "88JFio6_j6-x",
      "execution_count": null,
      "outputs": []
    },
    {
      "cell_type": "code",
      "source": [
        "sns.barplot(x='V_DAY',y='Sales',data=pandas_df)"
      ],
      "metadata": {
        "id": "cUzewM_jkApM"
      },
      "id": "cUzewM_jkApM",
      "execution_count": null,
      "outputs": []
    },
    {
      "cell_type": "code",
      "source": [
        "sns.barplot(x='CHRISTMAS',y='Sales',data=pandas_df)"
      ],
      "metadata": {
        "id": "d-CBIG5_kF7j"
      },
      "id": "d-CBIG5_kF7j",
      "execution_count": null,
      "outputs": []
    },
    {
      "cell_type": "markdown",
      "source": [
        "**Observation**  \n",
        "Variables below are already dummy varibles which we don't need to treat in terms of creation of dummy variable from One-hot encoding.   \n",
        "-In-Store Promo   \n",
        "-Catalogue Promo   \n",
        "-Store End Promo   \n",
        "-Covid_Flag   \n",
        "-V_DAY   \n",
        "-EASTER   \n",
        "-CHRISTMAS  "
      ],
      "metadata": {
        "id": "1Kr3VQ1Vzhea"
      },
      "id": "1Kr3VQ1Vzhea"
    },
    {
      "cell_type": "code",
      "source": [
        "plt.figure(figsize=(20, 6))\n",
        "\n",
        "sns.barplot(x='Price_Discount_(%)', y='Sales', data=pandas_df)\n",
        "\n",
        "plt.title(\"Price Discount (%)\")\n",
        "plt.xlabel(\"Price Discount (%)\")\n",
        "plt.ylabel(\"Sales\")\n",
        "plt.xticks(rotation=90)\n",
        "\n",
        "plt.show()"
      ],
      "metadata": {
        "id": "uv1MV31Ykv5i"
      },
      "id": "uv1MV31Ykv5i",
      "execution_count": null,
      "outputs": []
    },
    {
      "cell_type": "code",
      "source": [
        "plt.figure(figsize = (12, 7))\n",
        "\n",
        "sns.heatmap(pandas_df.corr(), annot = True, vmin = -1, vmax = 1)\n",
        "\n",
        "plt.title('Heat Map for Correlation')\n",
        "\n",
        "plt.show()"
      ],
      "metadata": {
        "id": "b0qT29j0lcmK"
      },
      "id": "b0qT29j0lcmK",
      "execution_count": null,
      "outputs": []
    },
    {
      "cell_type": "code",
      "source": [
        "sns.barplot(x='year', y='Covid_Flag', data=pandas_df)\n",
        "\n",
        "plt.title(\"Covid_Flag\")\n",
        "plt.xlabel(\"year\")\n",
        "plt.ylabel(\"Covid_Flag\")\n",
        "plt.xticks(rotation=90)\n",
        "\n",
        "plt.show()"
      ],
      "metadata": {
        "id": "IFIZJbf7lrMb"
      },
      "id": "IFIZJbf7lrMb",
      "execution_count": null,
      "outputs": []
    },
    {
      "cell_type": "code",
      "source": [
        "window_spec = Window.orderBy(\"date\")\n",
        "df = df.withColumn(\"prev_flag\", F.lag(\"Covid_Flag\").over(window_spec))\n",
        "\n",
        "start_dates = df.filter((F.col(\"Covid_Flag\") == 1) & (F.col(\"prev_flag\") == 0))\n",
        "\n",
        "start_dates.select(\"Date\").show()"
      ],
      "metadata": {
        "id": "bLM_LWCw6Im0"
      },
      "id": "bLM_LWCw6Im0",
      "execution_count": null,
      "outputs": []
    },
    {
      "cell_type": "markdown",
      "source": [
        "**Observation**  \n",
        "Covid Flag started from February 09, 2020.  "
      ],
      "metadata": {
        "id": "czESDqtHIr9_"
      },
      "id": "czESDqtHIr9_"
    },
    {
      "cell_type": "code",
      "source": [
        "pandas_df.head()"
      ],
      "metadata": {
        "id": "XxUwm_pHpDNK"
      },
      "id": "XxUwm_pHpDNK",
      "execution_count": null,
      "outputs": []
    },
    {
      "cell_type": "code",
      "source": [
        "pandas_df['date'] = pd.to_datetime(pandas_df['date'])\n",
        "\n",
        "yearly_profit = pandas_df.groupby([pandas_df['date'].dt.year, 'Product'])['Sales'].sum().reset_index()\n",
        "\n",
        "plt.figure(figsize=(12, 6))\n",
        "sns.barplot(data=yearly_profit, x='date', y='Sales', hue='Product')\n",
        "plt.xlabel('Year')\n",
        "plt.ylabel('Total Sales')\n",
        "plt.title('Yearly Sales by Product')\n",
        "plt.xticks(rotation=45)\n",
        "plt.legend(loc='upper right')\n",
        "plt.show()"
      ],
      "metadata": {
        "id": "23p6reSQtLW4"
      },
      "id": "23p6reSQtLW4",
      "execution_count": null,
      "outputs": []
    },
    {
      "cell_type": "code",
      "source": [
        "\n",
        "pandas_df['date'] = pd.to_datetime(pandas_df['date'])\n",
        "\n",
        "monthly_profit = pandas_df.groupby([pandas_df['date'].dt.to_period('M'), 'Product'])['Sales'].sum().reset_index()\n",
        "plt.figure(figsize=(20, 6))\n",
        "\n",
        "plt.figure(figsize=(12, 6))\n",
        "sns.barplot(data=monthly_profit, x='date', y='Sales', hue='Product')\n",
        "plt.xlabel('Year-Month')\n",
        "plt.ylabel('Total Sales')\n",
        "plt.title('Monthly Sales by Product')\n",
        "plt.xticks(rotation=45)\n",
        "plt.legend(loc='upper right')\n",
        "plt.show()\n"
      ],
      "metadata": {
        "id": "zeBkm-vQq0Qz"
      },
      "id": "zeBkm-vQq0Qz",
      "execution_count": null,
      "outputs": []
    },
    {
      "cell_type": "code",
      "source": [
        "! pip install plotly"
      ],
      "metadata": {
        "id": "asr-Co77NPAJ"
      },
      "id": "asr-Co77NPAJ",
      "execution_count": null,
      "outputs": []
    },
    {
      "cell_type": "code",
      "source": [
        "import plotly.express as px\n",
        "\n",
        "pandas_df = df.toPandas()\n",
        "\n",
        "fig = px.line(pandas_df, x='date', y='Google_Mobility', title='Google_Mobility')\n",
        "\n",
        "fig.show()"
      ],
      "metadata": {
        "id": "qLg5EgdEs7cH"
      },
      "id": "qLg5EgdEs7cH",
      "execution_count": null,
      "outputs": []
    },
    {
      "cell_type": "markdown",
      "source": [
        "**Observation**  \n",
        "-Google Mobility is realted Covid19. This is because the line is flat until February 2, 2020 above the plot. The flat line means there are no activities and no exisiting record.   \n",
        "-After February 9, 2020, it started fluctuating and keep changing. According to the variable Covid Flag, it started recorded as 1 after February 9, 2020. The timing between Google Mobility and Covid Flag is exactly coinside.  \n",
        "-Google Mobility data tracks travel patterns in detail, such as how often people go to public places and how much time they spend commuting or shopping. This will allow us to assess the risk of spread of infection and predict the spread of infection in a particular region or city.  "
      ],
      "metadata": {
        "id": "aOLv_xbn8pyu"
      },
      "id": "aOLv_xbn8pyu"
    },
    {
      "cell_type": "code",
      "source": [],
      "metadata": {
        "id": "62RkwujF8pBi"
      },
      "id": "62RkwujF8pBi",
      "execution_count": null,
      "outputs": []
    },
    {
      "cell_type": "code",
      "source": [
        "pandas_df = df.select('date', 'Google_Mobility').toPandas()\n",
        "\n",
        "plt.figure()\n",
        "plt.plot(pandas_df['date'], pandas_df['Google_Mobility'])\n",
        "plt.xlabel('date')\n",
        "plt.ylabel('Google_Mobility')\n",
        "plt.title('Google_Mobility')\n",
        "\n",
        "plt.xticks(rotation=45)\n",
        "plt.tight_layout()\n",
        "plt.show()"
      ],
      "metadata": {
        "id": "sZv4v6RLs7aj"
      },
      "id": "sZv4v6RLs7aj",
      "execution_count": null,
      "outputs": []
    },
    {
      "cell_type": "markdown",
      "source": [
        "**To analyze the data pre-Covid and post-Covid, we divide the data to 2.**"
      ],
      "metadata": {
        "id": "WEPT6HtdFiQZ"
      },
      "id": "WEPT6HtdFiQZ"
    },
    {
      "cell_type": "code",
      "source": [
        "#spark = SparkSession.builder.appName(\"DatePartitioning\").getOrCreate()\n",
        "\n",
        "before_date = df.filter(col(\"date\") < \"2020-02-09\")\n",
        "\n",
        "after_date = df.filter(col(\"date\") >= \"2020-02-09\")\n",
        "\n",
        "before_date.show()\n",
        "after_date.show()"
      ],
      "metadata": {
        "id": "GUom1q0fs7Tn"
      },
      "id": "GUom1q0fs7Tn",
      "execution_count": null,
      "outputs": []
    },
    {
      "cell_type": "code",
      "source": [
        "! pip install pyspark"
      ],
      "metadata": {
        "id": "cxYes_pTJdtQ"
      },
      "id": "cxYes_pTJdtQ",
      "execution_count": null,
      "outputs": []
    },
    {
      "cell_type": "code",
      "source": [
        "!pip install graphframes"
      ],
      "metadata": {
        "id": "5XkgraZVKKbd"
      },
      "id": "5XkgraZVKKbd",
      "execution_count": null,
      "outputs": []
    },
    {
      "cell_type": "code",
      "source": [],
      "metadata": {
        "id": "wMVFVghJOxvu"
      },
      "id": "wMVFVghJOxvu",
      "execution_count": null,
      "outputs": []
    },
    {
      "cell_type": "code",
      "source": [],
      "metadata": {
        "id": "kFnBOyG2OxtZ"
      },
      "id": "kFnBOyG2OxtZ",
      "execution_count": null,
      "outputs": []
    },
    {
      "cell_type": "code",
      "source": [],
      "metadata": {
        "id": "WK_H8W6yOxqt"
      },
      "id": "WK_H8W6yOxqt",
      "execution_count": null,
      "outputs": []
    },
    {
      "cell_type": "code",
      "source": [],
      "metadata": {
        "id": "yTutau_1Oxn4"
      },
      "id": "yTutau_1Oxn4",
      "execution_count": null,
      "outputs": []
    },
    {
      "cell_type": "code",
      "source": [],
      "metadata": {
        "id": "vfkg9OqHOxlA"
      },
      "id": "vfkg9OqHOxlA",
      "execution_count": null,
      "outputs": []
    },
    {
      "cell_type": "code",
      "source": [],
      "metadata": {
        "id": "z-Mie5YjOxjJ"
      },
      "id": "z-Mie5YjOxjJ",
      "execution_count": null,
      "outputs": []
    },
    {
      "cell_type": "code",
      "source": [],
      "metadata": {
        "id": "qH8u7FBas7RF"
      },
      "id": "qH8u7FBas7RF",
      "execution_count": null,
      "outputs": []
    },
    {
      "cell_type": "code",
      "source": [],
      "metadata": {
        "id": "Adu-1l4Ls7II"
      },
      "id": "Adu-1l4Ls7II",
      "execution_count": null,
      "outputs": []
    },
    {
      "cell_type": "code",
      "source": [],
      "metadata": {
        "id": "Z5U5AtmPs660"
      },
      "id": "Z5U5AtmPs660",
      "execution_count": null,
      "outputs": []
    },
    {
      "cell_type": "code",
      "source": [],
      "metadata": {
        "id": "kHwtvGcGs6Ub"
      },
      "id": "kHwtvGcGs6Ub",
      "execution_count": null,
      "outputs": []
    },
    {
      "cell_type": "code",
      "source": [],
      "metadata": {
        "id": "5zLY1iSPIMxy"
      },
      "id": "5zLY1iSPIMxy",
      "execution_count": null,
      "outputs": []
    },
    {
      "cell_type": "code",
      "source": [],
      "metadata": {
        "id": "7zL7aBWFIMn5"
      },
      "id": "7zL7aBWFIMn5",
      "execution_count": null,
      "outputs": []
    },
    {
      "cell_type": "code",
      "source": [],
      "metadata": {
        "id": "xHX3GCiYIMav"
      },
      "id": "xHX3GCiYIMav",
      "execution_count": null,
      "outputs": []
    },
    {
      "cell_type": "code",
      "execution_count": null,
      "id": "e8c8ae93",
      "metadata": {
        "id": "e8c8ae93"
      },
      "outputs": [],
      "source": []
    }
  ],
  "metadata": {
    "kernelspec": {
      "display_name": "Python 3",
      "name": "python3"
    },
    "language_info": {
      "codemirror_mode": {
        "name": "ipython",
        "version": 3
      },
      "file_extension": ".py",
      "mimetype": "text/x-python",
      "name": "python",
      "nbconvert_exporter": "python",
      "pygments_lexer": "ipython3",
      "version": "3.8.5"
    },
    "colab": {
      "provenance": [],
      "gpuType": "T4"
    },
    "accelerator": "GPU"
  },
  "nbformat": 4,
  "nbformat_minor": 5
}